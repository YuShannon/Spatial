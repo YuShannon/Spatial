{
 "cells": [
  {
   "cell_type": "markdown",
   "id": "e4b22ca4-291d-4167-83ef-2b7c33215846",
   "metadata": {},
   "source": [
    "# Find missing mitochondrial genes"
   ]
  },
  {
   "cell_type": "code",
   "execution_count": 1,
   "id": "23880476-85cc-4cc7-9a29-a3b9c615b946",
   "metadata": {},
   "outputs": [],
   "source": [
    "import scanpy as sc\n",
    "import anndata as ad\n",
    "import pandas as pd\n",
    "import numpy as np"
   ]
  },
  {
   "cell_type": "markdown",
   "id": "01d51ffa",
   "metadata": {},
   "source": [
    "#### First trimester single cell"
   ]
  },
  {
   "cell_type": "code",
   "execution_count": 7,
   "id": "a750b9d6-0140-459f-9576-515a71cfab5e",
   "metadata": {},
   "outputs": [],
   "source": [
    "adata = ad.read_h5ad('vt_22.04_annotated.h5ad')"
   ]
  },
  {
   "cell_type": "code",
   "execution_count": 8,
   "id": "da4ec19f-3a71-4295-b03c-bf57c82f6b28",
   "metadata": {},
   "outputs": [],
   "source": [
    "mt_df = pd.read_csv(\"./MitoCarta_full_transformed.csv\")\n",
    "\n",
    "# Extract the gene names, dropping duplicates\n",
    "mt_genes = mt_df['Gene'].unique()\n",
    "\n",
    "# Convert to a list\n",
    "mt_list = mt_genes.tolist()"
   ]
  },
  {
   "cell_type": "code",
   "execution_count": 9,
   "id": "042746d9-d800-4d5c-a354-592fafc1edeb",
   "metadata": {},
   "outputs": [
    {
     "data": {
      "text/plain": [
       "1136"
      ]
     },
     "execution_count": 9,
     "metadata": {},
     "output_type": "execute_result"
    }
   ],
   "source": [
    "len(mt_list)"
   ]
  },
  {
   "cell_type": "code",
   "execution_count": 10,
   "id": "ff4126f5-77ca-436b-9ae4-3d8e6fdb6426",
   "metadata": {},
   "outputs": [
    {
     "data": {
      "text/plain": [
       "['FASTKD5',\n",
       " 'GARS1',\n",
       " 'KARS1',\n",
       " 'MARS2',\n",
       " 'MRPL53',\n",
       " 'MYG1',\n",
       " 'MT-ATP6',\n",
       " 'MT-ATP8',\n",
       " 'MT-CO1',\n",
       " 'MT-CO2',\n",
       " 'MT-CO3',\n",
       " 'MT-CYB',\n",
       " 'MT-ND1',\n",
       " 'MT-ND2',\n",
       " 'MT-ND3',\n",
       " 'MT-ND4',\n",
       " 'MT-ND4L',\n",
       " 'MT-ND5',\n",
       " 'MT-ND6',\n",
       " 'ACOD1',\n",
       " 'ACSM4',\n",
       " 'CYP11B1',\n",
       " 'CYP11B2',\n",
       " 'FTMT',\n",
       " 'GLYAT',\n",
       " 'GPX1',\n",
       " 'HTD2',\n",
       " 'MTARC1',\n",
       " 'MTARC2',\n",
       " 'OXCT2',\n",
       " 'PDHA2',\n",
       " 'PRODH',\n",
       " 'SLC25A31',\n",
       " 'SLC25A52',\n",
       " 'MARCHF5',\n",
       " 'RTL10',\n",
       " 'SPATA19',\n",
       " 'ATP5MF-PTCD1',\n",
       " 'MCCD1',\n",
       " 'RP11_469A15.2']"
      ]
     },
     "execution_count": 10,
     "metadata": {},
     "output_type": "execute_result"
    }
   ],
   "source": [
    "missing_genes = [gene for gene in mt_list if gene not in adata.var_names]\n",
    "missing_genes"
   ]
  },
  {
   "cell_type": "code",
   "execution_count": 11,
   "id": "376575ef",
   "metadata": {},
   "outputs": [
    {
     "data": {
      "text/plain": [
       "40"
      ]
     },
     "execution_count": 11,
     "metadata": {},
     "output_type": "execute_result"
    }
   ],
   "source": [
    "len(missing_genes)"
   ]
  },
  {
   "cell_type": "markdown",
   "id": "16f7df35",
   "metadata": {},
   "source": [
    "#### Third trimester single cell"
   ]
  },
  {
   "cell_type": "code",
   "execution_count": 2,
   "id": "6147bf7d",
   "metadata": {},
   "outputs": [],
   "source": [
    "adata = ad.read_h5ad('./yang_24.06_annotated.h5ad') "
   ]
  },
  {
   "cell_type": "code",
   "execution_count": 3,
   "id": "5d7f4ed2",
   "metadata": {},
   "outputs": [],
   "source": [
    "mt_df = pd.read_csv(\"./MitoCarta_full_transformed.csv\")\n",
    "\n",
    "# Extract the gene names, dropping duplicates\n",
    "mt_genes = mt_df['Gene'].unique()\n",
    "\n",
    "# Convert to a list\n",
    "mt_list = mt_genes.tolist()"
   ]
  },
  {
   "cell_type": "code",
   "execution_count": 4,
   "id": "2c8d70a6",
   "metadata": {},
   "outputs": [
    {
     "data": {
      "text/plain": [
       "1136"
      ]
     },
     "execution_count": 4,
     "metadata": {},
     "output_type": "execute_result"
    }
   ],
   "source": [
    "len(mt_list)"
   ]
  },
  {
   "cell_type": "code",
   "execution_count": 5,
   "id": "7c4a91f8",
   "metadata": {},
   "outputs": [
    {
     "data": {
      "text/plain": [
       "['GARS1',\n",
       " 'KARS1',\n",
       " 'MARS2',\n",
       " 'MYG1',\n",
       " 'MT-ATP6',\n",
       " 'MT-ATP8',\n",
       " 'MT-CO1',\n",
       " 'MT-CO2',\n",
       " 'MT-CO3',\n",
       " 'MT-CYB',\n",
       " 'MT-ND1',\n",
       " 'MT-ND2',\n",
       " 'MT-ND3',\n",
       " 'MT-ND4',\n",
       " 'MT-ND4L',\n",
       " 'MT-ND5',\n",
       " 'MT-ND6',\n",
       " 'ACSM2B',\n",
       " 'ACSM4',\n",
       " 'AGXT2',\n",
       " 'CYP11B1',\n",
       " 'CYP11B2',\n",
       " 'FABP1',\n",
       " 'FTMT',\n",
       " 'GLYAT',\n",
       " 'GPX1',\n",
       " 'HAO2',\n",
       " 'HTD2',\n",
       " 'LIPT1',\n",
       " 'MTARC1',\n",
       " 'MTARC2',\n",
       " 'OXCT2',\n",
       " 'PDHA2',\n",
       " 'PDP2',\n",
       " 'PRODH',\n",
       " 'SLC25A31',\n",
       " 'SLC25A41',\n",
       " 'SLC25A52',\n",
       " 'SLC25A18',\n",
       " 'SLC25A48',\n",
       " 'SPHKAP',\n",
       " 'MARCHF5',\n",
       " 'SPATA19',\n",
       " 'ATP5MF-PTCD1',\n",
       " 'MCCD1',\n",
       " 'RP11_469A15.2']"
      ]
     },
     "execution_count": 5,
     "metadata": {},
     "output_type": "execute_result"
    }
   ],
   "source": [
    "missing_genes = [gene for gene in mt_list if gene not in adata.var_names]\n",
    "missing_genes"
   ]
  },
  {
   "cell_type": "code",
   "execution_count": 6,
   "id": "2b3ae742",
   "metadata": {},
   "outputs": [
    {
     "data": {
      "text/plain": [
       "46"
      ]
     },
     "execution_count": 6,
     "metadata": {},
     "output_type": "execute_result"
    }
   ],
   "source": [
    "len(missing_genes)"
   ]
  },
  {
   "cell_type": "markdown",
   "id": "562ab462",
   "metadata": {},
   "source": [
    "#### First trimester spatial"
   ]
  },
  {
   "cell_type": "code",
   "execution_count": 13,
   "id": "244c74e7",
   "metadata": {},
   "outputs": [],
   "source": [
    "adata = sc.read_h5ad('./Spatial/spatial1_annotated.h5ad')"
   ]
  },
  {
   "cell_type": "code",
   "execution_count": 14,
   "id": "445e41d3",
   "metadata": {},
   "outputs": [],
   "source": [
    "mt_df = pd.read_csv(\"./MitoCarta_full_transformed.csv\")\n",
    "\n",
    "# Extract the gene names, dropping duplicates\n",
    "mt_genes = mt_df['Gene'].unique()\n",
    "\n",
    "# Convert to a list\n",
    "mt_list = mt_genes.tolist()"
   ]
  },
  {
   "cell_type": "code",
   "execution_count": 15,
   "id": "7dabe1fc",
   "metadata": {},
   "outputs": [
    {
     "data": {
      "text/plain": [
       "1136"
      ]
     },
     "execution_count": 15,
     "metadata": {},
     "output_type": "execute_result"
    }
   ],
   "source": [
    "len(mt_list)"
   ]
  },
  {
   "cell_type": "code",
   "execution_count": 16,
   "id": "9c808843",
   "metadata": {
    "scrolled": true
   },
   "outputs": [
    {
     "data": {
      "text/plain": [
       "['ATAD3A',\n",
       " 'ATAD3B',\n",
       " 'GARS1',\n",
       " 'KARS1',\n",
       " 'METTL15',\n",
       " 'METTL5',\n",
       " 'MPV17L2',\n",
       " 'MRPL1',\n",
       " 'MRPL10',\n",
       " 'MRPL11',\n",
       " 'MRPL12',\n",
       " 'MRPL13',\n",
       " 'MRPL14',\n",
       " 'MRPL15',\n",
       " 'MRPL16',\n",
       " 'MRPL17',\n",
       " 'MRPL18',\n",
       " 'MRPL19',\n",
       " 'MRPL2',\n",
       " 'MRPL20',\n",
       " 'MRPL21',\n",
       " 'MRPL22',\n",
       " 'MRPL23',\n",
       " 'MRPL24',\n",
       " 'MRPL27',\n",
       " 'MRPL28',\n",
       " 'MRPL3',\n",
       " 'MRPL30',\n",
       " 'MRPL32',\n",
       " 'MRPL33',\n",
       " 'MRPL34',\n",
       " 'MRPL35',\n",
       " 'MRPL36',\n",
       " 'MRPL37',\n",
       " 'MRPL38',\n",
       " 'MRPL39',\n",
       " 'MRPL4',\n",
       " 'MRPL40',\n",
       " 'MRPL41',\n",
       " 'MRPL42',\n",
       " 'MRPL43',\n",
       " 'MRPL44',\n",
       " 'MRPL45',\n",
       " 'MRPL46',\n",
       " 'MRPL47',\n",
       " 'MRPL48',\n",
       " 'MRPL49',\n",
       " 'MRPL50',\n",
       " 'MRPL51',\n",
       " 'MRPL52',\n",
       " 'MRPL53',\n",
       " 'MRPL54',\n",
       " 'MRPL55',\n",
       " 'MRPL57',\n",
       " 'MRPL58',\n",
       " 'MRPL9',\n",
       " 'MRPS10',\n",
       " 'MRPS11',\n",
       " 'MRPS12',\n",
       " 'MRPS14',\n",
       " 'MRPS15',\n",
       " 'MRPS16',\n",
       " 'MRPS17',\n",
       " 'MRPS18A',\n",
       " 'MRPS18B',\n",
       " 'MRPS18C',\n",
       " 'MRPS2',\n",
       " 'MRPS21',\n",
       " 'MRPS22',\n",
       " 'MRPS23',\n",
       " 'MRPS24',\n",
       " 'MRPS25',\n",
       " 'MRPS26',\n",
       " 'MRPS27',\n",
       " 'MRPS28',\n",
       " 'MRPS30',\n",
       " 'MRPS31',\n",
       " 'MRPS33',\n",
       " 'MRPS34',\n",
       " 'MRPS35',\n",
       " 'MRPS36',\n",
       " 'MRPS5',\n",
       " 'MRPS6',\n",
       " 'MRPS7',\n",
       " 'MRPS9',\n",
       " 'MYG1',\n",
       " 'PNPT1',\n",
       " 'PTCD3',\n",
       " 'TFAM',\n",
       " 'TRMT1',\n",
       " 'PMPCA',\n",
       " 'TOMM20L',\n",
       " 'ATP5F1C',\n",
       " 'ATP5MC1',\n",
       " 'ATP5MD',\n",
       " 'ATP5PO',\n",
       " 'COX11',\n",
       " 'COX20',\n",
       " 'COX6A2',\n",
       " 'DMAC1',\n",
       " 'HIGD1A',\n",
       " 'HIGD2A',\n",
       " 'MT-ATP6',\n",
       " 'MT-ATP8',\n",
       " 'MT-CO1',\n",
       " 'MT-CO2',\n",
       " 'MT-CO3',\n",
       " 'MT-CYB',\n",
       " 'MT-ND1',\n",
       " 'MT-ND2',\n",
       " 'MT-ND3',\n",
       " 'MT-ND4',\n",
       " 'MT-ND4L',\n",
       " 'MT-ND5',\n",
       " 'MT-ND6',\n",
       " 'NDUFA5',\n",
       " 'NDUFB1',\n",
       " 'NDUFB3',\n",
       " 'NDUFB4',\n",
       " 'NDUFB8',\n",
       " 'SDHAF1',\n",
       " 'SDHAF2',\n",
       " 'SDHC',\n",
       " 'UQCR10',\n",
       " 'UQCRH',\n",
       " 'ABCB10',\n",
       " 'ACOD1',\n",
       " 'ACSM1',\n",
       " 'ACSM2A',\n",
       " 'ACSM2B',\n",
       " 'ACSM4',\n",
       " 'ACSM5',\n",
       " 'AGXT2',\n",
       " 'AK2',\n",
       " 'AK3',\n",
       " 'AKR7A2',\n",
       " 'ALDH1L1',\n",
       " 'ALDH7A1',\n",
       " 'CA5A',\n",
       " 'CKMT1A',\n",
       " 'CKMT1B',\n",
       " 'CYP11B1',\n",
       " 'CYP11B2',\n",
       " 'DHRS4',\n",
       " 'DMGDH',\n",
       " 'FABP1',\n",
       " 'FTMT',\n",
       " 'FXN',\n",
       " 'GLUD2',\n",
       " 'GLYAT',\n",
       " 'GPD2',\n",
       " 'GPX1',\n",
       " 'HAO2',\n",
       " 'HIBCH',\n",
       " 'HOGA1',\n",
       " 'HTD2',\n",
       " 'LDHAL6B',\n",
       " 'LDHB',\n",
       " 'LYPLA1',\n",
       " 'MPC1L',\n",
       " 'MTARC1',\n",
       " 'MTARC2',\n",
       " 'NFU1',\n",
       " 'NMNAT3',\n",
       " 'OTC',\n",
       " 'PDHA2',\n",
       " 'PRDX2',\n",
       " 'PRODH',\n",
       " 'PRODH2',\n",
       " 'SFXN5',\n",
       " 'SLC25A20',\n",
       " 'SLC25A31',\n",
       " 'SLC25A38',\n",
       " 'SLC25A5',\n",
       " 'SLC25A51',\n",
       " 'SLC25A52',\n",
       " 'SLC25A6',\n",
       " 'SUCLA2',\n",
       " 'ABCD2',\n",
       " 'MPV17L',\n",
       " 'SLC25A18',\n",
       " 'SLC25A53',\n",
       " 'C1QBP',\n",
       " 'SPHKAP',\n",
       " 'BCL2L10',\n",
       " 'CHCHD3',\n",
       " 'DIABLO',\n",
       " 'MARCHF5',\n",
       " 'GATD3A',\n",
       " 'FAHD2A',\n",
       " 'CCDC90B',\n",
       " 'C8orf82',\n",
       " 'SPATA19',\n",
       " 'SERHL2',\n",
       " 'ATP5MF-PTCD1',\n",
       " 'MCCD1',\n",
       " 'RP11_469A15.2']"
      ]
     },
     "execution_count": 16,
     "metadata": {},
     "output_type": "execute_result"
    }
   ],
   "source": [
    "missing_genes = [gene for gene in mt_list if gene not in adata.var_names]\n",
    "missing_genes"
   ]
  },
  {
   "cell_type": "code",
   "execution_count": 17,
   "id": "6c64950c",
   "metadata": {},
   "outputs": [
    {
     "data": {
      "text/plain": [
       "197"
      ]
     },
     "execution_count": 17,
     "metadata": {},
     "output_type": "execute_result"
    }
   ],
   "source": [
    "len(missing_genes)"
   ]
  },
  {
   "cell_type": "markdown",
   "id": "7f9cbc4f",
   "metadata": {},
   "source": [
    "#### Third trimester spatial"
   ]
  },
  {
   "cell_type": "code",
   "execution_count": 19,
   "id": "b203a110",
   "metadata": {},
   "outputs": [],
   "source": [
    "adata = sc.read_h5ad('./Spatial/spatial3_annotated.h5ad')"
   ]
  },
  {
   "cell_type": "code",
   "execution_count": 20,
   "id": "20e3d2fb",
   "metadata": {},
   "outputs": [],
   "source": [
    "mt_df = pd.read_csv(\"./MitoCarta_full_transformed.csv\")\n",
    "\n",
    "# Extract the gene names, dropping duplicates\n",
    "mt_genes = mt_df['Gene'].unique()\n",
    "\n",
    "# Convert to a list\n",
    "mt_list = mt_genes.tolist()"
   ]
  },
  {
   "cell_type": "code",
   "execution_count": 21,
   "id": "95541122",
   "metadata": {},
   "outputs": [
    {
     "data": {
      "text/plain": [
       "1136"
      ]
     },
     "execution_count": 21,
     "metadata": {},
     "output_type": "execute_result"
    }
   ],
   "source": [
    "len(mt_list)"
   ]
  },
  {
   "cell_type": "code",
   "execution_count": 22,
   "id": "69eca1bb",
   "metadata": {},
   "outputs": [
    {
     "data": {
      "text/plain": [
       "['ATAD3A',\n",
       " 'ATAD3B',\n",
       " 'GARS1',\n",
       " 'KARS1',\n",
       " 'METTL15',\n",
       " 'METTL5',\n",
       " 'MPV17L2',\n",
       " 'MRPL1',\n",
       " 'MRPL10',\n",
       " 'MRPL11',\n",
       " 'MRPL12',\n",
       " 'MRPL13',\n",
       " 'MRPL14',\n",
       " 'MRPL15',\n",
       " 'MRPL16',\n",
       " 'MRPL17',\n",
       " 'MRPL18',\n",
       " 'MRPL19',\n",
       " 'MRPL2',\n",
       " 'MRPL20',\n",
       " 'MRPL21',\n",
       " 'MRPL22',\n",
       " 'MRPL23',\n",
       " 'MRPL24',\n",
       " 'MRPL27',\n",
       " 'MRPL28',\n",
       " 'MRPL3',\n",
       " 'MRPL30',\n",
       " 'MRPL32',\n",
       " 'MRPL33',\n",
       " 'MRPL34',\n",
       " 'MRPL35',\n",
       " 'MRPL36',\n",
       " 'MRPL37',\n",
       " 'MRPL38',\n",
       " 'MRPL39',\n",
       " 'MRPL4',\n",
       " 'MRPL40',\n",
       " 'MRPL41',\n",
       " 'MRPL42',\n",
       " 'MRPL43',\n",
       " 'MRPL44',\n",
       " 'MRPL45',\n",
       " 'MRPL46',\n",
       " 'MRPL47',\n",
       " 'MRPL48',\n",
       " 'MRPL49',\n",
       " 'MRPL50',\n",
       " 'MRPL51',\n",
       " 'MRPL52',\n",
       " 'MRPL53',\n",
       " 'MRPL54',\n",
       " 'MRPL55',\n",
       " 'MRPL57',\n",
       " 'MRPL58',\n",
       " 'MRPL9',\n",
       " 'MRPS10',\n",
       " 'MRPS11',\n",
       " 'MRPS12',\n",
       " 'MRPS14',\n",
       " 'MRPS15',\n",
       " 'MRPS16',\n",
       " 'MRPS17',\n",
       " 'MRPS18A',\n",
       " 'MRPS18B',\n",
       " 'MRPS18C',\n",
       " 'MRPS2',\n",
       " 'MRPS21',\n",
       " 'MRPS22',\n",
       " 'MRPS23',\n",
       " 'MRPS24',\n",
       " 'MRPS25',\n",
       " 'MRPS26',\n",
       " 'MRPS27',\n",
       " 'MRPS28',\n",
       " 'MRPS30',\n",
       " 'MRPS31',\n",
       " 'MRPS33',\n",
       " 'MRPS34',\n",
       " 'MRPS35',\n",
       " 'MRPS36',\n",
       " 'MRPS5',\n",
       " 'MRPS6',\n",
       " 'MRPS7',\n",
       " 'MRPS9',\n",
       " 'MYG1',\n",
       " 'PNPT1',\n",
       " 'PTCD3',\n",
       " 'TFAM',\n",
       " 'TRMT1',\n",
       " 'PMPCA',\n",
       " 'TOMM20L',\n",
       " 'ATP5F1C',\n",
       " 'ATP5MC1',\n",
       " 'ATP5MD',\n",
       " 'ATP5PO',\n",
       " 'COX11',\n",
       " 'COX20',\n",
       " 'DMAC1',\n",
       " 'HIGD1A',\n",
       " 'HIGD2A',\n",
       " 'MT-ATP6',\n",
       " 'MT-ATP8',\n",
       " 'MT-CO1',\n",
       " 'MT-CO2',\n",
       " 'MT-CO3',\n",
       " 'MT-CYB',\n",
       " 'MT-ND1',\n",
       " 'MT-ND2',\n",
       " 'MT-ND3',\n",
       " 'MT-ND4',\n",
       " 'MT-ND4L',\n",
       " 'MT-ND5',\n",
       " 'MT-ND6',\n",
       " 'NDUFA5',\n",
       " 'NDUFB1',\n",
       " 'NDUFB3',\n",
       " 'NDUFB4',\n",
       " 'NDUFB8',\n",
       " 'SDHAF1',\n",
       " 'SDHAF2',\n",
       " 'SDHC',\n",
       " 'UQCR10',\n",
       " 'UQCRH',\n",
       " 'ABCB10',\n",
       " 'ACOD1',\n",
       " 'ACSM2A',\n",
       " 'ACSM2B',\n",
       " 'ACSM4',\n",
       " 'AK2',\n",
       " 'AK3',\n",
       " 'AKR7A2',\n",
       " 'ALDH7A1',\n",
       " 'CA5A',\n",
       " 'CKMT1A',\n",
       " 'CKMT1B',\n",
       " 'CYP11B1',\n",
       " 'CYP11B2',\n",
       " 'DHRS4',\n",
       " 'FABP1',\n",
       " 'FTMT',\n",
       " 'FXN',\n",
       " 'GLUD2',\n",
       " 'GLYAT',\n",
       " 'GPD2',\n",
       " 'GPX1',\n",
       " 'HIBCH',\n",
       " 'HTD2',\n",
       " 'LDHAL6B',\n",
       " 'LDHB',\n",
       " 'LYPLA1',\n",
       " 'MPC1L',\n",
       " 'MTARC1',\n",
       " 'MTARC2',\n",
       " 'NFU1',\n",
       " 'NMNAT3',\n",
       " 'OTC',\n",
       " 'PDHA2',\n",
       " 'PRDX2',\n",
       " 'PRODH',\n",
       " 'PRODH2',\n",
       " 'SFXN5',\n",
       " 'SLC25A20',\n",
       " 'SLC25A31',\n",
       " 'SLC25A38',\n",
       " 'SLC25A5',\n",
       " 'SLC25A51',\n",
       " 'SLC25A52',\n",
       " 'SLC25A6',\n",
       " 'SUCLA2',\n",
       " 'MPV17L',\n",
       " 'SLC25A53',\n",
       " 'C1QBP',\n",
       " 'SPHKAP',\n",
       " 'BCL2L10',\n",
       " 'CHCHD3',\n",
       " 'DIABLO',\n",
       " 'MARCHF5',\n",
       " 'GATD3A',\n",
       " 'FAHD2A',\n",
       " 'CCDC90B',\n",
       " 'C8orf82',\n",
       " 'SPATA19',\n",
       " 'SERHL2',\n",
       " 'ATP5MF-PTCD1',\n",
       " 'MCCD1',\n",
       " 'RP11_469A15.2']"
      ]
     },
     "execution_count": 22,
     "metadata": {},
     "output_type": "execute_result"
    }
   ],
   "source": [
    "missing_genes = [gene for gene in mt_list if gene not in adata.var_names]\n",
    "missing_genes"
   ]
  },
  {
   "cell_type": "code",
   "execution_count": 23,
   "id": "97f1327c",
   "metadata": {},
   "outputs": [
    {
     "data": {
      "text/plain": [
       "187"
      ]
     },
     "execution_count": 23,
     "metadata": {},
     "output_type": "execute_result"
    }
   ],
   "source": [
    "len(missing_genes)"
   ]
  }
 ],
 "metadata": {
  "kernelspec": {
   "display_name": "RP1",
   "language": "python",
   "name": "rp1"
  },
  "language_info": {
   "codemirror_mode": {
    "name": "ipython",
    "version": 3
   },
   "file_extension": ".py",
   "mimetype": "text/x-python",
   "name": "python",
   "nbconvert_exporter": "python",
   "pygments_lexer": "ipython3",
   "version": "3.10.16"
  }
 },
 "nbformat": 4,
 "nbformat_minor": 5
}
