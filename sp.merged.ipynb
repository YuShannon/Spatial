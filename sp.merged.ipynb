{
 "cells": [
  {
   "cell_type": "code",
   "execution_count": 1,
   "id": "9a5b316e-ee70-4c31-abdf-5d3f124bd550",
   "metadata": {},
   "outputs": [],
   "source": [
    "import scanpy as sc\n",
    "import anndata as ad\n",
    "import pandas as pd\n",
    "import numpy as np\n",
    "import matplotlib.pyplot as plt\n",
    "import seaborn as sns"
   ]
  },
  {
   "cell_type": "code",
   "execution_count": 3,
   "id": "9c4eb314-2ab6-4680-b265-9ff27bc35384",
   "metadata": {
    "scrolled": true
   },
   "outputs": [],
   "source": [
    "# Load the datasets\n",
    "adata_spatial1 = sc.read_h5ad('./spatial1_annotated.h5ad')\n",
    "adata_spatial3 = sc.read_h5ad('./spatial3_annotated.h5ad')"
   ]
  },
  {
   "cell_type": "code",
   "execution_count": 4,
   "id": "35a7f0e1",
   "metadata": {},
   "outputs": [
    {
     "data": {
      "text/plain": [
       "AnnData object with n_obs × n_vars = 4917 × 14912\n",
       "    obs: 'in_tissue', 'array_row', 'array_col', 'Trimester', 'Sample', 'Gestation', 'Code', 'Batch', 'n_genes_by_counts', 'total_counts', 'n_genes', 'leiden', 'cell_type', 'unique_cell_type'\n",
       "    var: 'gene_ids', 'feature_types', 'genome', 'n_cells_by_counts', 'mean_counts', 'pct_dropout_by_counts', 'total_counts', 'n_cells', 'highly_variable', 'highly_variable_rank', 'means', 'variances', 'variances_norm', 'highly_variable_nbatches'\n",
       "    uns: 'Gestation_colors', 'Sample_colors', 'cell_type_colors', 'hvg', 'leiden', 'leiden_colors', 'log1p', 'neighbors', 'pca', 'spatial', 'umap'\n",
       "    obsm: 'X_pca', 'X_pca_harmony', 'X_spatial_First_tri_1', 'X_spatial_First_tri_2', 'X_spatial_First_tri_3', 'X_spatial_Merged', 'X_umap', 'spatial'\n",
       "    varm: 'PCs'\n",
       "    obsp: 'connectivities', 'distances'"
      ]
     },
     "execution_count": 4,
     "metadata": {},
     "output_type": "execute_result"
    }
   ],
   "source": [
    "adata_spatial1"
   ]
  },
  {
   "cell_type": "code",
   "execution_count": 5,
   "id": "204bb38f",
   "metadata": {},
   "outputs": [
    {
     "data": {
      "text/plain": [
       "AnnData object with n_obs × n_vars = 17539 × 16134\n",
       "    obs: 'in_tissue', 'array_row', 'array_col', 'Trimester', 'Sample', 'Pathology', 'Sex', 'Gestation', 'Centile', 'Delivery', 'BMI', 'Mat_age', 'Code', 'Batch', 'Batch2', 'Pathology2', 'n_genes_by_counts', 'log1p_n_genes_by_counts', 'total_counts', 'log1p_total_counts', 'Gestation2', 'n_genes', 'leiden', 'leiden_1', 'leiden_2', 'leiden_1.5', 'cell_type', 'unique_cell_type'\n",
       "    var: 'gene_ids', 'feature_types', 'genome', 'n_cells_by_counts', 'mean_counts', 'log1p_mean_counts', 'pct_dropout_by_counts', 'total_counts', 'log1p_total_counts', 'n_cells', 'highly_variable', 'means', 'dispersions', 'dispersions_norm'\n",
       "    uns: 'Delivery_colors', 'Gestation2_colors', 'Gestation_colors', 'Pathology_colors', 'Sample_colors', 'Sex_colors', 'dendrogram_Sample', 'hvg', 'leiden', 'leiden_1', 'leiden_1.5', 'leiden_1.5_colors', 'leiden_1_colors', 'leiden_2', 'leiden_2_colors', 'leiden_colors', 'log1p', 'neighbors', 'pca', 'spatial', 'umap', 'wilcoxon_clusters', 'wilcoxon_leiden', 'wilcoxon_pathology'\n",
       "    obsm: 'X_pca', 'X_pca_harmony', 'X_spatial_Control_1', 'X_spatial_Control_2', 'X_spatial_FGR_1', 'X_spatial_FGR_2', 'X_spatial_Merged', 'X_umap', 'spatial'\n",
       "    varm: 'PCs'\n",
       "    obsp: 'connectivities', 'distances'"
      ]
     },
     "execution_count": 5,
     "metadata": {},
     "output_type": "execute_result"
    }
   ],
   "source": [
    "adata_spatial3"
   ]
  },
  {
   "cell_type": "code",
   "execution_count": 3,
   "id": "38f26f09-9892-4c18-a277-e7dcafa1dcb7",
   "metadata": {},
   "outputs": [
    {
     "data": {
      "text/plain": [
       "{}"
      ]
     },
     "execution_count": 3,
     "metadata": {},
     "output_type": "execute_result"
    }
   ],
   "source": [
    "# Undo log1p (for both datasets)\n",
    "adata_spatial1.X = np.expm1(adata_spatial1.X)\n",
    "adata_spatial3.X = np.expm1(adata_spatial3.X)\n",
    "\n",
    "# Clear the log1p flag\n",
    "adata_spatial1.uns.pop('log1p', None)\n",
    "adata_spatial3.uns.pop('log1p', None)"
   ]
  },
  {
   "cell_type": "code",
   "execution_count": 4,
   "id": "13bc4c70-e900-459b-a1a7-2d8a96918e88",
   "metadata": {},
   "outputs": [],
   "source": [
    "# Remove genes with all zeros in each dataset\n",
    "# This will keep genes that are expressed in at least one cell\n",
    "adata_spatial1 = adata_spatial1[:, np.asarray((adata_spatial1.X > 0).sum(axis=0)).flatten() > 0]\n",
    "adata_spatial3 = adata_spatial3[:, np.asarray((adata_spatial3.X > 0).sum(axis=0)).flatten() > 0]"
   ]
  },
  {
   "cell_type": "code",
   "execution_count": 5,
   "id": "b4a3a889-b558-4960-af27-7cb4140920b1",
   "metadata": {},
   "outputs": [
    {
     "name": "stderr",
     "output_type": "stream",
     "text": [
      "/tmp/ipykernel_246717/415707543.py:1: ImplicitModificationWarning: Trying to modify attribute `.obs` of view, initializing view as actual.\n",
      "  adata_spatial1.obs['Pathology'] = 'Control'\n"
     ]
    }
   ],
   "source": [
    "adata_spatial1.obs['Pathology'] = 'Control'"
   ]
  },
  {
   "cell_type": "code",
   "execution_count": 6,
   "id": "e6dfb04d-9bbf-4649-892e-6d2c562a637e",
   "metadata": {},
   "outputs": [],
   "source": [
    "# Concatenate datasets\n",
    "adata = ad.concat([adata_spatial1, adata_spatial3], join='inner',index_unique='_')"
   ]
  },
  {
   "cell_type": "code",
   "execution_count": 7,
   "id": "d1b1d441-e49d-4f0f-8c2d-e3a391ce017d",
   "metadata": {},
   "outputs": [
    {
     "name": "stdout",
     "output_type": "stream",
     "text": [
      "Min: 4816.23\n",
      "Max: 6511.00\n",
      "Mean: 5214.60\n",
      "Median: 4852.11\n",
      "Std Dev: 686.05\n"
     ]
    }
   ],
   "source": [
    "import scipy.sparse as sp\n",
    "\n",
    "# Compute total counts per cell\n",
    "if sp.issparse(adata.X):\n",
    "    total_counts = np.array(adata.X.sum(axis=1)).flatten()\n",
    "else:\n",
    "    total_counts = adata.X.sum(axis=1)\n",
    "\n",
    "# Compute summary statistics\n",
    "print(f\"Min: {total_counts.min():.2f}\")\n",
    "print(f\"Max: {total_counts.max():.2f}\")\n",
    "print(f\"Mean: {total_counts.mean():.2f}\")\n",
    "print(f\"Median: {np.median(total_counts):.2f}\")\n",
    "print(f\"Std Dev: {total_counts.std():.2f}\")"
   ]
  },
  {
   "cell_type": "code",
   "execution_count": 8,
   "id": "94b40828-7460-4b7e-9a72-a364fc9fa7fb",
   "metadata": {},
   "outputs": [],
   "source": [
    "# Normalize with a fixed target_sum (to ensure comparability)\n",
    "sc.pp.normalize_total(adata, target_sum=1e4)"
   ]
  },
  {
   "cell_type": "code",
   "execution_count": 9,
   "id": "4adccd35-2147-426d-a226-eb25ee1c9b1f",
   "metadata": {},
   "outputs": [
    {
     "name": "stdout",
     "output_type": "stream",
     "text": [
      "Min: 9999.99\n",
      "Max: 10000.00\n",
      "Mean: 10000.00\n",
      "Median: 10000.00\n",
      "Std Dev: 0.00\n"
     ]
    }
   ],
   "source": [
    "# Compute total counts per cell\n",
    "if sp.issparse(adata.X):\n",
    "    total_counts = np.array(adata.X.sum(axis=1)).flatten()\n",
    "else:\n",
    "    total_counts = adata.X.sum(axis=1)\n",
    "\n",
    "# Compute summary statistics\n",
    "print(f\"Min: {total_counts.min():.2f}\")\n",
    "print(f\"Max: {total_counts.max():.2f}\")\n",
    "print(f\"Mean: {total_counts.mean():.2f}\")\n",
    "print(f\"Median: {np.median(total_counts):.2f}\")\n",
    "print(f\"Std Dev: {total_counts.std():.2f}\")"
   ]
  },
  {
   "cell_type": "code",
   "execution_count": 10,
   "id": "ad939eab-e85a-4f6c-bac1-ffbf2c46823e",
   "metadata": {},
   "outputs": [],
   "source": [
    "sc.pp.log1p(adata)"
   ]
  },
  {
   "cell_type": "code",
   "execution_count": 11,
   "id": "5b0f9540-0f57-4c89-bb2a-a23e723aa5be",
   "metadata": {},
   "outputs": [
    {
     "data": {
      "text/plain": [
       "AnnData object with n_obs × n_vars = 22456 × 14781\n",
       "    obs: 'in_tissue', 'array_row', 'array_col', 'Trimester', 'Sample', 'Gestation', 'Code', 'Batch', 'n_genes_by_counts', 'total_counts', 'n_genes', 'leiden', 'cell_type', 'unique_cell_type', 'Pathology'\n",
       "    uns: 'log1p'\n",
       "    obsm: 'X_pca', 'X_pca_harmony', 'X_spatial_Merged', 'X_umap', 'spatial'"
      ]
     },
     "execution_count": 11,
     "metadata": {},
     "output_type": "execute_result"
    }
   ],
   "source": [
    "adata"
   ]
  },
  {
   "cell_type": "markdown",
   "id": "85eb5d10-e142-4521-a3fc-be243cafbc98",
   "metadata": {
    "jp-MarkdownHeadingCollapsed": true
   },
   "source": [
    "#### Check housekeeping genes ####"
   ]
  },
  {
   "cell_type": "code",
   "execution_count": 12,
   "id": "476a722d-6f00-4514-b201-656c5349c80e",
   "metadata": {},
   "outputs": [
    {
     "name": "stdout",
     "output_type": "stream",
     "text": [
      "Available housekeeping genes: ['ACTB', 'ENO1', 'EIF4A1', 'HSP90AA1', 'HSPA8', 'POLR2A', 'TOP1', 'PCNA', 'B2M', 'HPRT1', 'TBP', 'UBC']\n",
      "Missing genes: {'YWHAZ', 'GAPDH', 'RPS27A', 'RPL32', 'TUBB', 'PKM', 'EEF1A1', 'RPL19', 'RPL13A', 'LDHA', 'RPS18', 'RPS13'}\n"
     ]
    }
   ],
   "source": [
    "# Define housekeeping genes (common ones found in most datasets)\n",
    "housekeeping_genes = [\n",
    "    # Ribosomal proteins\n",
    "    'RPL13A', 'RPS18', 'RPL32', 'RPS27A', 'RPL19', 'RPS13',\n",
    "    \n",
    "    # Glycolysis/metabolism\n",
    "    'GAPDH', 'ACTB', 'TUBB', 'LDHA', 'ENO1', 'PKM',\n",
    "    \n",
    "    # Protein synthesis/processing\n",
    "    'EEF1A1', 'EIF4A1', 'HSP90AA1', 'HSPA8',\n",
    "    \n",
    "    # DNA/RNA processing\n",
    "    'POLR2A', 'TOP1', 'PCNA',\n",
    "    \n",
    "    # Other common housekeepers\n",
    "    'B2M', 'HPRT1', 'TBP', 'YWHAZ', 'UBC'\n",
    "]\n",
    "\n",
    "# Check which housekeeping genes are present in your dataset\n",
    "available_hk_genes = [gene for gene in housekeeping_genes if gene in adata.var_names]\n",
    "print(f\"Available housekeeping genes: {available_hk_genes}\")\n",
    "print(f\"Missing genes: {set(housekeeping_genes) - set(available_hk_genes)}\")"
   ]
  },
  {
   "cell_type": "code",
   "execution_count": 13,
   "id": "f882605e-f067-4e85-914b-aae70c2fc861",
   "metadata": {},
   "outputs": [
    {
     "name": "stdout",
     "output_type": "stream",
     "text": [
      "        gene  group  mean_expression  std_expression  median_expression  \\\n",
      "0       ACTB  First         3.247270        0.637712           3.342539   \n",
      "1       ENO1  First         1.658612        0.855850           1.732085   \n",
      "2     EIF4A1  First         1.838126        0.716103           1.993496   \n",
      "3   HSP90AA1  First         2.751181        1.029568           3.012208   \n",
      "4      HSPA8  First         2.540668        0.924376           2.764398   \n",
      "5     POLR2A  First         0.515402        0.591477           0.000000   \n",
      "6       TOP1  First         1.020959        0.716112           1.170255   \n",
      "7       PCNA  First         0.437193        0.567442           0.000000   \n",
      "8        B2M  First         1.813452        0.766912           1.932994   \n",
      "9      HPRT1  First         0.085143        0.278044           0.000000   \n",
      "10       TBP  First         0.061420        0.225513           0.000000   \n",
      "11       UBC  First         4.267153        0.402188           4.253246   \n",
      "12      ACTB  Third         3.321409        0.614851           3.385774   \n",
      "13      ENO1  Third         0.976031        0.788343           1.135961   \n",
      "14    EIF4A1  Third         1.837073        0.783357           2.020393   \n",
      "15  HSP90AA1  Third         2.085603        0.769542           2.262064   \n",
      "16     HSPA8  Third         2.196217        0.763147           2.372381   \n",
      "17    POLR2A  Third         0.513484        0.641503           0.000000   \n",
      "18      TOP1  Third         1.049671        0.784798           1.216650   \n",
      "19      PCNA  Third         0.390081        0.579179           0.000000   \n",
      "20       B2M  Third         2.511324        0.787301           2.648643   \n",
      "21     HPRT1  Third         0.100453        0.316895           0.000000   \n",
      "22       TBP  Third         0.076668        0.281231           0.000000   \n",
      "23       UBC  Third         4.084748        0.406456           4.129700   \n",
      "\n",
      "    n_cells  \n",
      "0      4917  \n",
      "1      4917  \n",
      "2      4917  \n",
      "3      4917  \n",
      "4      4917  \n",
      "5      4917  \n",
      "6      4917  \n",
      "7      4917  \n",
      "8      4917  \n",
      "9      4917  \n",
      "10     4917  \n",
      "11     4917  \n",
      "12    17539  \n",
      "13    17539  \n",
      "14    17539  \n",
      "15    17539  \n",
      "16    17539  \n",
      "17    17539  \n",
      "18    17539  \n",
      "19    17539  \n",
      "20    17539  \n",
      "21    17539  \n",
      "22    17539  \n",
      "23    17539  \n"
     ]
    }
   ],
   "source": [
    "# Function to compare housekeeping genes between trimesters\n",
    "def compare_housekeeping_expression(adata, hk_genes, groupby='Trimester'):\n",
    "    \"\"\"\n",
    "    Compare housekeeping gene expression between groups\n",
    "    \"\"\"\n",
    "    # Create dataframe for housekeeping gene expression\n",
    "    hk_expr_data = []\n",
    "    \n",
    "    for group in adata.obs[groupby].unique():\n",
    "        group_mask = adata.obs[groupby] == group\n",
    "        group_cells = adata[group_mask, :]\n",
    "        \n",
    "        for gene in hk_genes:\n",
    "            if gene in adata.var_names:\n",
    "                mean_expr = np.mean(group_cells[:, gene].X.toarray().flatten())\n",
    "                std_expr = np.std(group_cells[:, gene].X.toarray().flatten())\n",
    "                median_expr = np.median(group_cells[:, gene].X.toarray().flatten())\n",
    "                \n",
    "                hk_expr_data.append({\n",
    "                    'gene': gene,\n",
    "                    'group': group,\n",
    "                    'mean_expression': mean_expr,\n",
    "                    'std_expression': std_expr,\n",
    "                    'median_expression': median_expr,\n",
    "                    'n_cells': group_mask.sum()\n",
    "                })\n",
    "    \n",
    "    return pd.DataFrame(hk_expr_data)\n",
    "\n",
    "# Get housekeeping gene expression data\n",
    "hk_df = compare_housekeeping_expression(adata, available_hk_genes)\n",
    "print(hk_df)"
   ]
  },
  {
   "cell_type": "markdown",
   "id": "8bfad271-7371-4c22-8252-671f60ac0168",
   "metadata": {},
   "source": [
    "#### Batch correction ####"
   ]
  },
  {
   "cell_type": "code",
   "execution_count": 14,
   "id": "6acb2250-9a83-4ed9-9bc2-d0d545f31ff7",
   "metadata": {},
   "outputs": [],
   "source": [
    "sc.pp.combat(adata, key='Trimester')"
   ]
  },
  {
   "cell_type": "code",
   "execution_count": 15,
   "id": "9261a228-92f3-4acb-bbb7-74861d08eb00",
   "metadata": {
    "scrolled": true
   },
   "outputs": [],
   "source": [
    "adata.write('spatialmerged_07.07.h5ad') "
   ]
  },
  {
   "cell_type": "code",
   "execution_count": 2,
   "id": "a558643d",
   "metadata": {},
   "outputs": [],
   "source": [
    "adata = sc.read_h5ad('./spatialmerged_07.07.h5ad')"
   ]
  },
  {
   "cell_type": "markdown",
   "id": "46e05b54-ec60-409e-bfbf-f43c5d475041",
   "metadata": {
    "jp-MarkdownHeadingCollapsed": true
   },
   "source": [
    "#### Check housekeeping genes again ####"
   ]
  },
  {
   "cell_type": "code",
   "execution_count": 16,
   "id": "6ca4cc2c-9d98-4649-ac02-a3d9ac57cb6e",
   "metadata": {},
   "outputs": [
    {
     "name": "stdout",
     "output_type": "stream",
     "text": [
      "        gene  group  mean_expression  std_expression  median_expression  \\\n",
      "0       ACTB  First         3.304951        0.620005           3.397575   \n",
      "1       ENO1  First         1.128751        0.803736           1.197750   \n",
      "2     EIF4A1  First         1.837424        0.769121           2.004297   \n",
      "3   HSP90AA1  First         2.235029        0.833701           2.446398   \n",
      "4      HSPA8  First         2.273494        0.801430           2.467466   \n",
      "5     POLR2A  First         0.514008        0.630885          -0.035734   \n",
      "6       TOP1  First         1.043385        0.770268           1.203972   \n",
      "7       PCNA  First         0.400688        0.576666          -0.043613   \n",
      "8        B2M  First         2.355702        0.782922           2.477739   \n",
      "9      HPRT1  First         0.097086        0.308785           0.002530   \n",
      "10       TBP  First         0.073311        0.269961          -0.000214   \n",
      "11       UBC  First         4.125531        0.405555           4.111506   \n",
      "12      ACTB  Third         3.305389        0.619846           3.370277   \n",
      "13      ENO1  Third         1.122522        0.803445           1.285516   \n",
      "14    EIF4A1  Third         1.837173        0.769144           2.017168   \n",
      "15  HSP90AA1  Third         2.228601        0.832961           2.419605   \n",
      "16     HSPA8  Third         2.270123        0.800926           2.455008   \n",
      "17    POLR2A  Third         0.513793        0.630892           0.008803   \n",
      "18      TOP1  Third         1.043382        0.770294           1.207276   \n",
      "19      PCNA  Third         0.400104        0.576593           0.011764   \n",
      "20       B2M  Third         2.361366        0.782833           2.497906   \n",
      "21     HPRT1  Third         0.097117        0.308823          -0.000778   \n",
      "22       TBP  Third         0.073352        0.270052          -0.000269   \n",
      "23       UBC  Third         4.123848        0.405494           4.168694   \n",
      "\n",
      "    n_cells  \n",
      "0      4917  \n",
      "1      4917  \n",
      "2      4917  \n",
      "3      4917  \n",
      "4      4917  \n",
      "5      4917  \n",
      "6      4917  \n",
      "7      4917  \n",
      "8      4917  \n",
      "9      4917  \n",
      "10     4917  \n",
      "11     4917  \n",
      "12    17539  \n",
      "13    17539  \n",
      "14    17539  \n",
      "15    17539  \n",
      "16    17539  \n",
      "17    17539  \n",
      "18    17539  \n",
      "19    17539  \n",
      "20    17539  \n",
      "21    17539  \n",
      "22    17539  \n",
      "23    17539  \n"
     ]
    }
   ],
   "source": [
    "# Function to compare housekeeping genes between trimesters\n",
    "def compare_housekeeping_expression(adata, hk_genes, groupby='Trimester'):\n",
    "    \"\"\"\n",
    "    Compare housekeeping gene expression between groups\n",
    "    \"\"\"\n",
    "    # Create dataframe for housekeeping gene expression\n",
    "    hk_expr_data = []\n",
    "    \n",
    "    for group in adata.obs[groupby].unique():\n",
    "        group_mask = adata.obs[groupby] == group\n",
    "        group_cells = adata[group_mask, :]\n",
    "        \n",
    "        for gene in hk_genes:\n",
    "            if gene in adata.var_names:\n",
    "                mean_expr = np.mean(group_cells[:, gene].X.toarray().flatten())\n",
    "                std_expr = np.std(group_cells[:, gene].X.toarray().flatten())\n",
    "                median_expr = np.median(group_cells[:, gene].X.toarray().flatten())\n",
    "                \n",
    "                hk_expr_data.append({\n",
    "                    'gene': gene,\n",
    "                    'group': group,\n",
    "                    'mean_expression': mean_expr,\n",
    "                    'std_expression': std_expr,\n",
    "                    'median_expression': median_expr,\n",
    "                    'n_cells': group_mask.sum()\n",
    "                })\n",
    "    \n",
    "    return pd.DataFrame(hk_expr_data)\n",
    "\n",
    "# Get housekeeping gene expression data\n",
    "hk_df = compare_housekeeping_expression(adata, available_hk_genes)\n",
    "print(hk_df)"
   ]
  },
  {
   "cell_type": "markdown",
   "id": "ba0966c3-1583-4531-8f97-48b966ce4f8b",
   "metadata": {},
   "source": [
    "#### First vs Third Heatmap ####"
   ]
  },
  {
   "cell_type": "code",
   "execution_count": 3,
   "id": "04a5324d-5efe-46d9-ab42-e341d76148f2",
   "metadata": {},
   "outputs": [],
   "source": [
    "mitocarta = pd.read_csv(\"../MitoCarta_full_transformed.csv\")"
   ]
  },
  {
   "cell_type": "code",
   "execution_count": 4,
   "id": "88b1f251-d2ed-4edf-97c0-9b8cd5b9f101",
   "metadata": {},
   "outputs": [
    {
     "data": {
      "text/plain": [
       "1136"
      ]
     },
     "execution_count": 4,
     "metadata": {},
     "output_type": "execute_result"
    }
   ],
   "source": [
    "# Extract all unique mitochondrial genes\n",
    "mt_list = mitocarta['Gene'].unique().tolist()\n",
    "len(mt_list)"
   ]
  },
  {
   "cell_type": "code",
   "execution_count": 5,
   "id": "ac349a3f-73cc-45e7-bb73-3d072c0dd9de",
   "metadata": {},
   "outputs": [
    {
     "data": {
      "text/plain": [
       "939"
      ]
     },
     "execution_count": 5,
     "metadata": {},
     "output_type": "execute_result"
    }
   ],
   "source": [
    "# Create boolean column for mitochondrial genes\n",
    "adata.var['mito_gene'] = adata.var_names.map(lambda x: x.split('.')[0] in mt_list)\n",
    "adata.var['mito_gene'].sum()"
   ]
  },
  {
   "cell_type": "code",
   "execution_count": 6,
   "id": "994d18f1-03ce-4280-afb9-bcfaa0ea5db4",
   "metadata": {
    "scrolled": true
   },
   "outputs": [
    {
     "data": {
      "text/plain": [
       "['ATAD3A',\n",
       " 'ATAD3B',\n",
       " 'GARS1',\n",
       " 'KARS1',\n",
       " 'METTL15',\n",
       " 'METTL5',\n",
       " 'MPV17L2',\n",
       " 'MRPL1',\n",
       " 'MRPL10',\n",
       " 'MRPL11',\n",
       " 'MRPL12',\n",
       " 'MRPL13',\n",
       " 'MRPL14',\n",
       " 'MRPL15',\n",
       " 'MRPL16',\n",
       " 'MRPL17',\n",
       " 'MRPL18',\n",
       " 'MRPL19',\n",
       " 'MRPL2',\n",
       " 'MRPL20',\n",
       " 'MRPL21',\n",
       " 'MRPL22',\n",
       " 'MRPL23',\n",
       " 'MRPL24',\n",
       " 'MRPL27',\n",
       " 'MRPL28',\n",
       " 'MRPL3',\n",
       " 'MRPL30',\n",
       " 'MRPL32',\n",
       " 'MRPL33',\n",
       " 'MRPL34',\n",
       " 'MRPL35',\n",
       " 'MRPL36',\n",
       " 'MRPL37',\n",
       " 'MRPL38',\n",
       " 'MRPL39',\n",
       " 'MRPL4',\n",
       " 'MRPL40',\n",
       " 'MRPL41',\n",
       " 'MRPL42',\n",
       " 'MRPL43',\n",
       " 'MRPL44',\n",
       " 'MRPL45',\n",
       " 'MRPL46',\n",
       " 'MRPL47',\n",
       " 'MRPL48',\n",
       " 'MRPL49',\n",
       " 'MRPL50',\n",
       " 'MRPL51',\n",
       " 'MRPL52',\n",
       " 'MRPL53',\n",
       " 'MRPL54',\n",
       " 'MRPL55',\n",
       " 'MRPL57',\n",
       " 'MRPL58',\n",
       " 'MRPL9',\n",
       " 'MRPS10',\n",
       " 'MRPS11',\n",
       " 'MRPS12',\n",
       " 'MRPS14',\n",
       " 'MRPS15',\n",
       " 'MRPS16',\n",
       " 'MRPS17',\n",
       " 'MRPS18A',\n",
       " 'MRPS18B',\n",
       " 'MRPS18C',\n",
       " 'MRPS2',\n",
       " 'MRPS21',\n",
       " 'MRPS22',\n",
       " 'MRPS23',\n",
       " 'MRPS24',\n",
       " 'MRPS25',\n",
       " 'MRPS26',\n",
       " 'MRPS27',\n",
       " 'MRPS28',\n",
       " 'MRPS30',\n",
       " 'MRPS31',\n",
       " 'MRPS33',\n",
       " 'MRPS34',\n",
       " 'MRPS35',\n",
       " 'MRPS36',\n",
       " 'MRPS5',\n",
       " 'MRPS6',\n",
       " 'MRPS7',\n",
       " 'MRPS9',\n",
       " 'MYG1',\n",
       " 'PNPT1',\n",
       " 'PTCD3',\n",
       " 'TFAM',\n",
       " 'TRMT1',\n",
       " 'PMPCA',\n",
       " 'TOMM20L',\n",
       " 'ATP5F1C',\n",
       " 'ATP5MC1',\n",
       " 'ATP5MD',\n",
       " 'ATP5PO',\n",
       " 'COX11',\n",
       " 'COX20',\n",
       " 'COX6A2',\n",
       " 'DMAC1',\n",
       " 'HIGD1A',\n",
       " 'HIGD2A',\n",
       " 'MT-ATP6',\n",
       " 'MT-ATP8',\n",
       " 'MT-CO1',\n",
       " 'MT-CO2',\n",
       " 'MT-CO3',\n",
       " 'MT-CYB',\n",
       " 'MT-ND1',\n",
       " 'MT-ND2',\n",
       " 'MT-ND3',\n",
       " 'MT-ND4',\n",
       " 'MT-ND4L',\n",
       " 'MT-ND5',\n",
       " 'MT-ND6',\n",
       " 'NDUFA5',\n",
       " 'NDUFB1',\n",
       " 'NDUFB3',\n",
       " 'NDUFB4',\n",
       " 'NDUFB8',\n",
       " 'SDHAF1',\n",
       " 'SDHAF2',\n",
       " 'SDHC',\n",
       " 'UQCR10',\n",
       " 'UQCRH',\n",
       " 'ABCB10',\n",
       " 'ACOD1',\n",
       " 'ACSM1',\n",
       " 'ACSM2A',\n",
       " 'ACSM2B',\n",
       " 'ACSM4',\n",
       " 'ACSM5',\n",
       " 'AGXT2',\n",
       " 'AK2',\n",
       " 'AK3',\n",
       " 'AKR7A2',\n",
       " 'ALDH1L1',\n",
       " 'ALDH7A1',\n",
       " 'CA5A',\n",
       " 'CKMT1A',\n",
       " 'CKMT1B',\n",
       " 'CYP11B1',\n",
       " 'CYP11B2',\n",
       " 'DHRS4',\n",
       " 'DMGDH',\n",
       " 'FABP1',\n",
       " 'FTMT',\n",
       " 'FXN',\n",
       " 'GLUD2',\n",
       " 'GLYAT',\n",
       " 'GPD2',\n",
       " 'GPX1',\n",
       " 'HAO2',\n",
       " 'HIBCH',\n",
       " 'HOGA1',\n",
       " 'HTD2',\n",
       " 'LDHAL6B',\n",
       " 'LDHB',\n",
       " 'LYPLA1',\n",
       " 'MPC1L',\n",
       " 'MTARC1',\n",
       " 'MTARC2',\n",
       " 'NFU1',\n",
       " 'NMNAT3',\n",
       " 'OTC',\n",
       " 'PDHA2',\n",
       " 'PRDX2',\n",
       " 'PRODH',\n",
       " 'PRODH2',\n",
       " 'SFXN5',\n",
       " 'SLC25A20',\n",
       " 'SLC25A31',\n",
       " 'SLC25A38',\n",
       " 'SLC25A5',\n",
       " 'SLC25A51',\n",
       " 'SLC25A52',\n",
       " 'SLC25A6',\n",
       " 'SUCLA2',\n",
       " 'ABCD2',\n",
       " 'MPV17L',\n",
       " 'SLC25A18',\n",
       " 'SLC25A53',\n",
       " 'C1QBP',\n",
       " 'SPHKAP',\n",
       " 'BCL2L10',\n",
       " 'CHCHD3',\n",
       " 'DIABLO',\n",
       " 'MARCHF5',\n",
       " 'GATD3A',\n",
       " 'FAHD2A',\n",
       " 'CCDC90B',\n",
       " 'C8orf82',\n",
       " 'SPATA19',\n",
       " 'SERHL2',\n",
       " 'ATP5MF-PTCD1',\n",
       " 'MCCD1',\n",
       " 'RP11_469A15.2']"
      ]
     },
     "execution_count": 6,
     "metadata": {},
     "output_type": "execute_result"
    }
   ],
   "source": [
    "missing_genes = [gene for gene in mt_list if gene not in adata.var_names]\n",
    "missing_genes"
   ]
  },
  {
   "cell_type": "code",
   "execution_count": 7,
   "id": "b847a55e-a1bc-4ef3-a541-76817056268a",
   "metadata": {},
   "outputs": [
    {
     "data": {
      "text/plain": [
       "197"
      ]
     },
     "execution_count": 7,
     "metadata": {},
     "output_type": "execute_result"
    }
   ],
   "source": [
    "len(missing_genes)"
   ]
  },
  {
   "cell_type": "code",
   "execution_count": 8,
   "id": "1b778538-6575-4d78-a1c1-628ec7ebb869",
   "metadata": {},
   "outputs": [
    {
     "data": {
      "text/html": [
       "<div>\n",
       "<style scoped>\n",
       "    .dataframe tbody tr th:only-of-type {\n",
       "        vertical-align: middle;\n",
       "    }\n",
       "\n",
       "    .dataframe tbody tr th {\n",
       "        vertical-align: top;\n",
       "    }\n",
       "\n",
       "    .dataframe thead th {\n",
       "        text-align: right;\n",
       "    }\n",
       "</style>\n",
       "<table border=\"1\" class=\"dataframe\">\n",
       "  <thead>\n",
       "    <tr style=\"text-align: right;\">\n",
       "      <th></th>\n",
       "      <th>MitoPathways</th>\n",
       "    </tr>\n",
       "  </thead>\n",
       "  <tbody>\n",
       "    <tr>\n",
       "      <th>SAMD11</th>\n",
       "      <td>[]</td>\n",
       "    </tr>\n",
       "    <tr>\n",
       "      <th>NOC2L</th>\n",
       "      <td>[]</td>\n",
       "    </tr>\n",
       "    <tr>\n",
       "      <th>KLHL17</th>\n",
       "      <td>[]</td>\n",
       "    </tr>\n",
       "    <tr>\n",
       "      <th>PLEKHN1</th>\n",
       "      <td>[]</td>\n",
       "    </tr>\n",
       "    <tr>\n",
       "      <th>PERM1</th>\n",
       "      <td>[]</td>\n",
       "    </tr>\n",
       "  </tbody>\n",
       "</table>\n",
       "</div>"
      ],
      "text/plain": [
       "        MitoPathways\n",
       "SAMD11            []\n",
       "NOC2L             []\n",
       "KLHL17            []\n",
       "PLEKHN1           []\n",
       "PERM1             []"
      ]
     },
     "execution_count": 8,
     "metadata": {},
     "output_type": "execute_result"
    }
   ],
   "source": [
    "# Create a dictionary where each gene maps to a list of pathways\n",
    "gene_to_pathway_dict = mitocarta.groupby('Gene')['MitoPathway'].apply(list).to_dict()\n",
    "\n",
    "# Add pathway information to the var metadata \n",
    "adata.var['MitoPathways'] = adata.var_names.map(lambda x: gene_to_pathway_dict.get(x.split('.')[0], []))\n",
    "# Check the result\n",
    "adata.var[['MitoPathways']].head()"
   ]
  },
  {
   "cell_type": "code",
   "execution_count": 9,
   "id": "cbca4c57-c706-4ce3-9f95-268109e74ade",
   "metadata": {},
   "outputs": [
    {
     "name": "stdout",
     "output_type": "stream",
     "text": [
      "Genes with zero expression in First trimester: 0\n",
      "Genes with zero expression in Third trimester: 0\n",
      "Total genes in combined dataset: 14781\n"
     ]
    }
   ],
   "source": [
    "# Check that no genes are all zeros in either trimester\n",
    "first_mask = adata.obs['Trimester'] == 'First'\n",
    "third_mask = adata.obs['Trimester'] == 'Third'\n",
    "\n",
    "# Count genes with zero expression in each trimester\n",
    "first_zero_genes = (adata[first_mask].X.sum(axis=0) == 0).sum()\n",
    "third_zero_genes = (adata[third_mask].X.sum(axis=0) == 0).sum()\n",
    "\n",
    "print(f\"Genes with zero expression in First trimester: {first_zero_genes}\")\n",
    "print(f\"Genes with zero expression in Third trimester: {third_zero_genes}\")\n",
    "print(f\"Total genes in combined dataset: {adata.n_vars}\")"
   ]
  },
  {
   "cell_type": "code",
   "execution_count": 10,
   "id": "ab4c43b2-5bd5-487d-8318-1557f25cb468",
   "metadata": {},
   "outputs": [],
   "source": [
    "pathway_names = [\"OXPHOS\", \"OXPHOS_subunits\", \"OXPHOS_assembly_factors\", \"Complex_I\", \"CI_subunits\", \"CI_assembly_factors\", \n",
    "                 \"Complex_II\", \"CII_subunits\", \"CII_assembly_factors\",\n",
    "                 \"Complex_III\", \"CIII_subunits\", \"CIII_assembly_factors\",\n",
    "                 \"Complex_IV\", \"CIV_subunits\", \"CIV_assembly_factors\",\n",
    "                 \"Complex_V\", \"CV_subunits\", \"CV_assembly_factors\",\n",
    "                 \"Respirasome_assembly\", \"Cytochrome_C\"]"
   ]
  },
  {
   "cell_type": "code",
   "execution_count": 11,
   "id": "3ece8253-451e-44f1-9996-ba4e5658c301",
   "metadata": {},
   "outputs": [
    {
     "name": "stdout",
     "output_type": "stream",
     "text": [
      "Found 136 genes for OXPHOS\n",
      "Found 76 genes for OXPHOS_subunits\n",
      "Found 61 genes for OXPHOS_assembly_factors\n",
      "Found 53 genes for Complex_I\n",
      "Found 32 genes for CI_subunits\n",
      "Found 21 genes for CI_assembly_factors\n",
      "Found 5 genes for Complex_II\n",
      "Found 3 genes for CII_subunits\n",
      "Found 2 genes for CII_assembly_factors\n",
      "Found 13 genes for Complex_III\n",
      "Found 7 genes for CIII_subunits\n",
      "Found 6 genes for CIII_assembly_factors\n",
      "Found 44 genes for Complex_IV\n",
      "Found 17 genes for CIV_subunits\n",
      "Found 27 genes for CIV_assembly_factors\n",
      "Found 20 genes for Complex_V\n",
      "Found 15 genes for CV_subunits\n",
      "Found 5 genes for CV_assembly_factors\n",
      "Found 2 genes for Respirasome_assembly\n",
      "Found 2 genes for Cytochrome_C\n"
     ]
    }
   ],
   "source": [
    "# Extract genes for each pathway\n",
    "## create a dictionary where each key is a pathway name and each value is a list of genes associated with that pathway \n",
    "## finds genes in adata with the 'MitoPathways' annotation\n",
    "pathway_genes = {}\n",
    "for pathway in pathway_names:\n",
    "    pathway_genes[pathway] = adata.var[adata.var['MitoPathways'].apply(lambda x: pathway in x)].index.tolist()\n",
    "    print(f\"Found {len(pathway_genes[pathway])} genes for {pathway}\")"
   ]
  },
  {
   "cell_type": "code",
   "execution_count": 12,
   "id": "951c3b67",
   "metadata": {},
   "outputs": [
    {
     "data": {
      "text/html": [
       "<div>\n",
       "<style scoped>\n",
       "    .dataframe tbody tr th:only-of-type {\n",
       "        vertical-align: middle;\n",
       "    }\n",
       "\n",
       "    .dataframe tbody tr th {\n",
       "        vertical-align: top;\n",
       "    }\n",
       "\n",
       "    .dataframe thead th {\n",
       "        text-align: right;\n",
       "    }\n",
       "</style>\n",
       "<table border=\"1\" class=\"dataframe\">\n",
       "  <thead>\n",
       "    <tr style=\"text-align: right;\">\n",
       "      <th></th>\n",
       "      <th>OXPHOS</th>\n",
       "      <th>OXPHOS_subunits</th>\n",
       "      <th>OXPHOS_assembly_factors</th>\n",
       "      <th>Complex_I</th>\n",
       "      <th>CI_subunits</th>\n",
       "      <th>CI_assembly_factors</th>\n",
       "      <th>Complex_II</th>\n",
       "      <th>CII_subunits</th>\n",
       "      <th>CII_assembly_factors</th>\n",
       "      <th>Complex_III</th>\n",
       "      <th>CIII_subunits</th>\n",
       "      <th>CIII_assembly_factors</th>\n",
       "      <th>Complex_IV</th>\n",
       "      <th>CIV_subunits</th>\n",
       "      <th>CIV_assembly_factors</th>\n",
       "      <th>Complex_V</th>\n",
       "      <th>CV_subunits</th>\n",
       "      <th>CV_assembly_factors</th>\n",
       "      <th>Respirasome_assembly</th>\n",
       "      <th>Cytochrome_C</th>\n",
       "    </tr>\n",
       "    <tr>\n",
       "      <th>group</th>\n",
       "      <th></th>\n",
       "      <th></th>\n",
       "      <th></th>\n",
       "      <th></th>\n",
       "      <th></th>\n",
       "      <th></th>\n",
       "      <th></th>\n",
       "      <th></th>\n",
       "      <th></th>\n",
       "      <th></th>\n",
       "      <th></th>\n",
       "      <th></th>\n",
       "      <th></th>\n",
       "      <th></th>\n",
       "      <th></th>\n",
       "      <th></th>\n",
       "      <th></th>\n",
       "      <th></th>\n",
       "      <th></th>\n",
       "      <th></th>\n",
       "    </tr>\n",
       "  </thead>\n",
       "  <tbody>\n",
       "    <tr>\n",
       "      <th>Trophoblast_T1_Control</th>\n",
       "      <td>0.342111</td>\n",
       "      <td>0.478992</td>\n",
       "      <td>0.171154</td>\n",
       "      <td>0.310149</td>\n",
       "      <td>0.420747</td>\n",
       "      <td>0.141619</td>\n",
       "      <td>0.215224</td>\n",
       "      <td>0.318182</td>\n",
       "      <td>0.060786</td>\n",
       "      <td>0.360839</td>\n",
       "      <td>0.542715</td>\n",
       "      <td>0.148650</td>\n",
       "      <td>0.327428</td>\n",
       "      <td>0.551642</td>\n",
       "      <td>0.186256</td>\n",
       "      <td>0.466816</td>\n",
       "      <td>0.570044</td>\n",
       "      <td>0.157135</td>\n",
       "      <td>0.428695</td>\n",
       "      <td>0.128660</td>\n",
       "    </tr>\n",
       "    <tr>\n",
       "      <th>Trophoblast_T3_Control</th>\n",
       "      <td>0.440061</td>\n",
       "      <td>0.614430</td>\n",
       "      <td>0.221382</td>\n",
       "      <td>0.406124</td>\n",
       "      <td>0.546368</td>\n",
       "      <td>0.192421</td>\n",
       "      <td>0.252873</td>\n",
       "      <td>0.370771</td>\n",
       "      <td>0.076028</td>\n",
       "      <td>0.470223</td>\n",
       "      <td>0.694798</td>\n",
       "      <td>0.208218</td>\n",
       "      <td>0.404279</td>\n",
       "      <td>0.677803</td>\n",
       "      <td>0.232060</td>\n",
       "      <td>0.619544</td>\n",
       "      <td>0.750561</td>\n",
       "      <td>0.226493</td>\n",
       "      <td>0.499403</td>\n",
       "      <td>0.227970</td>\n",
       "    </tr>\n",
       "    <tr>\n",
       "      <th>Trophoblast_T3_FGR</th>\n",
       "      <td>0.356960</td>\n",
       "      <td>0.500845</td>\n",
       "      <td>0.175293</td>\n",
       "      <td>0.334259</td>\n",
       "      <td>0.457773</td>\n",
       "      <td>0.146047</td>\n",
       "      <td>0.204325</td>\n",
       "      <td>0.293502</td>\n",
       "      <td>0.070559</td>\n",
       "      <td>0.384846</td>\n",
       "      <td>0.565084</td>\n",
       "      <td>0.174567</td>\n",
       "      <td>0.319862</td>\n",
       "      <td>0.527139</td>\n",
       "      <td>0.189355</td>\n",
       "      <td>0.507004</td>\n",
       "      <td>0.618320</td>\n",
       "      <td>0.173058</td>\n",
       "      <td>0.361467</td>\n",
       "      <td>0.171617</td>\n",
       "    </tr>\n",
       "  </tbody>\n",
       "</table>\n",
       "</div>"
      ],
      "text/plain": [
       "                          OXPHOS  OXPHOS_subunits  OXPHOS_assembly_factors  \\\n",
       "group                                                                        \n",
       "Trophoblast_T1_Control  0.342111         0.478992                 0.171154   \n",
       "Trophoblast_T3_Control  0.440061         0.614430                 0.221382   \n",
       "Trophoblast_T3_FGR      0.356960         0.500845                 0.175293   \n",
       "\n",
       "                        Complex_I  CI_subunits  CI_assembly_factors  \\\n",
       "group                                                                 \n",
       "Trophoblast_T1_Control   0.310149     0.420747             0.141619   \n",
       "Trophoblast_T3_Control   0.406124     0.546368             0.192421   \n",
       "Trophoblast_T3_FGR       0.334259     0.457773             0.146047   \n",
       "\n",
       "                        Complex_II  CII_subunits  CII_assembly_factors  \\\n",
       "group                                                                    \n",
       "Trophoblast_T1_Control    0.215224      0.318182              0.060786   \n",
       "Trophoblast_T3_Control    0.252873      0.370771              0.076028   \n",
       "Trophoblast_T3_FGR        0.204325      0.293502              0.070559   \n",
       "\n",
       "                        Complex_III  CIII_subunits  CIII_assembly_factors  \\\n",
       "group                                                                       \n",
       "Trophoblast_T1_Control     0.360839       0.542715               0.148650   \n",
       "Trophoblast_T3_Control     0.470223       0.694798               0.208218   \n",
       "Trophoblast_T3_FGR         0.384846       0.565084               0.174567   \n",
       "\n",
       "                        Complex_IV  CIV_subunits  CIV_assembly_factors  \\\n",
       "group                                                                    \n",
       "Trophoblast_T1_Control    0.327428      0.551642              0.186256   \n",
       "Trophoblast_T3_Control    0.404279      0.677803              0.232060   \n",
       "Trophoblast_T3_FGR        0.319862      0.527139              0.189355   \n",
       "\n",
       "                        Complex_V  CV_subunits  CV_assembly_factors  \\\n",
       "group                                                                 \n",
       "Trophoblast_T1_Control   0.466816     0.570044             0.157135   \n",
       "Trophoblast_T3_Control   0.619544     0.750561             0.226493   \n",
       "Trophoblast_T3_FGR       0.507004     0.618320             0.173058   \n",
       "\n",
       "                        Respirasome_assembly  Cytochrome_C  \n",
       "group                                                       \n",
       "Trophoblast_T1_Control              0.428695      0.128660  \n",
       "Trophoblast_T3_Control              0.499403      0.227970  \n",
       "Trophoblast_T3_FGR                  0.361467      0.171617  "
      ]
     },
     "execution_count": 12,
     "metadata": {},
     "output_type": "execute_result"
    }
   ],
   "source": [
    "pathway_expr_data = []\n",
    "for cell_type in ['Trophoblast']:\n",
    "    conditions = [\n",
    "        ('First', 'Control', 'T1_Control'),\n",
    "        ('Third', 'Control', 'T3_Control'),\n",
    "        ('Third', 'FGR', 'T3_FGR')\n",
    "    ]\n",
    "   \n",
    "    for trimester, pathology, condition_name in conditions:\n",
    "        mask = (adata.obs['cell_type'] == cell_type) & \\\n",
    "               (adata.obs['Trimester'] == trimester) & \\\n",
    "               (adata.obs['Pathology'] == pathology)\n",
    "       \n",
    "        if mask.sum() > 0:\n",
    "            row_data = {\n",
    "                'cell_type': cell_type,\n",
    "                'condition': condition_name,\n",
    "                'group': f\"{cell_type}_{condition_name}\"\n",
    "            }\n",
    "           \n",
    "            \n",
    "            for pathway in pathway_names:\n",
    "                genes = pathway_genes[pathway]  \n",
    "                if len(genes) > 0:\n",
    "                    mean_expr = float(adata[mask, genes].X.mean())\n",
    "                    row_data[pathway] = mean_expr\n",
    "                else:\n",
    "                    row_data[pathway] = np.nan\n",
    "           \n",
    "            pathway_expr_data.append(row_data)\n",
    "\n",
    "# Create the pathway matrix\n",
    "pathway_df = pd.DataFrame(pathway_expr_data)\n",
    "pathway_matrix = pathway_df.set_index('group')[pathway_names].astype(float)\n",
    "pathway_matrix"
   ]
  },
  {
   "cell_type": "code",
   "execution_count": 13,
   "id": "b4e02100",
   "metadata": {},
   "outputs": [
    {
     "data": {
      "image/png": "iVBORw0KGgoAAAANSUhEUgAAAlkAAAJOCAYAAACEKxJkAAAAOnRFWHRTb2Z0d2FyZQBNYXRwbG90bGliIHZlcnNpb24zLjEwLjEsIGh0dHBzOi8vbWF0cGxvdGxpYi5vcmcvc2/+5QAAAAlwSFlzAAAPYQAAD2EBqD+naQABAABJREFUeJzs3XdUVMfbwPHvUqX3IoqA0pFmF41ixd5rYu/BEkuiYkUNMZogdn/GAvaGvWFHTewFG9WCFZWOBRGWff/gdXUDtgiiOJ9z7kl27jOzzyyyzM7MvSuRyWQyBEEQBEEQhEKlVNwJCIIgCIIglERikCUIgiAIglAExCBLEARBEAShCIhBliAIgiAIQhEQgyxBEARBEIQiIAZZgiAIgiAIRUAMsgRBEARBEIqAGGQJgiAIgiAUATHIEgRBEARBKAIqxZ2AIHzJcg//VNwpCG/IqTy6uFMQ3hB5S1LcKQhv8PCwKLS2/GtrFFpb8jb/ziz0Nr90YiZLEARBEAShCIhBliAIgiAIQhEQy4WCIAiCIChQEivBhULMZAmCIAiCIBQBMcgS3unu3bv07dsXCwsL1NTUsLKy4qeffiI5ORmpVIqXlxft27dXqJOeno6lpSUTJkwAID4+HolEIj8MDAyoU6cOR48eldfp1asXbdq0yff84eHhSCQS0tLS5GVSqZSgoCDc3NwoVaoU+vr6NG3alH/++UehrlQqZfr06Tg6OqKhoYGhoSE1atQgODi48F6gYnA2LoUfF56nztgjOP0YxsGIR++M33/xIX3mnMXrl0NUGXGALjNP8ndkokJMtjSXBbuv03jiUdyH7qfNr/9w/FriW1oUXjl34RJDRo6jfrOOuFarz6Hwv99b5+yFS3TqMZDKtX1o0uYHNm7e8dbYvfsP41qtPsN+nliYaZd4+/ZtY8iQrnTr1pixYwcQFXX5nfHHjx/gl1/60r17EwYObM/ChTN48iRdfv7u3VsEBk5iyJAudO5cj927Q4u6C8VOSVL4x7dIDLKEt7p58yZVqlQhNjaWdevWcf36df73v/9x6NAhatasSXp6OitWrCAsLIw1a9bI6w0dOhRDQ0MmTZqk0N7BgwdJSEjg6NGj6Orq0qxZM27duvVROclkMrp06cLUqVMZNmwYUVFRHD16FEtLS7y9vdm2bZs81t/fn9mzZzNt2jQiIyM5cuQI/fv3JzU19ZNel+KWmSXFoYwOEzo7fVD8ubhUvJyMWDy4CqF+XlS3N8J34QUi72bIY+bsiGPj8buM7+zMrkm16fydJUMXX1SIEfLLfPECe7sKjPtl6AfF37ufwODhflT2cGXTqr/o3+t7pgfO58DhY/liHyQ85M+5/6OSh2thp12inThxmBUrFtC2bTd+/30Jjo5uTJ8+hqSkgj+MREdfYcGC36lfvxmBgcGMGOHPjRvRLF78pzwmKysLMzMLunYdgL6+4efqilACiD1ZwlsNHjwYNTU19u/fj4ZG3uW85cqVw9PTkwoVKjB+/HgWLVrE9OnTGTp0KPXq1ePs2bOsX7+eM2fOoKamptCekZER5ubmmJubs3jxYsqWLcv+/fsZOHDgB+e0ceNGQkND2bFjBy1btpSX//XXXyQnJ9OvXz8aNWqElpYWO3fuxNfXl44dO8rj3N3dP/FVKX51KppQp6LJB8eP66Q4GBvRxp5Dlx9z5PJjnC11Adhx+gEDm5Sn7v+327VuOf6JSiLk4C1m9v76X7Oi8p1Xdb7zqv7B8Ru37MTc3JQxI4cAUN7GimtRsYSs3kij+nXkcVKplLGTfmNw/16cj7jCkydPCz33kmr37k3Ur9+MBg2aA9Cr1xAuXTrL/v07+P77/vni4+IiMTU1p2nTvBl5U9PSNGzYkp0718tjbG0dsbV1BGDdur8+Qy+EkkLMZAkFSklJYd++ffj6+soHWK+Ym5vzww8/sGHDBmQyGUOHDsXd3Z0ePXowYMAAJk2ahIeHxzvb19TUBCA7O/uj8lq7di329vYKA6xXRo0aRXJyMgcOHJDnefjwYRITxbLXm3JzZTx/kYO+lqq87GVOLuqqygpx6qpKnL/+dc/6fWkuXbmGV/UqCmW1alQhMiqG7Jwcedn/lq3CQF+Pdq2bfe4Uv2o5OdncvBmLm5via+zuXoXY2KsF1rG3dyE5OZGLF08hk8lIS0vh9OmjeHrW+Bwpf7HEcmHhEDNZQoHi4uKQyWQ4ORW8JOXk5ERqaiqJiYmYmpqyaNEinJyccHV1ZezYse9s+9mzZ/j5+aGsrEzdunXl5bt27UJbW1shViqVKjyOjY19Z06vYgBmzZpFhw4dMDc3x8XFBS8vL1q3bk3Tpk3f3fkSLvhgPM9fSmlSyVxeVtvJmJBD8VSxM6CcsSYnY5I5fOkxUpmsGDMteZKTUzEyNFAoMzIyIEcqJS0tHRNjIy5eusqWHXsIXb2kmLL8emVkpJObm4uenuJrrKdnQFpawR8YHBwqMnToeGbPnkp29kukUilVqnjRu/ewz5GyUMKJQZbwn8j+/4+vRJL38WT58uVoampy69Yt7t27h7W1db46Xl5eKCkp8fz5c0qXLk1ISAiurq/3m9SrV49FixYp1Dl9+jTdunX7qNxe5eTs7MzVq1c5f/48f//9N8eOHaNly5b06tWLpUuX5quXlZVFVlaWQpnqyxzU1UrOr8nusw9YsPs68wd5YqSrLi8f18mJSWuu0tz/OBKJBEtjDdrWLMvWk/eKMduS6dW/z1dejWMlSHj27Dl+k37Df9woDPT1iiG7kqGg11jylpmUe/fiCQmZR/v2PXB3r0pqajJr1ixm6dJZDBr07X7DgJJY5yoUJeevh1CobG1tkUgkREZGFnjVX3R0NAYGBhgbG3Py5EmCgoLYu3cvM2fOpG/fvhw8eDDfG92GDRtwdnZGX18fIyOjfG1qaWlha2urUHbvnuIfeXt7eyIjIwvMOSoqCgA7Ozt5mZKSElWrVqVq1aqMGDGC1atX0717d8aPH4+NjY1C/enTpzNlyhSFskk9qjG5Z8lYNthzLoEJq64S1N8DLydjhXOGOmrMH1SJrGwpac+yMdVTJ3BbLGWMNYsp25LJyMiApOQUhbKUlFRUlJXR09flxs147ic8ZOio8fLzubl5ozCPmg3ZuWkFlmXLfNacvya6unooKSmRlqb4GmdkpOab3Xpl27a12NtXpFWrLgBYWVWgVCkNJk8eRufOfTEwyP9eJQgfSoxVhQIZGRnRqFEjFi5cSGam4vdNPXz4kDVr1tC5c2devHhBz549GThwIA0bNmTp0qWcPXuWxYsX52vT0tKSChUqFDjA+lBdunQhLi6OnTt35jsXGBgoz/ttnJ2dgbwly3/z8/MjPT1d4RjbtUq+uK/R7rMPGLfyCn/0ccfb1fStceqqypjplyInV8aBi49o4Pb2WOHjubu6cPLMeYWyE6fP4ezkgKqKCjZW5diybhmbVi+RH97feVGtsgebVi/B3Ez8PN5FRUWV8uXtuXz5nEL55cvnsbevWGCdrKwXKP1rw5DS/0/jyMRyufCJxCBLeKv58+eTlZWFj48Px44d4+7du4SFhdGoUSPKlClDQEAAY8eOJTc3lxkzZgB5Vx8GBgbyyy+/EB8fX+g5denShbZt29KzZ0+WLVtGfHw8ly9fZuDAgezYsYOlS5eipaUFQIcOHQgKCuL06dPcvn2b8PBwBg8ejL29PY6OjvnaVldXR1dXV+H4EpcKn73IIepuBlH/f3uFe8mZRN3N4EFK3mB41rYYxoS8vi/Q7rMPGBtyhdHtHXG30ScxPYvE9CyeZL6+6ODSrTT2X3zI3cTnnItLYcC8c+TmyujbWHG2T1D0/Hkm0bHXiY69DsD9BwlEx14n4WHe7QJmL1jCuMnT5fGd2rUkIeERM4MWcvPWbbbu2MuWHXvp1a0TAOrqathVsFE4dHS00dTUxK6CDaqqqvmTEBQ0b96Rw4f3cOTIHu7du82KFQtISnpEo0Z5F8usXbuE+fN/k8dXruzFmTPH2b9/O48ePSA6+grBwfOwtXXE0DBvxjcnJ5v4+OvEx18nJyeH1NQk4uOv8/Dh/WLp4+cgNr4Xji/vL4jwxbCzs+PcuXP4+/vTuXNnkpOTMTc3p02bNkyePJkrV66wYMECwsPD5QMbgP79+xMaGipfNixMEomEjRs3MmfOHIKCghg8eDDq6urUrFmTI0eOULt2bXmsj48P69atY/r06aSnp2Nubk79+vXx9/dHReXr/ad/7U46PYPOyh/PCI0GoE0NC6b3dCMxPYuElNezjxuO3yUnV8a09ZFMW/96qfVVPEBWdi5zd8RxNykTTXVl6lQ0YUYvN3Q1xR/1d7kWFUOfH0fKH/8xO29PYavmPgRMHkNiUgoJjx7Lz5ctU5oFs6fzR9AC1odux9TYCL9RQxRu3yB8Gi+v+jx5ksHmzStJTU3B0tKasWN/x8Qk70KPtLRkkpNf/0y8vZuQmfmcffu2smrVIrS0tHFx8eSHHwbIY1JSkhkz5vXtH3bu3MDOnRtwdnZn8uTZn61vwtdHIhPzoYLwVrmHfyruFIQ35FT+djcif4kib32j0xNfKA8Pi0Jr688GGu8P+kg/H8p8f1AJI5YLBUEQBEEQioAYZAmCIAiCIBSBr3djiiAIgiAIRUJJInYSFQYxkyUIgiAIglAExEyWIAiCIAgKvtVbLhQ2McgShHdREr8igvA2/76JpyAIisRyoSAIgiAIQhEQH9MFQRAEQVAgJikLh5jJEgRBEARBKAJikCUUOn9/fzw8PIr8eeLj45FIJERERBT5cwmCIHxLxHcXFg4xyHqPu3fv0rdvXywsLFBTU8PKyoqffvqJ5ORkAKRSKV5eXrRv316hXnp6OpaWlkyYMAF4PSB4dRgYGFCnTh2OHj0qr9OrVy/atGmTL4fw8HAkEglpaWnyMqlUSlBQEG5ubpQqVQp9fX2aNm3KP//8o1BXKpUyffp0HB0d0dDQwNDQkBo1ahAcHFxIr1DxsbS0JCEhgYoVKwIFv04l0dnYZH6cf4Y6ow/gNHAXByMevjN+/4UE+sw+hdeo/VT5KYwuv//N39ce54tbcfAmTScdwWPIHuqNPcj0jdfIypYWVTdKhHMXLjFk5DjqN+uIa7X6HAr/+711zl64RKceA6lc24cmbX5g4+YdCue37QrDtVr9fEdW1sui6kaJs2/fNnx9u/D9940YPXoAUVGX3xl//PgBfv65Lz/84EP//u1YsOB3njxJl58/eHAXEycOpVevFvTq1YKpU0cSFxdV1N0QSgAxyHqHmzdvUqVKFWJjY1m3bh3Xr1/nf//7H4cOHaJmzZqkpKSgrKzMihUrCAsLY82aNfK6Q4cOxdDQkEmTJim0efDgQRISEjh69Ci6uro0a9aMW7dufVReMpmMLl26MHXqVIYNG0ZUVBRHjx7F0tISb29vtm3bJo/19/dn9uzZTJs2jcjISI4cOUL//v1JTU39pNfmS6CsrIy5uflX/WXP/0XmSykOZXWZ0KXiB8Wfi0vBy8mYxUOrETquNtUdjPFdcJbIO6//iOw8fY9ZW6MZ3MKe3f7e/NrDnb3nHjBra3RRdaNEyHzxAnu7Coz7ZegHxd+7n8Dg4X5U9nBl06q/6N/re6YHzufA4WMKcdpaWhzZE6pwqKurFUUXSpx//jlMcPB82rfvxsyZS3FyciUgYDSJiY8KjI+Kusy8edOpX78Zs2aFMHKkPzduRLNo0R/ymGvXIqhduwGTJwcRELAAY2Mzfv31Z5KTEz9Tr4SvlRhkvcPgwYNRU1Nj//791K1bl3LlytG0aVMOHjzI/fv3GT9+PAB2dnZMnz6doUOH8uDBA7Zv38769etZsWIFamqKb4xGRkaYm5vj5ubG4sWLef78Ofv37/+ovDZu3EhoaCgrV66kX79+2NjY4O7uzl9//UWrVq3o168fz549A2Dnzp34+vrSsWNHeVzfvn0ZOXLkW9u/ffs2LVu2xMDAAC0tLVxcXNizZw8AISEh6OvrK8Rv27YNiST/XPDixYuxtLREU1OTjh07KswweXt7M3z4cIX4Nm3a0KtXL/lja2trfvvtN/r06YOOjg7lypXjr7/+kp9/c7kwPj6eevXqAWBgYIBEIpG3FRoaiqurKxoaGhgZGdGwYUP56/M1qlPRlOFtHGlcqfQHxY/r7EI/H1tcrfWxNtNmRFtHyplqceTy6z86ETdTqVTBgBbVylDGWJNaziY0r1qGa7fT39Gy8J1XdYb92JeG9ep8UPzGLTsxNzdlzMghlLexon2b5rRt2ZSQ1RsV4iQSMDY2VDiED7Nr1ybq129GgwYtKFvWit69h2JsbMr+/dsLjI+Li8TU1JxmzdpjZlYaJyc3GjVqxc2bMfKYn36agI9PG2xs7ChTxoqBA39GJpNx9eqFz9Wtz05JqfCPb9E32u33S0lJYd++ffj6+qKhofht5Obm5vzwww9s2LABmSzvqweGDh2Ku7s7PXr0YMCAAUyaNOm9+5I0NTUByM7O/qjc1q5di729PS1btsx3btSoUSQnJ3PgwAF5rocPHyYx8cM/cQ0ePJisrCyOHTvGlStXmDFjBtra2h+V4/Xr19m4cSM7d+4kLCyMiIgIBg8e/FFtAAQGBlKlShUuXryIr68vP/74I9HR+WdXLC0t2bx5MwAxMTEkJCQwZ84cEhIS6Nq1K3369CEqKorw8HDatWsn/7l9i3JzZTx/kYO+lqq8rJKtIdfupHP5Vt4M593EZxy7+pi6rqbFlWaJdOnKNbyqV1Eoq1WjCpFRMWTn5MjLnmdm0rhVFxq06MTgEeOIion73Kl+lbKzs7l5MwZ396oK5W5uVYmJuVZgHQeHiiQnJ3LhwilkMhlpaSmcPHmUSpVqvPV5Xr7MIicnB21tnULNXyh5vq11lo8QFxeHTCbDycmpwPNOTk6kpqaSmJiIqakpEomERYsW4eTkhKurK2PHjn1n+8+ePcPPzw9lZWXq1q0rL9+1a1e+AY1UqrgvJjY29p15vYoBmDVrFh06dMDc3BwXFxe8vLxo3bo1TZs2fWtud+7coX379ri6ugJQvnz5d/alIC9evGDFihWULVsWgHnz5tG8eXMCAwMxNzf/4HaaNWuGr68vAGPGjCEoKIjw8HAcHR0V4pSVlTE0zPu0b2pqKp9tu3HjBjk5ObRr1w4rKysAeb++VcEHbvL8pZQmlS3kZc2rliH1yUu6/XECmQxycmV0qWtF/ya2xZhpyZOcnIqRoYFCmZGRATlSKWlp6ZgYG2FjVY5pk8ZgX6E8T589Y82GLfToN4zQNUuwKle2mDL/Ojx5kk5ubi76+oqvsb6+AWlpKQXWcXCoyLBh4wkKmkJ29kukUilVqtSiT5+f3vo8a9b8haGhMa6ulQs1/y/Jt7pRvbCJmaz/6NVMyJvLZMuXL0dTU5Nbt25x7969Aut5eXmhra2Njo4OO3fuJCQkROGPfr169YiIiFA4li5d+tH5vcrL2dmZq1evcurUKXr37s2jR49o2bIl/fr1e2vdYcOG8euvv1KrVi0mT57M5cvv3jRakHLlyskHWAA1a9YkNzeXmJiYd9TKz83NTf7/EokEc3NzHj/Ov2n7bdzd3WnQoAGurq507NiRJUuWvHU/WlZWFhkZGQpH1sucAmO/VrvP3GfBrlhm9a+Eka66vPxMTBKL915n4veubJ7wHXMHVebo5Ucs3B1bjNmWTP9eWn81qSohr9zd1ZmWTRvhYF+Byp5u/PnbJKzKlWXtxq2fO9Wv2L9fYxkF7GgA4O7deIKD59GhQ09mzPiL8eNn8vhxAn/9NavA+O3b1/H334f45ZdpqKmpFxgjCK+IQdZb2NraIpFIiIyMLPB8dHQ0BgYGGBsbA3Dy5EmCgoLYvn07NWvWpG/fvgUuSW3YsIFLly6RmJjI/fv36datm8J5LS0tbG1tFY4yZcooxNjb2781r6iovCte7Ozs5GVKSkpUrVqVESNGsHXrVkJCQli2bNlbN9z369ePmzdv0r17d65cuUKVKlWYN2+evK1/9+tDljtf/WF59d8PbUdVVVXhsUQiITc3973P94qysjIHDhxg7969ODs7M2/ePBwcHArs+/Tp09HT01M4fl975oOf60u35+wDJqy8xKwBlfByMlE4N3dHLK2ql6Fj7XLYl9GlkWdphrdxZMne6+TmfrtLq4XNyMiApGTFGZWUlFRUlJXR09ctsI6SkhIVnR24fff+50jxq6ajo4eSklK+Wav09DT09Are17Z16xocHCrSunUXrKwq4OFRjX79hnPkyB5SU5MVYnfsWM+WLauZOPEPrKwqFFk/hJJDDLLewsjIiEaNGrFw4UIyMzMVzj18+JA1a9bQuXNnJBIJmZmZ9OzZk4EDB9KwYUOWLl3K2bNnWbx4cb52LS0tqVChAkZGRv85ty5duhAXF8fOnTvznQsMDJTn/jbOzs4A79z8bWlpyaBBg9iyZQujRo1iyZIlAJiYmPDkyROFugXdp+rOnTs8ePBA/vjkyZMoKSlhb28vbychIUF+XiqVcvXq1bfm8yFeXWTw7+VViURCrVq1mDJlChcvXkRNTY2tW/PPCvj5+ZGenq5wjP2+2ifl9KXYfeY+41ZE8Ee/Sni7muU7n/lSmm+GRVlJggwQQ6zC4+7qwskz5xXKTpw+h7OTA6pvuUpWJpMRHXsDE7H5/b1UVVUpX96By5fPKZRfvnwOBweXAuu8fJmFRKL4p1BJSRlA4YPg9u3rCQ1dxfjxM6lQQXG7QkmkLCn841skBlnvMH/+fLKysvDx8eHYsWPcvXuXsLAwGjVqRJkyZQgICABg7Nix5ObmMmPGDCBvqSwwMJBffvmF+Pj4Qs+rS5cutG3blp49e7Js2TLi4+O5fPkyAwcOZMeOHSxduhQtLS0AOnToQFBQEKdPn+b27duEh4czePBg7O3t8+1remX48OHs27ePW7duceHCBQ4fPizf61W9enU0NTUZN24c169fZ+3atYSEhORro1SpUvTs2ZNLly5x/Phxhg0bRqdOneT7serXr8/u3bvZvXs30dHR+Pr6fvL9raysrJBIJOzatYvExESePn3K6dOn+e233zh37hx37txhy5YtJCYmFrinTV1dHV1dXYVDXe3L27b47EUOUXfTibqbd+XfvaTnRN1N50FK3oeBWVujGBN8UR6/+8x9xgZHMLqDM+42+iSmvyAx/QVPMl/PHNZzM2X9sdvsPnufe0nP+Scykbk7YqjnZoay2JzxVs+fZxIde53o2OsA3H+QQHTsdRIe5l25OXvBEsZNni6P79SuJQkJj5gZtJCbt26zdcdetuzYS69uneQxi5as4J+TZ7l7/wHRsdeZ9OsfxMRep1O7/Be6CPm1aNGRQ4d2c/jwHu7du01IyHySkh7RuHErIG8/1bx5v8njK1euyZkzx9i3bzuPHj0gOvoKwcFzsbV1wtAwb6Vi+/Z1rF+/DF/f0ZiYmJOamkxqajKZmc+LpY/C1+PL+wvyBbGzs+PcuXP4+/vTuXNnkpOTMTc3p02bNkyePBlDQ0OOHj3KggULCA8Plw9sAPr3709oaCh9+/bl4MGDhZqXRCJh48aNzJkzh6CgIAYPHoy6ujo1a9bkyJEj1K5dWx7r4+PDunXrmD59Ounp6Zibm1O/fn38/f3fen8pqVTK4MGDuXfvHrq6ujRp0oSgoCAADA0NWb16Nb/88gt//fUXDRs2xN/fnwEDBii0YWtrS7t27WjWrBkpKSk0a9aMhQsXys/36dOHS5cu0aNHD1RUVBgxYoT8Fgz/VZkyZZgyZQpjx46ld+/e9OjRgzFjxnDs2DFmz55NRkYGVlZWBAYGvnPj/5fu2u00es46JX88Y1Pe0nGbmmWZ3suDxPQsElJez75uOH6bnFwZ09ZdZdq617OFr+IBBjWzQ4KEudtjeJT2AkNtNbzdzBjepuR/Yv8U16Ji6PPj69uh/DF7EQCtmvsQMHkMiUkpJDx6vYewbJnSLJg9nT+CFrA+dDumxkb4jRpCo/qvbwGR8eQpU6YHkpScio62Fo72tgQvno2rS8EXuwiKatWqz9OnGYSGriA1NQVLSxvGjZuBiUneB7zU1GSSkl7fvqRevaa8eJFJWNhWVq5ciJaWNhUrevLDDwPlMfv2bSMnJ5vAwMkKz9WxY086der9eTr2mYnPVoVDIvuWr2UXhPfIDR9V3CkIb8jxfPv93YTPL/q2WAz5kri5fdi98z7EshalCq2tV/ruelHobX7pxG+IIAiCIAhCERDLhYIgCIIgKBDLhYVDzGQJgiAIgiAUATGTJQiCIAiCAjGTVTjETJYgCIIgCEIREDNZgiAIgiAoEDNZhUMMsgThXaRZxZ2B8AaZimZxpyC84eWLp8WdgiB80cRyoSAIgiAIQhEQM1mCIAiCICgQy4WFQ8xklVD+/v54eHi8M6ZXr160adPmk54nOjqaGjVqUKpUqfc+nyAIgiB8Sz56kHX37l369u2LhYUFampqWFlZ8dNPP5GcnAzkfe+dl5cX7du3V6iXnp6OpaUlEyZMACA+Ph6JRCI/DAwMqFOnDkePHpXXedsgIDw8HIlEovCFwlKplKCgINzc3ChVqhT6+vo0bdqUf/75R6GuVCpl+vTpODo6oqGhgaGhITVq1CA4OPhjXwoBmDx5MlpaWsTExHDo0KFCadPa2prZs2cXSlsl0dm4VH5ceJE6fkdx8j3AwYjH74zff/ERfeaex2t0OFVGHqbLH2f4OzJJISZbmsuCPTdoPOlv3Icdok3ASY5fS3pLi8Ir585fZMhPo2jQuAVulWpw+MjRD6hzgc7f96RKjTo0bdmOjaFbFM6HbtlGzz4DqVW3EbXqNqL/oCFcuXqtqLpQIh04uJ3hI7rRq09Txk/8keiYK2+N/d/imfzQvWG+Y/TYvvKYnJwctmxdxYhR3enVpyl+4wZw6fKZz9GVYqOkVPjHt+ijun3z5k2qVKlCbGws69at4/r16/zvf//j0KFD1KxZk5SUFJSVlVmxYgVhYWGsWbNGXnfo0KEYGhoyadIkhTYPHjxIQkICR48eRVdXl2bNmnHr1q2P6oRMJqNLly5MnTqVYcOGERUVxdGjR7G0tMTb25tt27bJY/39/Zk9ezbTpk0jMjKSI0eO0L9/f1JTUz/qOYU8N27coHbt2lhZWWFkZFTc6Sh4+fJlcadQJDJfSnEoq8OETh/25c3nrqfh5WjEYl9PQsdWp7q9Ab6LIoi8myGPmbPjBhuP32d8Jwd2TapJ5+/KMvSvSwoxQn6ZLzJxsLfDb8yHfcflvfsP8B06kkqeHmxcu4J+fXry+8xZHDh0WB5z7vwFmjZpxLK/FrA6ZAmlzc0Z5PsTjx6/ezAt5Dl56girVi+idevvCZj2PxwdXJn5h5/Cl0K/qUd3XxbM2yg/5s5Zh7a2DtWrvf7S7k2hwRw+soue3Ycw8/dlNKjfgqDZ/sTHx32ubglfqY8aZA0ePBg1NTX2799P3bp1KVeuHE2bNuXgwYPcv3+f8ePHA2BnZ8f06dMZOnQoDx48YPv27axfv54VK1agpqam0KaRkRHm5ua4ubmxePFinj9/zv79+z+qExs3biQ0NJSVK1fSr18/bGxscHd356+//qJVq1b069ePZ8+eAbBz5058fX3p2LGjPK5v376MHPn2L55NTk6ma9eulC1bFk1NTVxdXVm3bp1CTGhoKK6urmhoaGBkZETDhg3lzxkeHk61atXQ0tJCX1+fWrVqcfv2bXndnTt3UrlyZUqVKkX58uWZMmUKOTk58vMSiYTFixfTokULNDU1cXJy4uTJk1y/fh1vb2+0tLSoWbMmN27cyJf74sWLsbS0RFNTk44dOyrM/r1p5cqVGBkZkZWleDVd+/bt6dGjR4F1JBIJ58+fZ+rUqUgkEvz9/QEYM2YM9vb2aGpqUr58eSZOnEh2drZC3R07dlClShVKlSqFsbEx7dq1A8Db25vbt28zYsQI+SznK5s3b8bFxQV1dXWsra0JDAxUaNPa2ppff/2VXr16oaenR//+/Xn58iVDhgyhdOnSlCpVCmtra6ZPn15gf74WdVyMGd7KlsaeZh8UP66jA/0aW+NqrYe1qRYjWttRzlSTI1cS5TE7zjxgQBMb6lY0wdJYk651LKntZETIwdvvaFn4rpYXQwcPomGDeh8Uvyl0C6XNzRjzywjKl7ehfdvWtG3dkhUr18pjfg+YSpdOHXB0sMfGxprJE/3IleVy+sy5oupGibJ372a86zahnnczypSxons3X4yMTDl4aGeB8Zqa2ujrG8qPWzdjefbsKXXqNJHH/P3PQVq1/B4Pj+qYmlrQsGEr3FyrsGdv6OfqlvCV+uBBVkpKCvv27cPX1xcNDQ2Fc+bm5vzwww9s2LABmUwG5M1cubu706NHDwYMGMCkSZPeu2dHUzPv8ux//0F+n7Vr12Jvb0/Lli3znRs1ahTJyckcOHBAnuvhw4dJTEzMF/s2L168oHLlyuzatYurV68yYMAAunfvzunTpwFISEiga9eu9OnTh6ioKMLDw2nXrh0ymYycnBzatGlD3bp1uXz5MidPnmTAgAHywcO+ffvo1q0bw4YNIzIyksWLFxMSEkJAQIBCDtOmTaNHjx5ERETg6OjI999/z8CBA/Hz8+Pcubw33yFDhijUuX79Ohs3bmTnzp2EhYURERHB4MGDC+xjx44dkUql7NixQ16WlJTErl276N27d4F1EhIScHFxYdSoUSQkJPDzzz8DoKOjQ0hICJGRkcyZM4clS5YQFBQkr7d7927atWtH8+bNuXjxIocOHaJKlSoAbNmyhbJlyzJ16lQSEhJISEgA4Pz583Tq1IkuXbpw5coV/P39mThxIiEhIQo5/fHHH1SsWJHz588zceJE5s6dy44dO9i4cSMxMTGsXr0aa2vrt/6svwW5uTKev5Cir6kqL3uZI0NdRfHtQF1NifM30j5zdiXbpctXqVmzukKZV83qREZFkZ2dU2CdFy9ekJMjRU9X93Ok+FXLycnmVnwsrq5VFMpdK1YmLi7yg9oIP7oXF5dKmBi//hCTk/MSNVXFCQI1NXViYq9+etJfKCWJrNCPb9EHX10YFxeHTCbDycmpwPNOTk6kpqaSmJiIqakpEomERYsW4eTkhKurK2PHjn1n+8+ePcPPzw9lZWXq1q0rL9+1axfa2toKsVKpVOFxbGzsO/N6FQMwa9YsOnTogLm5OS4uLnh5edG6dWuaNm361tzKlCkjH0BA3gAyLCyMTZs2Ub16dRISEsjJyaFdu3ZYWVkB4OrqCuQNTtPT02nRogUVKlRQyAkgICCAsWPH0rNnTwDKly/PtGnTGD16NJMnT5bH9e7dm06dOgF5M0U1a9Zk4sSJ+Pj4APDTTz/lGwy9ePGCFStWULZsWQDmzZtH8+bNCQwMxNzcXCFWQ0OD77//nuDgYDp27AjAmjVrKFu2LN7e3gW+Lubm5qioqKCtra3Q3qt9d5A3uzRq1Cg2bNjA6NGj5X3u0qULU6ZMkce5u7sDYGhoiLKyMjo6Ogptzpo1iwYNGjBx4kQA7O3tiYyM5I8//qBXr17yuPr16yv8rO7cuYOdnR21a9dGIpHIfz7fsuBDt3n+UkqTyq9f39pORoQcvk0VO33KGWtyMiaFw5cSkcq+zTfGopKcnIyRoaFCmZGRITk5UtLS0jAxMc5XZ/bchZiamFCjetXPleZX68mTdHJzc9HTNVAo19MzID095b31U9OSuXT5DIN9xymUu7pWYU9YKI6OrpiaWnDt2kXOXzhBbm5uoeYvlDyFthXt1QzWm8s7y5cvR1NTk1u3bnHv3r0C63l5eaGtrY2Ojg47d+4kJCREPkABqFevHhEREQrH0qVLPzq/V3k5Oztz9epVTp06Re/evXn06BEtW7akX79+b60rlUoJCAjAzc0NIyMjtLW12b9/P3fu3AHyBggNGjTA1dWVjh07smTJEvkeL0NDQ3r16oWPjw8tW7Zkzpw58tkZQL7cpq2tLT/69+9PQkICz58/l8e5ubnJ/9/MLO8T1puvk5mZGS9evCAj4/UemnLlyskHWAA1a9YkNzeXmJiYAvvZv39/9u/fz/379wEIDg6mV69eCj/TDxEaGkrt2rUxNzdHW1ubiRMnyl8rgIiICBo0aPBRbUZFRVGrVi2Fslq1ahEXF6cw6H41I/ZKr169iIiIwMHBgWHDhr1zKTorK4uMjAyFI+ul9K3xX6PdZxNYsPsGs/q6YqTz+pP5uI4OWJto0nzKCdyGHeLXDdG0rWmB8kf+7IX3+/fvU0Hvna8sD1nF3n0HCPpzOurq6p8lv5KgwNf4A/4tHzu2D01NbapUVnyv6dFtMOZmZfh5dB969m7CipXzqPOdD0oleDe3kqTwj2/RB/8LsbW1RSKREBlZ8JRrdHQ0BgYGGBvnfRI7efIkQUFBbN++nZo1a9K3b1/5m8mbNmzYwKVLl0hMTOT+/ft069ZN4byWlha2trYKR5kyZRRiXs1qFCQqKgrI2ycm77SSElWrVmXEiBFs3bqVkJAQli1b9tYN94GBgQQFBTF69GgOHz5MREQEPj4+8o3VysrKHDhwgL179+Ls7My8efNwcHCQtxccHMzJkyfx8vJiw4YN2Nvbc+rUKQByc3OZMmWKwiDyypUrxMXFUapUKXkOqqqvl3ZevYEUVPauT1avYt42aPL09MTd3Z2VK1dy4cIFrly5ojBL9CFOnTpFly5daNq0Kbt27eLixYuMHz9eYRP6v5ebP4RMJnvrH6c3aWlpKTyuVKkSt27dYtq0aWRmZtKpUyc6dOhQ4HNMnz4dPT09heP3dec/Otcv1Z5zD5mwOpJZfd3wclS8SMFQR435gzy4MLs+h36tzZ7JXmiqq1DG+ON/VsLbGRkZkfT/V2K/kpKSioqKMnp6egrlISvXsGz5ChYvnIO9vR3C++no6KGkpETav2atMjLS8s1u/ZtMJuPosX3UrtUQFRVVhXO6uvqMHDGV5Ut3MSdoLX/MDKZUKQ1MTMzf0pog5PngQZaRkRGNGjVi4cKFZGZmKpx7+PAha9asoXPnzkgkEjIzM+nZsycDBw6kYcOGLF26lLNnz7J48eJ87VpaWlKhQoVPujKtS5cuxMXFsXNn/o2NgYGB8tzfxtnZGUC+Uf3fjh8/TuvWrenWrRvu7u6UL1+euDjFq0okEgm1atViypQpXLx4ETU1NbZu3So/7+npiZ+fHydOnKBixYqsXZu30bVSpUrExMTkG0ja2tp+8qekO3fu8ODBA/njkydPoqSkhL29/Vvr9OvXj+DgYJYvX07Dhg2xtLT8qOf8559/sLKyYvz48VSpUgU7OzuFTf6QNyv3rts9qKmp5VsSdnZ25u+//1YoO3HiBPb29igrK78zJ11dXTp37sySJUvYsGEDmzdvJiUl/9KBn58f6enpCsfYrpXf1+Wvwu6zCYxbdY0/ervi7Wry1jh1VWXM9EuRkyvjQMQjGri9PVb4eO5uFTl1SvHS/xOnTuPs5ISq6uvdG8ErVvPX0uUsnD8bF+eCt0II+amoqGJjbc/Vq4ofjq5cPY+dnfM760ZFX+LRo/t413371hE1NTUMDY2RSqWcPXucypW8CiVvoeT6qDu+z58/Hy8vL3x8fPj111+xsbHh2rVr/PLLL5QpU0a+WXvs2LHk5uYyY8YMIG/ZKjAwkJEjR9KkSZNC33jcpUsXNm3aRM+ePfnjjz9o0KABGRkZLFiwgB07drBp0yb5DEeHDh2oVasWXl5emJubc+vWLfz8/LC3t8fRseBL4m1tbdm8eTMnTpzAwMCAWbNm8fDhQ/neqtOnT3Po0CEaN26Mqakpp0+fJjExEScnJ27duiW/ytHCwoKYmBhiY2PlV+xNmjSJFi1aYGlpSceOHVFSUuLy5ctcuXKFX3/99ZNel1KlStGzZ0/+/PNPMjIyGDZsGJ06dcq3H+tNP/zwAz///DNLlixh5cqVH/2ctra23Llzh/Xr11O1alV2796tMNiEvHtrNWjQgAoVKtClSxdycnLYu3evfM+WtbU1x44do0uXLqirq2NsbMyoUaOoWrUq06ZNo3Pnzpw8eZL58+ezcOHCd+YTFBRE6dKl8fDwQElJiU2bNmFubo6+vn6+WHV19XxLMrlq7x7AFYdnL3K4k/j6g8695Eyi7j5BT0sFC0MNZm2L41FaFjN6VQTyBlhjV1zDr6MD7jZ6JKbnXUFaSk0JHY28T+yXbqXzKO0FTpY6PErLYsHum+TmQt9G1p+9f1+T58+fc+fu660Q9+8/IDomFj1dXUqXNmfOvIU8epzIb9Py9ld27NCOdRtC+SNwNu3btubS5ats3baTGdOnyttYHrKKBYv+4vffplDGojRJSXkzX5qaGvKLg4S3a9q0PYv+NwMbG3vsbJ05fGQ3ycmPadAg78Ko9RuWkpqaxI+DFPcJhx8No0IFRywtbfK1ef16FKmpSVhZVSAlNZktW1aSK8ulRfPOn6VPxeFbXd4rbB81yLKzs+PcuXP4+/vTuXNnkpOTMTc3p02bNkyePBlDQ0OOHj3KggULCA8PV1i66d+/P6GhofTt25eDBw8WaickEgkbN25kzpw5BAUFMXjwYNTV1alZsyZHjhyhdu3a8lgfHx/WrVvH9OnTSU9Px9zcnPr16+Pv74+KSsEvx8SJE7l16xY+Pj5oamoyYMAA2rRpQ3p6OpA3U3Ls2DFmz55NRkYGVlZWBAYG0rRpUx49ekR0dDQrVqwgOTmZ0qVLM2TIEAYOHCjPZ9euXUydOpWZM2eiqqqKo6PjO/eIfShbW1vatWtHs2bNSElJoVmzZu8dlOjq6tK+fXt27979n+4G37p1a0aMGMGQIUPIysqiefPmTJw4UX57B8i7TcOmTZuYNm0av//+O7q6utSp8/qeNFOnTmXgwIFUqFCBrKwsZDIZlSpVYuPGjUyaNIlp06ZRunRppk6d+t7lTG1tbWbMmEFcXBzKyspUrVqVPXv2fNV7Ka7dyaDn7Nef1Gdszruoo02N0kzvUZHEjCwSUl/Iz2/4+z45uTKmbYhm2oZoefmreICsbClzd97gblImmurK1HExZkZPF3Q1FZdNBEXXIqPoO+D1Fbt/zJoDQKuWzfh1yiQSk5J4+PCh/HzZMhYsnDeLmYGzWb9xMyYmxowdPZJGDerLYzZu2kx2djajflHcfD1oQF98B/Uv4h59/WrWqMfTpxls3baatLQUypa15peff5NfLZiWlkJysuI9x54/f8rZs8fp3s23wDazs1+yMTSYxMQE1NU18HCvxo+DxqClpV1gvCC8IpEVtLFF+KY1atQIJycn5s6dW9ypFLvcQ0PeHyR8Ntk1phV3CsIbrlx7WtwpCG+oUu3jtne8y9ZOhX+hRduNWe8PKmHEF0QLcikpKezfv5/Dhw8zf/784k5HEARBEL5qYpAlyFWqVInU1FRmzJiBg4NDcacjCIIgCF81McgS5OLj44s7BUEQBOELIDa+F46vd/evIAiCIAjCF0zMZAmCIAiCoEDMZBUOMZMlCIIgCIJQBMRMliC8gyz7+fuDhM9G6cWj4k5BeIO6pn5xpyAIXzQxyBIEQRAEQcFXfL/mL4p4GQVBEARB+OIcO3aMli1bYmFhgUQiYdu2be+tk5WVxfjx47GyskJdXZ0KFSqwfPnyok/2LcRMliAIgiAICpQkxb/z/dmzZ7i7u9O7d2/at2//QXU6derEo0ePWLZsGba2tjx+/JicnJwizvTtxCBL+CLEx8djY2PDxYsX8fDwKO50BEEQhGLWtGlTmjZt+sHxYWFhHD16lJs3b2JoaAiAtbV1EWX3YcQg6xvy8OFDAgIC2L17N/fv38fU1BQPDw+GDx9OgwYNiju9IhceHk69evVITU1FX1+/uNP5z85dT2f54ftcu/uUxIxs5vZ1pKGb0Vvjz9/IYNbOeG4+yuRFdi4WBup08jKjZ70y8pi4hOfM33OHa/ee8iAli7FtbejhbfE5uvNVO3fxGsFrtxIZc53EpFTmTPejQd0a76xz9uJV/pi7nOu37mBqbEjvH9rSua3iH5JVG3awYeteEh4moa+vQ+N6Xgwf1AN1dbWi7E6JERa2lR3b15OamoKlpTW9eg/B2dn9rfHHjh1g+7Z1JCTcQ1NTC0/PavTo6YuOjh4ABw7s5OjRfdy9cwuA8uUd+P6H/tjZOX2W/pQUWVlZZGUpfn+huro66uqF8z2JO3bsoEqVKsycOZNVq1ahpaVFq1atmDZtGhoaGoXyHB9L7Mn6RsTHx1O5cmUOHz7MzJkzuXLlCmFhYdSrV4/BgwcXd3rCR3j+MheHMlpM6FDhg+I11JX4/rvSrBzmyi4/TwY2LsvcPXfYeOKhPObFSylljdUZ2dIKY13Vokq9xMl88QIHW2vGjRz4QfH3HjzCd9RUKrk7sykkiH49OjA9aCkHjpyQx+zaF07QopX82KcLO9bNZ6rfUMIO/c3s/60sqm6UKP/8c5iQ4Pm0a9+dP/5cgpOTG78FjCExseArU6OiLjN/3m/Ub9CMoNkrGPXzFK5fj2HRwpnymGvXIqhduwH+U2bz228LMTYxZdrUn0lOTvxc3frsJEqFf0yfPh09PT2FY/r06YWW882bN/n777+5evUqW7duZfbs2YSGhhbr3zgxyPpG+Pr6IpFIOHPmDB06dMDe3h4XFxdGjhzJqVOn5HF37tyhdevWaGtro6urK1/ffsXf3x8PDw+WL19OuXLl0NbW5scff0QqlTJz5kzMzc0xNTUlICBA4fklEgmLFi2iadOmaGhoYGNjw6ZNm96Zc2RkJM2aNUNbWxszMzO6d+9OUlISkDcrpaamxvHjx+XxgYGBGBsbk5CQUBgv2RerjrMBPzW3opH722ev3uRcVpvmlU2wK61JGaNStKpqSi1Hfc7fyJDHuFrp8EtrG5pVMkFNRbwtfKjvalZm2MBuNPKu+UHxG7eGYW5mwtjh/ahgbUmHVo1p26IBIWu3yWMuXY3B09WJ5o3rUqa0GbWqe9KsYR2uRd8ool6ULDt3bqR+/WY0bNiCsmWt6d1nKEZGJuzft73A+NjYSExMzGnevANmZqVxcnKjUeOW3LgRI48ZPnwiTZq0xcbGjjJlrRg06BdkslyuXDn/ubpVIvj5+ZGenq5w+Pn5FVr7ubm5SCQS1qxZQ7Vq1WjWrBmzZs0iJCSEzMzMQnuejyHeTb8BKSkphIWFMXjwYLS0tPKdf7V0JpPJaNOmDSkpKRw9epQDBw5w48YNOnfurBB/48YN9u7dS1hYGOvWrWP58uU0b96ce/fucfToUWbMmMGECRMUBm8AEydOpH379ly6dIlu3brRtWtXoqKiCsw5ISGBunXr4uHhwblz5wgLC+PRo0d06tQJAG9vb4YPH0737t1JT0/n0qVLjB8/niVLllC6dOlCeNVKrsh7T7l46wlVbXWLO5VvzqWr0XhV81Aoq1Xdk2vR18n+/825nm5ORMbc4EpkLAB37z/k2Mnz1KlZ+XOn+9XJzs7m5o1Y3D2qKpS7u1clJuZqgXUcHCqSnJzIhfOnkMlkpKWlcOrkUSpVfvvA+eXLLKTSHLS1S+7vkJKSpNAPdXV1dHV1FY7CWioEKF26NGXKlEFPT09e5uTkhEwm4969e4X2PB9D7Mn6Bly/fh2ZTIajo+M74w4ePMjly5e5desWlpaWAKxatQoXFxfOnj1L1ap5b1y5ubksX74cHR0dnJ2dqVevHjExMezZswclJSUcHByYMWMG4eHh1Kjxen9Kx44d6devHwDTpk3jwIEDzJs3j4ULF+bLZdGiRVSqVInffvtNXrZ8+XIsLS2JjY3F3t6eX3/9lYMHDzJgwACuXbtG9+7dadu27Se/XiVVvUlnSXmajTRXxuCm5ehQ07y4U/rmJKWkYWSor1BmZKhPjlRKWloGJsaGNGtUh9S0DLoP8gOZjByplM5tm9KvR4fiSfor8uRJOrm5UvT0DBXK9fQNSEtLKbCOo2NFfho+gVmz/MnOfolUKqVK1Vr07fvTW59n9erFGBqa4OYmBr5fklq1arFp0yaePn2KtrY2ALGxsSgpKVG2bNliyUkMsr4BMpkMyFuye5eoqCgsLS3lAywAZ2dn9PX1iYqKkg+yrK2t0dHRkceYmZmhrKyM0ht3rzMzM+Px48cK7desWTPf44iIiAJzOX/+PEeOHJH/orzpxo0b2Nvbo6amxurVq3Fzc8PKyorZs2e/s3/vU9CmTJWXUtTVlD+p3S/Fqp9ceZ4l5VL8E2btvE0541I0r2xS3Gl9c/79e/j/v57y8jMXrvDXik1M+Hkgbi723LmXwO+zl2ISbMCg3p3/3ZxQgHxvdTKAgt//7t6NZ/myuXTs2BN3j2qkpSazcuUi/lociO/gMfnit21byz9/H8J/yhzU1ApvFkbI7+nTp1y/fl3++NatW0RERGBoaEi5cuXw8/Pj/v37rFyZt1/x+++/Z9q0afTu3ZspU6aQlJTEL7/8Qp8+fcTGd6Ho2NnZIZFI3ro094pMJitwIPbvclVVxY3REomkwLLc3Nz35va2gV9ubi4tW7YkIiJC4YiLi6NOnTryuBMn8jYMp6SkkJJS8CfVD1XQpszfN17+pDa/JGWNSmFvoUVHL3N6eluwIOxOcaf0zTE21CcpOVWhLCU1DRVlZfT08j64zF+ylpZNvOnQqjH2FaxpWLcmPw3sztKVoR/0O/Ut09HRQ0lJOd+sVXp6Kvr6BgXW2bplNQ6OFWndpivW1hXw8KxG/wEjOHx4D6mpyQqx27evZ8vmNUyY+CfW1h924cnXSklS+MfHOnfuHJ6ennh6egIwcuRIPD09mTRpEpC3reTOndfvY9ra2hw4cIC0tDSqVKnCDz/8QMuWLZk7d26hvCb/hRhkfQMMDQ3x8fFhwYIFPHv2LN/5tLQ0IG/W6s6dO9y9e1d+LjIykvT0dJycPv1S5X/v0Tp16tRblzArVarEtWvXsLa2xtbWVuF4ta/sxo0bjBgxgiVLllCjRg169OjxSX+ECtqUObaT239u70smA17myIo7jW+Oe0VHTp6NUCg7cSYCF0dbVFXyFhZevMhCSaL41qyspIRM9npWWiiYqqoq5SvYc/nSOYXyy5fP4eBQscA6WVn5X+9Xs/Jvvt7bt61jc+hKJkycia3tu7deCIXD29sbmUyW7wgJCQEgJCSE8PBwhTqOjo4cOHCA58+fc/fuXQIDA4ttFgvEIOubsXDhQqRSKdWqVWPz5s3ExcURFRXF3Llz5ct4DRs2xM3NjR9++IELFy5w5swZevToQd26dalSpcon57Bp0yaWL19ObGwskydP5syZMwwZMqTA2MGDB5OSkkLXrl05c+YMN2/eZP/+/fTp0wepVIpUKqV79+40btyY3r17ExwczNWrVwkMDPzP+RW4KfMLXCp8liUl6t5Tou49BeB+8gui/v/+VgCzdsYzdnWsPH7t8QSOXE0h/nEm8Y8z2XLqEcGH79Oyyuulwpc5ufI2s3NyeZSeRdS9p9xOLJ4rcr4Wz59nEh17k+jYmwDcT3hEdOxNEh7mXdoftGglflOD5PGd2jYh4WEiM+cs40b8XbbsOsiWnQfp9X0beUzdWlXZsHUvew4c496DR5w4E8G8JWvw/q4qyspf3r/HL03Llp04dGg3hw7t5t69eIKD55OU9JjGjVsBsGb1X8yd+/rq5ypVvDh9+hj7wrbx6OEDoqOvsHzZXGztnDA0NAbylgjXrVuGr+8YTEzMSU1NJjU1mczMkvsF8kWx8f1bJPZkfSNsbGy4cOECAQEBjBo1ioSEBExMTKhcuTKLFi0CkH831NChQ6lTpw5KSko0adKEefPmFUoOU6ZMYf369fj6+mJubs6aNWtwdnYuMNbCwoJ//vmHMWPG4OPjQ1ZWFlZWVjRp0gQlJSWmTZtGfHw8O3fuBMDc3JylS5fSqVMnGjVqVKLvGn/tzlN6zX99pdSMbfEAtKlmym8/2JGUkU1C6uu9ZbkyGUE7b3M/5QXKShIsjUsxsqUVnbxeb3xPTH9J+z8uyR8HH35A8OEHVLXVZcVQ16Lv1FfqavR1+gyZIH88c27ed6S1blafgAk/kZScSsKjJPn5shZmLAycxMw5y1i3ZQ+mxob4jehHo3pe8piBvTohkUiY99caHiemYGCgi3etqgwb2O3zdewrVqtWfZ48SSd000pSU5MpV86GceNmYGKa9+89NTWZpKTX+0Xr1W9K5ovn7N27lRUrFqKlpU1F10p06/b63mf7wraTk5PNn39OUniujp160blz78/Tsc9M8o0OigqbRCbmn4XPQCKRsHXrVtq0aVPcqXwUaVif4k5BeENu1dHFnYLwhugE/eJOQXiDa8XCu2L4SL/8t/v5VPWW5t+uUtKJ5UJBEARBEIQiIAZZgiAIgiAIRUDsyRI+C7EqLQiC8PUQW7IKhxhkCYIgCIKg4Fu9GrCwieVCQRAEQRCEIiBmsgThHSTK4mszviSS3OziTkF4g7Ky+JwuCO8ifkMEQRAEQRCKgJjJEgRBEARBgZKYgikUYpAlCIIgCIICJYnY+F4YxFhVKHTe3t4MHz68yJ8nJCQEfX39In8eQRAEQfgvxCCrhHn48CFDhw6lfPnyqKurY2lpScuWLTl06JA8xtramtmzZxdfkoWkc+fOxMa+/iJkf3//Ev2dha+cvZ7Kj/+7RJ1xf+M05DAHLyW+M/78jTS+n3WeGqOP4TEinGbTThFy+E6+uP0XH9Pi11O4DT9Ci19PceA97QpwLiIS39HT8W7dH5faHTh07Mx765y9eI2OfUbjWb8rPh192bBtn8L57JwcFgZvokmnwXjW70rbnqM4fupiUXWhRNq7ZysDB3SiU8cGjBrZl8hrl94Zf/TofkYM70XnTg3p07s18+b+RkZGeoGxx48fpG2b75j+m19RpC6UMGKQVYLEx8dTuXJlDh8+zMyZM7ly5QphYWHUq1ePwYMHF3d6hU5DQwNTU9PiTuOzy8zKxaGMNhM62X9QvIaaMj/UKcOqEZXYPaE6g3ysmbvrJhv/vi+PuXgznZHB12hV1ZxtY6vRqqo5I5dd5VJ8wX9ohDyZmS9wsLVm/Mi+HxR/78EjfvzlNyq5OxG6/A/692jHb7OD2R9+Sh4z9691bNp+gHEj+rJj1Ww6t2nMT+P+ICr2ZlF1o0T5++9DLF8+lw4duxM4axnOzu5Mm/YLiYmPCoyPjLzM3DkBNGjYgrnzVvLzL9OIux7NwgUz8sU+fvyQFSELcXZ2L+puCCWEGGSVIL6+vkgkEs6cOUOHDh2wt7fHxcWFkSNHcurUqfc38P/Cw8OpVq0aWlpa6OvrU6tWLW7fvg1Ar1698n3J8/Dhw/H29lYoy8nJYciQIejr62NkZMSECRMU7voukUjYtm2bQh19fX1CQkKAvAGjRCJhy5Yt1KtXD01NTdzd3Tl58qQ8/s3lwpCQEKZMmcKlS5eQSCRIJBJ5W/7+/pQrVw51dXUsLCwYNmzYB78WX6I6LkYMb1mBxh4fNsB0ttSheRVz7EprU8ZIg1bVzKnlZMS5G2nymJXhd/FyNGCAjzXlzbUY4GNNDQcDVh65W0S9KBm+q1mJnwZ0pVHdGh8Uv2HbfkqbGeP3U28qWJelQ8uGtGtej5B1O+QxO/cdo3/3ttSpWQnLMmZ0aetDreruhKzfWVTdKFF2bN9Ag4bNadSoJZaW1vTtNwwjY1PCwrYWGB8bew0TE3NatOiAmZkFzs5u+DRuxfXrMQpxUqmUoKCpdOnSBzOz0p+jK8VKolT4x7foG+12yZOSkkJYWBiDBw9GSyv/t6d/6N6lnJwc2rRpQ926dbl8+TInT55kwIABSD5yE+SKFStQUVHh9OnTzJ07l6CgIJYuXfpRbQCMHz+en3/+mYiICOzt7enatSs5OTn54jp37syoUaNwcXEhISGBhIQEOnfuTGhoKEFBQSxevJi4uDi2bduGq6vrR+dRkkTefULEzXSq2hnIyy7dSsfL0VAhrpaTIRdvipmswnTpWixeVRVnQWpV8+Ba9A2y///f9cvsbNTV1RRi1NXUuHA5+rPl+bXKzs7mxo1YPDyqKZR7eFQlOvpqgXUcHSuSnJzI+XMnkclkpKWlcOJkOJWr1FSI27gxBD1dfRo2alFk+X9JlJQkhX58i8TVhSXE9evXkclkODo6flI7GRkZpKen06JFCypUqACAk5PTR7djaWlJUFAQEokEBwcHrly5QlBQEP379/+odn7++WeaN28OwJQpU3BxceH69ev5+qmhoYG2tjYqKiqYm5vLy+/cuYO5uTkNGzZEVVWVcuXKUa2a4hvwt8J7wj+kPH2JVCpjcDMbOnpZyM8lZbzEWEfxD7uxjhpJT15+7jRLtKTkNIyq6ymUGRnqkSOVkpb2BBNjA2pV82DF+p1UcXfGsowZp85f4cjfZ5Hm5hZT1l+PJ0/Syc2Voq9voFCur2dAWmpKgXUcHV0ZMXIif/45mezsl0ilUqpWq03//sPlMVFRlzl0cDezgpYXZfpCCSRmskqIV0txHzvj9G+Ghob06tULHx8fWrZsyZw5c0hISPjodmrUqKGQS82aNYmLi0MqlX5UO25ubvL/L106b4r+8ePHH1y/Y8eOZGZmUr58efr378/WrVsLnAkDyMrKIiMjQ+HIevlx+X7JVg+vROgvVZncxYGVR+6y+9xDhfP//qcjAyR8m58+i9K/f0flq+j/X+z3U2+sLEvT4oef8KjXhYBZy2jTrB7K4sZFH+FfrzFvf2+8e/cWS5fMoVPnXvwZuJRJk//k8aMH/G/RnwBkZj5ndtCv/Og7Gl1d/SLOWyhpxG9tCWFnZ4dEIiEqKuqT2woODubkyZN4eXmxYcMG7O3t5Xu6lJSUFPZWQd4U/ceSSCQf1I6qqqpCHYDcj/hEb2lpSUxMDAsWLEBDQwNfX1/q1KlT4HNNnz4dPT09heP39Rc++Lm+dGWNNbAvo02nWmXoWd+S+Xvi5eeMddVIzFCctUp+8hIjHVWEwmNspE9ScppCWUpqOirKyujr6QBgaKDHvOljOHdgNQdCF7Fr7Rw0NUpRpvS3d5HHx9LR0UNJSZm0NMVZq/T0VPT+Nbv1yubQ1Tg6udK27fdYW9vi6VmdAQNHcejQblJSkniYcJ/HjxP4LWAs7dt5076dN+Hh+zh79h/at/MmIeF+ge0KAohBVolhaGiIj48PCxYs4NmzZ/nOp6WlfVR7np6e+Pn5ceLECSpWrMjatWsBMDExyTezFRERka/+vzfanzp1Cjs7O5SVlQtsJy4ujufPn39Ujv+mpqZW4EyZhoYGrVq1Yu7cuYSHh3Py5EmuXLmSL87Pz4/09HSFY2yXSp+U05dKJoOXOa8Hq+42epyITlWIORGdgmd5vX9XFT6Bu4s9J85dVig7cfYSLo4VUFVR3L2hrq6GmYkROVIpB46epv53VT9nql8lVVVVKlSw51LEWYXySxFncXSsWGCdrKwslP61K1vpjVnDMmXLMXvOCmYFLZcfVavWomJFT2YFLcfYuGQOfpUkhX98i8QgqwRZuHAhUqmUatWqsXnzZuLi4oiKimLu3LnUrFnz/Q0At27dws/Pj5MnT3L79m32799PbGysfF9W/fr1OXfuHCtXriQuLo7Jkydz9Wr+DaV3795l5MiRxMTEsG7dOubNm8dPP/0kP1+/fn3mz5/PhQsXOHfuHIMGDVKYtfovrK2tuXXrFhERESQlJZGVlUVISAjLli3j6tWr3Lx5k1WrVqGhoYGVlVW++urq6ujq6ioc6mrKn5RTUXiWlUPUvSdE3XsCwL3kTKLuPeFBygsAZm2/wZiVkfL4NUfvceRKEvGPnxP/+DlbTj4g+NAdWlY1k8f08LbkRHQKSw7c5ubDZyw5cJuT0an0qGf5eTv3lXn2PJOouFtExd0C4F7CI6LibvHgYd49xoL+twa/aXPl8Z3bNCbhYSIz5oVwI/4eW3YdYvOuw/Tq2koec/laLAeOnuLu/UecvxTJwFG/IsvNpc/3bT5r375WrVp35uDBXRw8uJu7d+NZvmwuSUmP8fFpA8CqVf9jzuxf5fFVq3px6tRRwvZu5eHDB0RFXWbZ0jnY2TlhaGiMmpo6VlblFQ4tLW00NDSxsir/ye9bXyqx8b1wiI3vJYiNjQ0XLlwgICCAUaNGkZCQgImJCZUrV2bRokUf1IampibR0dGsWLGC5ORkSpcuzZAhQxg4cCAAPj4+TJw4kdGjR/PixQv69OlDjx498s0M9ejRg8zMTKpVq4aysjJDhw5lwIAB8vOBgYH07t2bOnXqYGFhwZw5czh//vwn9b99+/byWz6kpaURHByMvr4+v//+OyNHjkQqleLq6srOnTsxMjL6pOcqTtduP6Hn3Nc3p5yx5ToAbaqbM727M4kZWST8/4AL8vbrzdpxg/vJmSgrSbA01mBk6wp0rlVGHuNZXo/A3i7M2XWTebtuYmmsQWAfF9ytxUzWu1yLvkHvYf7yxzPnrQCgdVNvfhs/hMTkVBIeJcnPl7UwY9Ef45gxL4R1W8IwNTZk3PDeNPZ+fQuIrJfZzF2ynnsPHqGpUYo6NTz5feIwdHXyXzUs5Fe7dgOeZGSwcUMIqanJlCtnw4SJMzE1zbsgJjUlWeGeWfUbNCMz8zl79mwhOHgBWlrauLpVokePH4urC0IJIpH9e2OMIAhyuQfEG+2XJNfDt7hTEN4Qm2T2/iDhs3F2KrylywsjCv8DVqWgb++WMGK5UBAEQRAEoQiI5UJBEARBEBRIvtE9VIVNDLIEQRAEQVAgxliFQywXCoIgCIIgFAExyBIEQRAEQSgCYpAlCIIgCIJQBMSeLEF4h+dJt4s7BeENaqXELQO+JMkPnxR3CsKbCvEWDt/qzUMLmxhkCYIgCIKgQIyxCodYLhQEQRAEQSgCYpBVQnl7ezN8+PB3xlhbWzN79uxPep5t27Zha2uLsrLye59PEARBEL4lJX658OHDhwQEBLB7927u37+PqakpHh4eDB8+nAYNGgB5g43hw4eLQcJ/MHDgQHr37s2wYcPQ0dH55Pbi4+OxsbHh4sWLeHh4fHqCJdCF+ExWnkgj6kEWSU+l/NnZnHpOb/9eu4u3M5l3MIX4pJe8yJZhrqdC+yq6/FBTXyHuSaaUBYdTOBz1jCeZuVgYqDCisRG17cV35r3NuQsRhKxaR2RUDIlJycz+M4AG3nXeWefs+Yv8ETSfGzfjMTExok/37+nUoY38/MHDR1kSvIq7d++Tk5NDuXJl6flDZ1o2b1LEvSk5joTvYt+BzaSlp2BhYUWXjgOwt6tYYOzykFmcOHUwX7lF6XJMnfw/+ePnz5+ydfsKLlw8wbPnTzE2NqdT+364uVYtsn4IX78SPciKj4+nVq1a6OvrM3PmTNzc3MjOzmbfvn0MHjyY6Ojo4k7xq/b06VMeP36Mj48PFhYWxZ1OPtnZ2aiqqhZ3GoUuMzsXezM1Wnno8MvGR++N11BTolM1XezM1NFQlRBx5wUBuxLRUFWiXRVdALJzZPiuSsBAS5mZncww01XhYXoOWupisvtdMjNfYG9nS5uWzRgxesJ74+/df8Dgn0bTvm1Lfp82kYuXrvDr77MwMNCnUQNvAPR0dRnQpwc21uVQVVXl6PETTJz6O4aGBtSqWb2Ie/T1O3PuKOs3/cUPXX2xreDMseN7mTN/ElMn/w8jw/wbw7t0Hkj7tr3kj6W5uUz5dTCVK9WWl+XkZDNrznh0dPQZNGAchgbGpKQmUaqUxufoUrEQd3wvHCX6HdTX1xeJRMKZM2fo0KED9vb2uLi4MHLkSE6dOvXB7Zw9e5ZGjRphbGyMnp4edevW5cKFCwox/v7+lCtXDnV1dSwsLBg2bJj83MKFC7Gzs6NUqVKYmZnRoUMH+TmZTMbMmTMpX748GhoauLu7ExoaKj8fHh6ORCJh3759eHp6oqGhQf369Xn8+DF79+7FyckJXV1dunbtyvPnzxVyysnJYciQIejr62NkZMSECRN42/eB9+nThxYtWuSrb25uzvLly/PFh4eHy2eu6tevj0QiITw8nOTkZLp27UrZsmXR1NTE1dWVdevWKdTNzc1lxowZ2Nraoq6uTrly5QgICADAxsYGAE9PTyQSCd7e3vI6U6dOpWzZsqirq+Ph4UFYWJi8zfj4eCQSCRs3bsTb25tSpUqxevVqbt++TcuWLTEwMEBLSwsXFxf27NlT4Gvwtahlp4VvAyPqO2t/ULxjaXWauOpQwVQNCwNVmrnrULOCJhfvZMpjtl/MID1TSmAXczzKaVBaXxVPKw3szdWLqhslwne1ajDMtz8N69f9oPiNm7djbm7GmFHDKG9jTfs2LWnbqjkhq9fLY6pW8aRBvTqUt7HGsmwZunXtiL1teS5EXCmqbpQoBw5upXatxtSp3QSL0uXo0mkgBgYmhB/dXWC8poYWenqG8uP27VieP39Kba9G8pi/T+zn2bMnDP5xIna2LhgZmWFn64Jl2fKfq1ufnZJS4R/fohI7k5WSkkJYWBgBAQFoaeVf7tDX1//gtp48eULPnj2ZO3cuAIGBgTRr1oy4uDh0dHQIDQ0lKCiI9evX4+LiwsOHD7l06RIA586dY9iwYaxatQovLy9SUlI4fvy4vO0JEyawZcsWFi1ahJ2dHceOHaNbt26YmJhQt+7rN25/f3/mz5+PpqYmnTp1olOnTqirq7N27VqePn1K27ZtmTdvHmPGjJHXWbFiBX379uX06dOcO3eOAQMGYGVlRf/+/fP1sV+/ftSpU4eEhARKly4NwJ49e3j69CmdOnXKF+/l5UVMTAwODg5s3rwZLy8vDA0NSUxMpHLlyowZMwZdXV12795N9+7dKV++PNWr530K9/PzY8mSJQQFBVG7dm0SEhLks4pnzpyhWrVqHDx4EBcXF9TU1ACYM2cOgYGBLF68GE9PT5YvX06rVq24du0adnZ28rzGjBlDYGAgwcHBqKurM2DAAF6+fMmxY8fQ0tIiMjISbe0PG5yUVNEJWVy++4If6xvKy47FPMetbClm7E7kaMxzDDSVaOKqQ8/a+iiLT7SF5tKVa3jVUFxeqlWzGlu37yI7JwdVFcW3ZJlMxumz54m/fZfhQ90/Z6pfpZycbG7fuU5TH8X3LBcnT27cjPqgNo7/sx8nRw+MjF7fLiTi0mnKl3di7bqFXLx0Ch0dPapX9aapTweUlJQLtQ9CyVJiB1nXr19HJpPh6Oj4yW3Vr19f4fHixYsxMDDg6NGjtGjRgjt37mBubk7Dhg1RVVWlXLlyVKtWDYA7d+6gpaVFixYt0NHRwcrKCk9PTwCePXvGrFmzOHz4MDVr1gSgfPny/P333yxevFhhkPXrr79Sq1YtAPr27Yufnx83btygfPm8T1IdOnTgyJEjCoMsS0tLgoKCkEgkODg4cOXKFYKCggocZHl5eeHg4MCqVasYPXo0AMHBwXTs2LHAQYmamhqmpnlT74aGhpibmwNQpkwZfv75Z3nc0KFDCQsLY9OmTVSvXp0nT54wZ84c5s+fT8+ePQGoUKECtWvnTc2bmJgAYGRkJG8T4M8//2TMmDF06dIFgBkzZnDkyBFmz57NggUL5HHDhw+nXbt28sd37tyhffv2uLq6yl/fb1XTwHhSn0uR5sIAbwPaVtaVn7uXmk3CrRyaumkz94fS3El+yYw9SeTkyhjgbfiOVoWPkZycjJFhNYUyI0MDcqRS0tLSMDE2BuDJ06c0aNqO7JcvUVJWZsKYkfkGZ0J+T59mkJubi66uvkK5rq4B6Rmp762flp7C1Wvn6N9ntEJ5UtJDomMuUaNaPX4aMoXHjx+wZv1CcnOltGz+fWF24YuhJBEfrgpDiZ3Ae7UsJimEfyiPHz9m0KBB2Nvbo6enh56eHk+fPuXOnTsAdOzYkczMTMqXL0///v3ZunUrOTk5ADRq1AgrKyvKly9P9+7dWbNmjXxZLzIykhcvXtCoUSO0tbXlx8qVK7lx44ZCDm5ubvL/NzMzQ1NTU2HAYGZmxuPHjxXq1KhRQ6H/NWvWJC4uDqlUWmA/+/XrR3BwsLzPu3fvpk+fPh/1WkmlUgICAnBzc8PIyAhtbW32798vf62ioqLIysqSX3TwITIyMnjw4IF8kPlKrVq1iIpS/HRapUoVhcfDhg2TD1AnT57M5cuX3/o8WVlZZGRkKBxZ2QW/Vl+jpX3KsGpAWfxamLDuVDphV17fSFImAwMtZca3NMHJQh0fVx36fGdA6LmMYsy4ZPr3e5L8vYrX5VqamoSuXc66lUsY5tufP4Lmc/bcxc+a59esoNf4zdf3bU6cPICmhjaeHjX/VT8XXR19enQbirWVHdWq1qV5085vXYIUhFdK7CDLzs4OiUSS74/wf9GrVy/Onz/P7NmzOXHiBBERERgZGfHy5Usgb8YoJiaGBQsWoKGhga+vL3Xq1CE7OxsdHR0uXLjAunXrKF26NJMmTcLd3Z20tDRyc3MB2L17NxEREfIjMjJSYV8WoLCBWyKR5NvQLZFI5O39Vz169ODmzZucPHmS1atXY21tzXffffdRbQQGBhIUFMTo0aM5fPgwERER+Pj4yF8rDY3/vlG0wDfOf5X9e2m4X79+3Lx5k+7du3PlyhWqVKnCvHnzCmx/+vTp8kH0qyNw+83/nO+XpoyBKnZm6rSrrMv3NfT5K/z1J3tjHWWsjFQVlgZtTFRJfiolO6fgfXzCxzMyMiIpOUWhLCU1DRVlZfT09eRlSkpKlLMsi6ODHT27daFRg7osDVn1udP96mhr66KkpER6uuKs1ZMnaflmt/5NJpPx9z8HqFG9Pioqiu+venqGmJmVUVgaLG1uSXpGKjk52YWWv1DylNhBlqGhIT4+PixYsIBnz57lO5+WlvbBbR0/fpxhw4bRrFkzXFxcUFdXJykpSSFGQ0ODVq1aMXfuXMLDwzl58iRXruRtVFVRUaFhw4bMnDmTy5cvEx8fz+HDh3F2dkZdXZ07d+5ga2urcFhaWn5S/4F8m/tPnTqFnZ0dysoF7yEwMjKiTZs2BAcHExwcTO/evT/6OY8fP07r1q3p1q0b7u7ulC9fnri4OPl5Ozs7NDQ0OHToUIH1X+3BenO2TVdXFwsLC/7++2+F2BMnTuDk5PTenCwtLRk0aBBbtmxh1KhRLFmypMA4Pz8/0tPTFY5RrUvm8qIMGS/fGDy5W5bibko2ubmvy24nZ2OsrYyqilg2KCzuri6cPH1WoezEqTM4Ozvm24/1JpkMXr4Uf8zfR0VFFatytkRGKc76RUZdpEL5d79XxMRe4XHiA76r1TjfOdsKzjx+/EDhg+yjR/fR0zPMNyArKcTG98JRYvdkQd5VfV5eXlSrVo2pU6fi5uZGTk4OBw4cYNGiRR88y2Vra8uqVauoUqUKGRkZ/PLLLwozMiEhIUilUqpXr46mpiarVq1CQ0MDKysrdu3axc2bN6lTpw4GBgbs2bOH3NxcHBwc0NHR4eeff2bEiBHk5uZSu3ZtMjIyOHHiBNra2vI9S//V3bt3GTlyJAMHDuTChQvMmzePwMDAd9bp168fLVq0QCqV/qfnt7W1ZfPmzZw4cQIDAwNmzZrFw4cP5YOhUqVKMWbMGEaPHo2amhq1atUiMTGRa9eu0bdvX0xNTdHQ0CAsLIyyZctSqlQp9PT0+OWXX5g8eTIVKlTAw8OD4OBgIiIiWLNmzTvzGT58OE2bNsXe3p7U1FQOHz781oGZuro66uqKV9M9Vf3yNrU+z8rlbsrrP7gP0rKJSchCV0OJ0vqqzDuYTGJGDlPb5W3c3XgmHXM9FayN8/4YRNx5waoT6XSp9npPVoeqemw4k86fYUl0rqbHnZRsgo+n0aW6HsLbPX/+nDt378sf37+fQHRMHHp6upQ2N2P2/P/x+HESv03Nu71Dp/atWb9xCzNnzaND25ZcunyNLdt3MzNgsryNpcGrcHZyxLJsGbJzsjn+90l27g5jgt+oz96/r1Gjhm1ZFhyItZUd5cs7cux4GCmpiXjXaQbA5q3BpKUl07f3zwr1/j6xj/I2DpQpY52vTe86zTl0ZCfrNy6mfr2WPH78gN1hG2lQr9Xn6JLwFSvRgywbGxsuXLhAQEAAo0aNIiEhARMTEypXrsyiRYs+uJ3ly5czYMAAPD09KVeuHL/99pvC5m59fX1+//13Ro4ciVQqxdXVlZ07d2JkZIS+vj5btmzB39+fFy9eYGdnx7p163BxcQFg2rRpmJqaMn36dG7evIm+vj6VKlVi3Lhxn9z/Hj16kJmZSbVq1VBWVmbo0KEMGDDgnXUaNmxI6dKlcXFx+U/3vpo4cSK3bt3Cx8cHTU1NBgwYQJs2bUhPT1eIUVFRYdKkSTx48IDSpUszaNAgIG/Wb+7cuUydOpVJkybx3XffER4ezrBhw8jIyGDUqFE8fvwYZ2dnduzYoXBlYUGkUimDBw/m3r176Orq0qRJE4KCgj66X1+SyAdZDFzxQP541r5kAFq46zClrSlJT6Q8TM+Rn8+VwfyDydxPy0FZSUJZAxWGNjSk/Rsb3831VFjQ3YLAsCS6LLqHia4yXavr0bO2/mfr19foWmQMfQa9vl3LH0HzAWjVogkB/uNJTEom4eHre5mVLWPBgjkz+WPWPNZv2oqpiTF+P/8kv0cWwPPMFwTMmMWjx49RV1fHxtqK6dMm0qTxh+9j/JZVq1KXZ0+fsHP3WtIzUrCwsOanIVPkVwump6eSnJKoUOd55jMuXDhBl04DC2zT0NCEkT/9yoZNf+E/bTAG+kY0rN+apj4dCowvCcR9sgqHRPa2GycJ36Tnz59jYWHB8uXLFa7S+1Y9XdesuFMQ3qDWIqS4UxDecPrck/cHCZ/Nd/UqFFpbN/yNC62tVyr4J70/qIQp0TNZwofLzc3l4cOHBAYGoqenR6tWYhpcEARBED6FGGQJQN79pGxsbChbtiwhISGovGMTriAIglCyidXCwiH+kgpA3pdki5VjQRAEQSg8YpAlCIIgCIICJTGVVSi+0TtXCIIgCIIgFC0xyBIEQRAEQSgCYrlQEN5Bq0qv4k5BeENqtmZxpyC8QVtP3IW+pJIofXk3Yv4aiZksQRAEQRCEIiBmsgRBEARBUCBmsgqHmMkSBEEQBEEoAmKQJRSL+Ph4JBIJERERxZ2KIAiCIBQJsVxYgj18+JCAgAB2797N/fv3MTU1xcPDg+HDh9OgQcn/stnw8HDq1atHamoq+vr6+R5/rc5ejWfZ5r+5duMBiSlPmD++Kw1rOr81/nHKE2Ys28u16w+4/SCF7i1rMG6A4ncydh+7jLNX4/PVrVvFnsX+3Qu7CyXO5s0bWbNmFcnJSdjYlGf48J/x8PB8a3xo6EZCQzeQkJCAubk5PXv2oVmzFvLzu3fv4Ndfp+SrFx5+AnV19SLpQ0myf/92du7aQFpaMmXLWtOjx2CcHN3eGv/33wfZsXM9Dx/eR1NTC3f3qnT7YRA6OnoA3L17i02hIdy8GUtS0iN6dPelWbOS++XQIJYLC4sYZJVQ8fHx1KpVC319fWbOnImbmxvZ2dns27ePwYMHEx0dXdwpCv9R5ouXOJY3p10jT4b9tv698S+zczDU1WJQp7qs2H6iwJh547uSnSOVP07LeE6boQvxqe1SaHmXVAcP7mf27EB++WUsbm4ebN26mZEjh7J27SbMzUvni9+yZROLFs3Hz28CTk7OREZe4/fff0VHR5fvvqsjj9PS0mLDhi0KdcUA6/1OnDzCipUL6NvnJxwcKnLw4E5+/30sgX8GY2xsli8+OvoKCxb+To8evlSuVJOUlCSWLgvir7/+ZNSoaQC8fJmFqWlpalSvy8pVCz93l4SvmFguLKF8fX2RSCScOXOGDh06YG9vj4uLCyNHjuTUqVPyuDt37tC6dWu0tbXR1dWlU6dOPHr0SH7e398fDw8Pli9fTrly5dDW1ubHH39EKpUyc+ZMzM3NMTU1JSAgQOH5JRIJixYtomnTpmhoaGBjY8OmTZvemXNkZCTNmjVDW1sbMzMzunfvTlJS3re2h4eHo6amxvHjx+XxgYGBGBsbk5CQUBgv2VejThV7hndvSGOvDxsAlTUzYPzA5rRp4Im2ZqkCY/R1NDEx0JEfJyJuUEpdlSa1KxZm6iXSunWradmyNa1atcXa2oYRI37G1NSMLVtCC4zfu3cPbdq0o2HDxpQpU5ZGjXxo0aI1q1eHKMRJJBKMjIwVDuH9du/eRL16TalfvzllyljRs+cQjIxMOXBgR4HxcdcjMTExo2mTdpialsbR0ZWGDVpw42asPKZCBUe6/TAIL6/6qKiofq6uFCslJeVCP75FYpBVAqWkpBAWFsbgwYPR0tLKd/7VUplMJqNNmzakpKRw9OhRDhw4wI0bN+jcubNC/I0bN9i7dy9hYWGsW7eO5cuX07x5c+7du8fRo0eZMWMGEyZMUBi8AUycOJH27dtz6dIlunXrRteuXYmKiiow54SEBOrWrYuHhwfnzp0jLCyMR48e0alTJwC8vb0ZPnw43bt3Jz09nUuXLjF+/HiWLFlC6dL5ZwuETxO6/zzN6riiWUqtuFP5omVnZxMTE021ajUUyqtXr8GVK5ffUuclamqKr6u6ujqRkdfIyXl936nMzEzatm1Oq1ZNGTXqJ2JixOzz++TkZHPrVixublUUyt3cqhAbe63AOvb2LqSkJHHx4ilkMhlpaSmcPn2MSp41CowXhI8hlgtLoOvXryOTyXB0dHxn3MGDB7l8+TK3bt3C0tISgFWrVuHi4sLZs2epWrUqALm5uSxfvhwdHR2cnZ2pV68eMTEx7NmzByUlJRwcHJgxYwbh4eHUqPH6jaljx47069cPgGnTpnHgwAHmzZvHwoX5p9sXLVpEpUqV+O233+Rly5cvx9LSktjYWOzt7fn11185ePAgAwYM4Nq1a3Tv3p22bdt+8uslKLocc4+4248JGCZe2/dJS0tDKpViaGikUG5gYERKSnKBdapXr8nOnduoW7ceDg6OREdHsWvXDnJyckhLS8PY2AQrKxsmTPCnQgVbnj17xsaN6xg4sA+rVq3H0rLc5+jaVykjI53c3Fz09AwUyvX0DEhLTymwjoN9RYYMGcecudPIzn6JVCqlcmUvevUa+jlSFko4McgqgWQyGZC33PAuUVFRWFpaygdYAM7Ozujr6xMVFSUfZFlbW6OjoyOPMTMzQ1lZGSUlJYWyx48fK7Rfs2bNfI/fdjXh+fPnOXLkCNra2vnO3bhxA3t7e9TU1Fi9ejVubm5YWVkxe/bsd/bvY2VlZZGVlaVQpvYyG3W1b2N54JXQA+exszLFzaFscafy1cj/uyZ7a2zv3v1ITk6mX7+eABgYGNK8eUtWr14hX1KpWNGVihVd5XXc3Nzp1esHNm1az8iRows9/5JGwr9+HjLZW98P792LZ0XIfNq3646bW1XS0lJYs2YxS5cFMWjgL58h2y+TRPnbXN4rbGK5sASys7NDIpG8dWnuFdlb3nj+Xa6qqjjIkEgkBZbl5ua+N7e3vdHl5ubSsmVLIiIiFI64uDjq1Hm9GfjEibyN2ykpKaSkFPzJ9L+aPn06enp6Csf0/20r1Of40mW+eMmeY1fo2LjK+4MF9PX1UVZWJjk5SaE8NTUl3+zWK6VKlWLChMmEh//Dli072bZtN6VLl0ZTU+utV70qKSnh5OTM3bt3C7sLJYqurh5KSkr5Zq3SM9LQ0zUosM627Wuxd3ChZcsuWFlVwN29Kn36/ER4+F5SUwuejRSEDyUGWSWQoaEhPj4+LFiwgGfPnuU7n5aWBuTNWt25c0fhjTsyMpL09HScnJw+OY9/79E6derUW5cwK1WqxLVr17C2tsbW1lbheLWv7MaNG4wYMYIlS5ZQo0YNevTo8UEDuw/l5+dHenq6wuE3qE2htf812Pv3VV5mS2lZz724U/kqqKqq4uDgyNmzpxXKz5w5javr228ZAKCiooqpad6s8IED+6lVq7bC7PCbZDIZcXGxYvP7e6ioqGJjY8+Vy+cVyq9cOY+9fcEXirx8mYVEovi6v/o5vFoV+BZJlFQK/fgWiUFWCbVw4UKkUinVqlVj8+bNxMXFERUVxdy5c+XLeA0bNsTNzY0ffviBCxcucObMGXr06EHdunWpUuXTZzI2bdrE8uXLiY2NZfLkyZw5c4YhQ4YUGDt48GBSUlLo2rUrZ86c4ebNm+zfv58+ffoglUqRSqV0796dxo0b07t3b4KDg7l69SqBgYGfnOcr6urq6OrqKhxf4lLhs8wsom4mEHUz76rKe4/SiLqZwIPHaQAEhuxnTKDilW2v4p+/eElK+jOibiZw/c7jfzfN5v0XaFjDEQNd8UXMH6pr127s2LGNnTu3Ex9/i9mzA3n06CFt2+bdR2nhwnlMmTJJHn/nzm3CwvZw9+4drl27ysSJfty8eYMff3z9u7Fs2V+cOnWC+/fvERsbQ0DAVGJjY2jbtv1n79/Xpnnzjhw+socjR/Zy//5tVqxcQFLSIxo2bAnAunVLWLBwujy+UqWanD17nP0HtvPo0QNiYq4SsmI+FSo4YmiYN6jNyckmPv468fHXkebkkJKaRHz8dR4+vF8sfRS+Ht/m0PIbYGNjw4ULFwgICGDUqFEkJCRgYmJC5cqVWbRoEZC3dLdt2zaGDh1KnTp1UFJSokmTJsybN69QcpgyZQrr16/H19cXc3Nz1qxZg7NzwTfNtLCw4J9//mHMmDH4+PiQlZWFlZUVTZo0QUlJiWnTphEfH8/OnTsBMDc3Z+nSpXTq1IlGjRrh4eFRKDl/Da7GPaDnuOXyx78v3QtAmwae/D6iHYmpT3mQmK5Qp+2w1xcbXLv+gF1HL2Nhqs/h5aPk5bfuJ3E+8jbLpvUs4h6ULA0bNiY9PY3ly5eQnJxE+fIVCAycK7/qNTk5iUePHsrjc3NzWbt2NXfuxKOiokLlylX466/llC5tIY958uQJM2YEkJycjLa2Nvb2DixatBQXF3FLjffxqlmPp08y2LxlJWlpKVhaWjN2zHRMTMwBSE1LISnp9QcM77pNeJH5nP37trF69f/Q0tTGxcWT77/vL49JSU1mrN8A+eNduzaya9dGnJzcmTwp6PN1TvjqSGTf8nyoUGQkEglbt26lTZs2xZ3KJ5HFbSzuFIQ3pBo1e3+Q8Nncjk9/f5Dw2XhWKlNobT2aW/g3IjYbVvBtNEoysVwoCIIgCIJQBMRyoSAIgiAICsR3FxYOMcgSioRYhRYEQRC+dWK5UBAEQRCEL86xY8do2bIlFhYW8gu1PtQ///yDiopKsV8UJQZZgiAIgiAokCgpF/rxsZ49e4a7uzvz58//qHrp6en06NGDBg0afPRzFjaxXCgI76IsviD5S/Iyu/BuPit8OmmO+HkIRadp06Y0bdr0o+sNHDiQ77//HmVl5Y+a/SoKYiZLEARBEAQFX8JM1n8RHBzMjRs3mDx58md5vvcRM1mCIAiCIBS5rKwssrKyFMrU1dVRV1cvlPbj4uIYO3Ysx48fR0XlyxjeiJksQRAEQRAUKCkpF/oxffp09PT0FI7p06e/P5kPIJVK+f7775kyZQr29vaF0mZhEIMsodB5e3szfPjwIn+ekJAQ9PX1i/x5BEEQhE/n5+dHenq6wuHn51cobT958oRz584xZMgQVFRUUFFRYerUqVy6dAkVFRUOHz5cKM/zsb6M+TThP3v48CEBAQHs3r2b+/fvY2pqioeHB8OHD5dfWWFtbc3w4cPlA59/P/5ade7cmWbNXn/Nir+/P9u2bSMiIqL4kvoMzl65ybLQY1y7fo/ElCfMn9iDhl5v/wqMxykZzFiym2tx97j9IJnurbwYN6iVQkz30Ys5e+Vmvrp1qzqyeGrvQu9DSbN16ybWr1tNSkoS1tblGTJ0JO7unm+P37KRLVs28fBhAmZmZnTr3ocmTZrLz+/cuZV9+/Zw6+YNABwcHOnffzBOzoX/VScl0YGD29m9exNp6cmUKWNN926+ODq4Fhj7v8UzOf73/nzlZcpYMfP3ZQDk5OSwY+c6jv+9n9TUJEqbW9KlSz/c3aoVaT9KmsJcGvw3XV1drly5olC2cOFCDh8+TGhoKDY2NkXyvO8jBllfsfj4eGrVqoW+vj4zZ87Ezc2N7Oxs9u3bx+DBg4mOji7uFIuUhoYGGhoaxZ3GZ5f54iWO5UvTrnEVhv266r3xL7NzMNTTYlCX+qzY+neBMfMmdic7Wyp/nPbkGW185+DzXcF/mITXDh/az/x5sxgxcgwVK7qzc8cWxoz+iRUrN2JmZp4vftu2UP76ayG//DIORydnoqIi+WNmADo6OtSqVQeAiIvnadCgMRV/ckNNTZ1161by889DCFmxARMT08/dxa/KyVNHWLV6Eb17DcPezoXDR3Yz8w8/Zv6+DGNjs3zxPbr70qVzP/ljaa6UceMHUL1aHXnZptBg/jlxkH59RmJhYcnly+cImu2P/6Q5WFvbfZZ+fW5fwh3fnz59yvXr1+WPb926RUREBIaGhpQrVw4/Pz/u37/PypUrUVJSomJFxS9QNzU1pVSpUvnKPyexXPgV8/X1RSKRcObMGTp06IC9vT0uLi6MHDmSU6dO/ed2w8PDqVatGlpaWujr61OrVi1u374NQK9evfJ96fPw4cPx9vZWKMvJyWHIkCHo6+tjZGTEhAkTFO4CX9CN5fT19QkJCQHyBpASiYQtW7ZQr149NDU1cXd35+TJk/L4N5cLQ0JCmDJlCpcuXUIikSCRSORt+fv7U65cOdTV1bGwsGDYsGH/+bX5EtSp6sjwnj40rvVhbxxlzQwZP6gVbRpWRlurVIEx+jqamBjqyI8TF+Iopa5Kk+/cCjP1EmnjxrU0a96aFi3aYG1tw9BhozAxMWP7ttAC4/fv20OrVm2p36AxFhZladCgMc2bt2Ld2pXymImTfqVt247Y2TlgZWXNL7+MJzdXxvnzZz9Xt75ae/duxrtuE+p5N6NMGSu6d/PFyMiUg4d2FhivqamNvr6h/Lh1M5Znz55Sp04Teczf/xykVcvv8fCojqmpBQ0btsLNtQp79hb8MxYKx7lz5/D09MTTM29WeOTIkXh6ejJp0iQAEhISuHPnTnGm+F5iJusrlZKSQlhYGAEBAWhpaeU7/1/3KuXk5NCmTRv69+/PunXrePnyJWfOnEEikXxUOytWrKBv376cPn2ac+fOMWDAAKysrOjfv/9HtTN+/Hj+/PNP7OzsGD9+PF27duX69ev5rhzp3LkzV69eJSwsjIMHDwKgp6dHaGgoQUFBrF+/HhcXFx4+fMilS5c+KodvUej+czSr645mKXGfsHfJzs4mNjaa73/oqVBetWp1rl69/NY6amqKr6u6ujpRUdfIyckp8KqorKwX5OTkoKurW3jJl0A5Odncio+lZcsuCuWuFSsTFxf5QW2EH92Li0slTN6Y9crJeYmaquLPTE1NnZjYq5+e9BdKolz8M1ne3t7v/Iq2Vx+k38bf3x9/f//CTeojiUHWV+r69evIZDIcHR0Ltd2MjAzS09Np0aIFFSpUAMDJyemj27G0tCQoKAiJRIKDgwNXrlwhKCjoowdZP//8M82b5+1VmTJlCi4uLly/fj1fvzU0NNDW1kZFRQVz89dLNHfu3MHc3JyGDRuiqqpKuXLlqFZN7KN4l8sxd4mLf0jA8A7FncoXLz09DalUiqGBoUK5gaERKSnJBdapWq0Gu3Ztp/Z33tjbOxITE8WePTvJyckhPS0NI2PjfHUW/28+JiYmVK4s/u2+y5Mn6eTm5qKna6BQrqdnQHp6ynvrp6Ylc+nyGQb7jlMod3Wtwp6wUBwdXTE1teDatYucv3CC3FxxM1bh3cRy4Vfq1ej+Y2eY3sfQ0JBevXrh4+NDy5YtmTNnDgkJCR/dTo0aNRRyq1mzJnFxcUil0nfUys/N7fVyVenSpQF4/PjxB9fv2LEjmZmZlC9fnv79+7N161ZycnIKjM3KyiIjI0PhyMrK/qh8S4LQfWewszbHzcGyuFP5evz791Ame+vvZs+efalew4sfB/WmQf2ajB/3M02atABASTn/W/LatSs5dGg/036dWWSbhkuaf7/2Mpks/8+oAMeO7UNTU5sqlWsplPfoNhhzszL8PLoPPXs3YcXKedT5zgclJfEnVHg38S/kK2VnZ4dEIiEqKqrQ2w4ODubkyZN4eXmxYcMG7O3t5Xu8lJSU8k3fZmd//EBEIpF8UDuqqqoKdYCP+vRoaWlJTEwMCxYsQENDA19fX+rUqVPgcxV4D5f/bf7g5yoJMl+8ZM/RS3T0qVrcqXwV9PT0UVZWzjdrlZqagsG/ZrdeUVcvxdixk9h/4G/Wb9jOxk07MS9dGk1NLfT09BVi169bxZrVwfwZOI8KFUrmBuvCpKOjh5KSEmn/mrXKyEjLN7v1bzKZjKPH9lG7VkNUVFQVzunq6jNyxFSWL93FnKC1/DEzmFKlNDAxyX9hQ0nxtd7x/UsjBllfKUNDQ3x8fFiwYAHPnj3Ldz4tLe2T2vf09MTPz48TJ05QsWJF1q5dC4CJiUm+ma2Cbpnw7433p06dws7ODuX/X+f/dztxcXE8f/78k3JWU1MrcKZMQ0ODVq1aMXfuXMLDwzl58mS+S33hLfdwGdT+k3L62uw9fpmX2VJa1n/77QeE11RVVbG3d+TcudMK5efOnaFixXdfNKCiooKpqRnKysocPrSfml61FWZG1q1bxcqVy5j5x1wcHZ2LJP+SRkVFFRtre65ePa9QfuXqeezs3v0aRkVf4tGj+3jXfft35ampqWFoaIxUKuXs2eNUruRVKHkLJZfYk/UVW7hwIV5eXlSrVo2pU6fi5uZGTk4OBw4cYNGiRf9pluvWrVv89ddftGrVCgsLC2JiYoiNjaVHjx4A1K9fnz/++IOVK1dSs2ZNVq9ezdWrV+VXf7xy9+5dRo4cycCBA7lw4QLz5s0jMDBQfr5+/frMnz+fGjVqkJuby5gxYxRmrf4La2tr+SW+ZcuWRUdHh3Xr1iGVSqlevTqampqsWrUKDQ0NrKys8tUv6B4usqRPy6koPMvM4s6D1zMn9x6lEHXjAXo6GliYGhAYvJfHyRnM+LmzPCbqxgMAnr/IIiX9GVE3HqCqooytleIl7Zv3naVhTWcMdPNfTCEUrFOn7wkImIyDgzMuLq7s2rmVx48f0qp13gD9r8XzSUxKZPz4KQDcvXubqKhrODtV5MmTJ2zcuIZbt27iN85f3ubatStZvux/TJz4K+bmpUlOTgJAQ0MTTU3Nz97Hr0nTpu1Z9L8Z2NjYY2frzOEju0lOfkyDBi0BWL9hKampSfw4aKxCvfCjYVSo4IilZf77KV2/HkVqahJWVhVISU1my5aV5MpyadG8c77YkuJbnXkqbGKQ9RWzsbHhwoULBAQEMGrUKBISEv5/c2xlFi1a9J/a1NTUJDo6mhUrVpCcnEzp0qUZMmQIAwcOBMDHx4eJEycyevRoXrx4QZ8+fejRo0e+maEePXqQmZlJtWrVUFZWZujQoQwYMEB+PjAwkN69e1OnTh0sLCyYM2cO588rfvr8WO3bt5ff8iEtLY3g4GD09fX5/fffGTlyJFKpFFdXV3bu3ImRkdEnPVdxuhp3j55j/pI//v2vXQC0aViZ30d1IjHlCQ8epynUaTtkjvz/r8XdZ1d4BBamBhxe8foPza17iZy/Fs+ygL5F24ESpn6DxqRnpLNyxVKSk5OwsanAjBmzMTfP20OYnJzE40cP5fFSaS4bNqzh7p3bqKio4OlZhQULl1K6tIU8Zvu2ULKzs5k0aYzCc/Xq1Z/efQYgvF3NGvV4+jSDrdtWk5aWQtmy1vzy82/yqwXT0lJITlbc1/n8+VPOnj1O926+BbaZnf2SjaHBJCYmoK6ugYd7NX4cNAYtLe0i74/wdZPI3nV9pCB842Q3txV3CsIbHmnVL+4UhDfcu51e3CkIb6hSrfAuVslY1aDQ2npFt/uhQm/zSydmsgRBEARBUCBREsODwiA2vguCIAiCIBQBMVQVBEEQBEGB2PheOMRMliAIgiAIQhEQgyxBEARBEIQiIJYLBUEQBEFQIJYLC4cYZAnCO8ge578zvFB8zMzEW9aXRGJdp7hTEIQvmlguFARBEARBgZKScqEfX4MbN24wYcIEunbtyuPHeTetDQsL49q1a/+pPTHIEgRBEAThm3f06FFcXV05ffo0W7Zs4enTpwBcvnyZyZMn/6c2xSCrhPL29mb48OHvjLG2tmb27Nmf9Dzbtm3D1tYWZWXl9z6fIAiCIHypxo4dy6+//sqBAwdQU1OTl9erV4+TJ0/+pzZL3AaHhw8fEhAQwO7du7l//z6mpqZ4eHgwfPhwGjTI+5oAa2trhg8fLh8U/Pux8OEGDhxI7969GTZsGDo6Op/cXnx8PDY2Nly8eBEPD49PT7AEOhv9iOV7I7kWn0JiWibzhtWlYeW3f53G/nN3WH84lug7qbzMzsW2jB5D2rpR2/X1d+VtPX6DcUvzv4lELOmKutrXMc1fHM5eucGy0HCuxd0jMSWD+ZN60dDL9a3xj5MzmLFkB9fi7nH7QRLdW9dm3KA2+eIynmYyO2QPB/65QvrTTMqaGzKmfyvqVnMqwt6UHFu3bmLdutWkJCdhbV2eocNG4u7u+db4LVs2smXLJh4mJGBmZkb3Hn1o0qS5/PzRo4dZvSqE+/fvkpOTQ9mylnTu3A2fJs0+R3eKxbe48f3KlSusXbs2X7mJiQnJycn/qc0SNciKj4+nVq1a6OvrM3PmTNzc3MjOzmbfvn0MHjyY6Ojo4k6xRHn69CmPHz/Gx8cHCwuL91f4zLKzs1FVVS3uNApdZlYODpYGtP2uAj/NO/be+HMxj/FyKc2IDh7oaKqx9fgNfIPCWT+5Cc5WhvI4bQ1V9vzeSqGuGGC9W+aLlzjaWNCuUVWG/brivfEvs3Mw1NNmUNeGrNh69K0xffwWY6SvzZwJPTEz1uNhYhpamqUKO/0S6dCh/cybO4uRI8dQ0dWdHTu2MPqXn1i5aiNmZub54rdtDeWvxQv5ZfQ4nJyciYqMZObMAHR0dKhVK29jv66uHt179KZcOWtUVVU5ceI4v/8+FQMDA6pVr/m5uygUEX19fRISErCxsVEov3jxImXKlPlPbZao5UJfX18kEglnzpyhQ4cO2Nvb4+LiwsiRIzl16tR/bvfs2bM0atQIY2Nj9PT0qFu3LhcuXFCI8ff3p1y5cqirq2NhYcGwYcPk5xYuXIidnR2lSpXCzMyMDh06yM/JZDJmzpxJ+fLl0dDQwN3dndDQUPn58PBwJBIJ+/btw9PTEw0NDerXr8/jx4/Zu3cvTk5O6Orq0rVrV54/f66QU05ODkOGDEFfXx8jIyMmTJjA274PvE+fPrRo0SJffXNzc5YvX54vPjw8XD5zVb9+fSQSCeHh4SQnJ9O1a1fKli2LpqYmrq6urFu3TqFubm4uM2bMwNbWFnV1dcqVK0dAQACA/B+3p6cnEokEb29veZ2pU6dStmxZ1NXV8fDwICwsTN5mfHw8EomEjRs34u3tTalSpVi9ejW3b9+mZcuWGBgYoKWlhYuLC3v27CnwNfha1HEvw/AOHjSuUu6D4sf9UIV+zV1wLW+MtbkuIzp6Us5MhyMX7ynESSRgoq+hcAjvVqeqE8N7NaVxbbcPii9rbsj4H9vQpmEVtDULfn237D9D+tPnzJ/cm0ouNpQxM6RyxfI4lv/yPsh8iTZuWEvz5q1p0bIN1tY2DBs2ChNTM7ZtDS0wft/+PbRq1ZYGDRpjYVGWBg0b07xFK9auWSmP8fSsTJ069bC2tqFMmbJ07NiV8uVtuXwl4jP16vOTKCkX+vGl+/777xkzZgwPHz5EIpGQm5vLP//8w88//0yPHj3+U5slZiYrJSWFsLAwAgIC0NLSyndeX1//P7f95MkTevbsydy5cwEIDAykWbNmxMXFoaOjQ2hoKEFBQaxfvx4XFxcePnzIpUuXADh37hzDhg1j1apVeHl5kZKSwvHjx+VtT5gwgS1btrBo0SLs7Ow4duwY3bp1w8TEhLp168rj/P39mT9/PpqamnTq1IlOnTqhrq7O2rVrefr0KW3btmXevHmMGTNGXmfFihX07duX06dPc+7cOQYMGICVlRX9+/fP18d+/fpRp04dEhISKF26NAB79uzh6dOndOrUKV+8l5cXMTExODg4sHnzZry8vDA0NCQxMZHKlSszZswYdHV12b17N927d6d8+fJUr14dAD8/P5YsWUJQUBC1a9cmISFBPst45swZqlWrxsGDB3FxcZGvi8+ZM4fAwEAWL16Mp6cny5cvp1WrVly7dg07Ozt5XmPGjCEwMJDg4GDU1dUZMGAAL1++5NixY2hpaREZGYm2tvZ/+4dQQuTmynj+Iht9LXWF8ucvcqg/ciu5uTIcyxkwrL27wkyX8HkcPnUND0crpi7YwuGTVzHU06Z5PU/6d6yPsnKJ+lxc6LKzs4mNjeaHbj0VyqtWrc7Vq5cLrvMyGzV1NYUydTV1oqKukZOTg4qK4p9JmUzGhfNnuXv3NoPch/4fe/cdFsXxP3D8faAgSO9goUgTpCiKvReMPdb4VWyoUbEg9l6JJbZYk6iAUWPvJdhRY4mosSEigogFkY6KUo77/cHP0xOwBVRwXs+zz+PNfnZ2duX2ZmdmZwv3AIQvys/Pjz59+lCuXDlkMhkODg5IpVL+97//MXny5E/Ks8RUsu7cuYNMJsPe3r7Q827SpInC599++w1dXV1OnjxJmzZtiImJwcTEhGbNmlG6dGkqVqyIu7s7ADExMZQtW5Y2bdqgqamJubk5Vavmjg14/vw5ixYt4vjx49SundvkbGVlxd9//81vv/2mUMmaPXs2devWBcDLy4sJEyYQGRmJlZUVAJ07d+bEiRMKlawKFSqwePFiJBIJdnZ2XL9+ncWLF+dbyapTpw52dnasX7+esWPHAhAQEECXLl3yrZSoqKhgZGQEgJ6eHiYmuc3w5cqVY/To0fK4YcOGERQUxLZt26hZsyZPnz7ll19+Yfny5fTunXshrFSpEvXq1QNy+74B9PX15XkCLFiwgHHjxvHDDz8AMG/ePE6cOMGSJUtYsWKFPM7Hx4eOHTvKP8fExNCpUyecnJzk5/dbFxB0k/SMbFrWNJenWZpq8VP/2thW0OXZiyzWH75Fj9mH2DWrNRYmWl+wtN+e+7GJnI+7Q9vG1fhtVn/uPUxg5oqdSKU5ePdo8aWL91VLTU1BKpWiq6t4c6Cnq09SUv5jatzda7F/3x7q12+Era094eFhHDy4j+zsbFJSUjAwMAByh0d06tiKzMxMlJWVGek7jho1ahb5MQmfT+nSpdm4cSMzZ87k33//JScnh6pVqyrcyH+sElPJetUNJpFICj3vJ0+eMHXqVI4fP05cXBxSqZT09HRiYmIA6NKlC0uWLMHKyoqWLVvSqlUr2rZtS6lSpWjevDnm5ubydS1btuT7779HXV2dmzdv8vLlS5o3b66wv8zMTHlF7BVn59fdEcbGxqirqytUGIyNjblw4YLCNrVq1VI4H7Vr12bhwoVIpVKUlfM23fbv35/ff/+dsWPH8uTJEw4cOMCxY8c+6lxJpVLmzp3Lli1bePjwIRkZGWRkZMhbF8PCwsjIyJA/hPAh0tLSePTokbyS+UrdunXlLYavVK9eXeHz8OHDGTx4MIcPH6ZZs2Z06tRJ4Vy+6VVZ31Q6MxtVlRLzNeHAubus2HWN5T6N0Nd6PcbH1doQV2tD+edqNoZ0mnaQjUfDmdSzxpco6jcrRyZDX0eDmSO6oKysRBWbCjxJTMN/+wlRyfpAb/8OyJAV+NvQu48XSUmJDPqxLwC6unq0/K4Nm/78Q6HlUF1dnbX+G3nxIp1Ll0JYsXwxZmblqFrVregO5AuS5PMb8a2oVKkSlSpVKpS8Ssyvh42NDRKJhLCwMDp06FCoeffp04f4+HiWLFmCubk5qqqq1K5dm8zMTCC3xSg8PJwjR45w9OhRhgwZws8//8zJkyfR1NTk8uXLBAcHc/jwYaZOncr06dMJCQkhJycHgAMHDuQZVKeqqtiV8+YAbolEkmdA96v+4/+iV69ejB8/nnPnznHu3DksLCyoX7/+R+WxcOFCFi9ezJIlS3BycqJs2bL4+PjIz5Wa2qeP88lz4ZTlvXC+3VXcv39/PDw8OHDgAIcPH2bOnDksXLiQYcPyNvPPmTOHGTNmKKRN9WrEtP5N8sQWRwf/iWay/3kWe9enjqPpO2OVlCRUsdTn3uOnn6l0wiuGelqUVlZW+IGvVNGI+OSnZGZlo1K6xFy2C522tg7Kysp5Wq2Sk5PytG69oqpahvETpjJ6zESSkhLR1zdg395dqKuXRVtbRx6npKRE+fK5T/Ha2NhxLzqaDesDS2wl61vk6+ubb7pEIqFMmTJYW1vTvn179PQ+fBhFieng19PTw8PDgxUrVvD8+fM861NSUj4579OnTzN8+HBatWqFo6MjqqqqJCQkKMSoqanRrl07li5dSnBwMOfOneP69dxXspQqVYpmzZoxf/58rl27RnR0NMePH8fBwQFVVVViYmKwtrZWWCpUKPiR/A/19mD/8+fPY2Njk28rFuR20XXo0IGAgAACAgLo27fvR+/z9OnTtG/fnp49e+Li4oKVlRURERHy9TY2NqipqRXYQvZqDJZUKpWnaWlpYWZmxt9//60Qe/bsWSpXfv8j7RUqVGDQoEHs3LmTUaNGsXr16nzjJkyYQGpqqsIyvlfJeG3IgXN3mbj6HD8Pqkcj1/LvjZfJZNyKSRKD37+Aag6W3HuUoHDTFP0wHkM9LVHBeo/SpUtja2vPxZB/FNIvhlygSpV3P5xQqlQpjIyMUVZW5tixw9SpUw8lpYJ/ImXIyMrKLJRyf42+xYHv//77L2vXruX333/n5MmTBAcHs3r1atauXcuxY8fw9fXF2tqamzdvfnCeJeobu3LlSurUqYO7uzszZ87E2dmZ7Oxsjhw5wqpVqwgLC/ukfK2trVm/fj3Vq1cnLS2NMWPGKLTIBAYGIpVKqVmzJurq6qxfvx41NTXMzc3Zv38/UVFRNGjQAF1dXQ4ePEhOTg52dnZoamoyevRoRo4cSU5ODvXq1SMtLY2zZ8+ioaEhH7P0qe7fv4+vry8//vgjly9fZtmyZSxcuPCd2/Tv3582bdoglUo/af/W1tbs2LGDs2fPoqury6JFi3j8+LG8MlSmTBnGjRvH2LFjUVFRoW7dusTHxxMaGoqXlxdGRkaoqakRFBRE+fLlKVOmDNra2owZM4Zp06ZRqVIlXF1dCQgI4MqVK2zcuPGd5fHx8eG7777D1taW5ORkjh8/XmDFTFVVNU8LYs5X2FX4/GUWMXGvW5gexD8j7F4S2hqqmOmXZdHWf4lLTmfej7ndqwfO3WX86rNM6FEdl0oGxKe8AKCMijKa6rmV2hW7ruFibYC5sSbPXmSx4Ug4t2KSmeLp/vkPsBh5/iKDmEevb7gePE4iLPIh2prqmBnpstD/AE8SU5k35n/ymLDIhwCkv8wgKfUZYZEPKV1KGWvz3DGI3dvUZsPev/H7dTc929Xn3sN4ftt8DM/2H9eq/K3q2u1/+M2ehp29A46OTuzbu4snTx7TvkMnAH77dTkJCfFMmpzban0/5h5hYaFUdqjC06dP2bplI3fvRjFx0nR5nhvWB2Bn70C5cuXIysrm/LkzHAo6wKhR47/EIQpF5FUrVUBAAFpauWNR09LS8PLyol69egwYMID//e9/jBw5kkOHDn1Qnl/fL8h/YGlpyeXLl/Hz82PUqFHExsZiaGiIm5sbq1at+uR8/f39GThwIFWrVqVixYr89NNPCoO7dXR0mDt3Lr6+vkilUpycnNi3bx/6+vro6Oiwc+dOpk+fzsuXL7GxsWHTpk04OjoCMGvWLIyMjJgzZw5RUVHo6OhQrVo1Jk6c+J/PR69evXjx4gXu7u4oKyszbNgwBg4c+M5tmjVrhqmpKY6Ojp8099WUKVO4e/cuHh4eqKurM3DgQDp06EBqaqpCTKlSpZg6dSqPHj3C1NSUQYMGAbl3k0uXLmXmzJlMnTqV+vXrExwczPDhw0lLS2PUqFE8efIEBwcH9u7d+94BiVKpFG9vbx48eICWlhYtW7Zk8eLFH31cX5PQu4n0nntU/nnepksAdKhnxZwBdYhPfUFs0uvW3C3BEWRLZcz6I4RZf4TI01/FA6SlZzI14B8SUl+gqVaayuZ6/DGxBc6VDD7TURVPN27fp/e419eWub/vBaBDs+rMHd2d+KQ0Hj1JUdjme+9F8n+HRjxg/4l/MTPS5fgfuU8vmRrqstZvIHN/30P7wQswNtDGs0N9BnQpGd3WRa1p0xakpaWyLnANiYkJWFpWYt78JZiY5HaRJyYmEBf3WB4vzclhy5aNxMTco1SpUlStWp2Vq9Zgavr6+vfi5UsWLZpH/JMnudPOmJszecpMmjYVY+RKkp9//pkjR47IK1iQ25Myffp0WrRowYgRI5g6dSotWnz4/7tEVtDEScI3KT09HTMzM/z9/RWe0vtW5Zyf9aWLILxBYlzwrN3C5/ekbMnoTi8pjI0K70ng7IP/rSclP6VavX/C3i9JQ0OD/fv3y+dnfCU4OJi2bdvy9OlToqKicHV1JS0t7YPyLDFjsoT/Jicnh0ePHjFlyhS0tbVp167d+zcSBEEQhBKiffv29OvXj127dvHgwQMePnzIrl278PLykj9Qd+HCBWxtbT84zxLVXSh8upiYGCwtLSlfvjyBgYF5JuATBEEQvh3FYaB6Yfvtt98YOXIkP/zwA9nZ2UDuEJbevXvLh5nY29uzZs2aD85TdBcKwjuI7sKvi+gu/LqI7sKvS2F2F0qD+hVaXq8ot8z7irav0bNnz4iKikImk1GpUqX/9JYQ0VwhCIIgCIICidK3Wz3Q0NAocNLqj/XtnkVBEARBEIT/9/z5c+bOncuxY8d48uRJngm+o6KiPjpPUckSBEEQBOGb179/f06ePImnpyempqaF8po+UckShHdJu/+lSyC8Idvuf+8PEj6buPt5364hfDmFOSYLybc38P2vv/7iwIEDed6T+1+IKRwEQRAEQfjm6erqftR7CT+EqGQJgiAIgqBISbnwl6/crFmzmDp1Kunp6YWWp+guFARBEAThm7dw4UIiIyMxNjbGwsKC0qVLK6y/fPnyR+cpKlnCZxEdHY2lpSX//vsvrq6uX7o4giAIgqDg1azuhUlUskqQx48f4+fnx4EDB3j48CFGRka4urri4+ND06ZNv3TxilxwcDCNGzcmOTkZHR2d934urkLupOB/7D6hMc+IT8tkWX9HmrkU/CLnS5GpLNwTRVRcOi+zcjDTVaVrXTP6NCmvEHf4SjxLD0QTk/CCigZqjGhjSfN35CvAxX+vE7BhBzfD7xCfkMQv8ybTtGGdd24Tcvk6P/+ymjt372FkoE/fnp3o1rG1fH2fweO4+O/1PNvVr1ODVYtmFPoxlESHDu1mz57NpKQkUr68JX37DqVy5YLnPTp9+gh79mwmNvYB6uplcXV1p1evwWhqagNw9Oh+Tp48xP37dwGwsrKle/cB2NhU/izH80V8gwPfp02bVuh5ikpWCREdHU3dunXR0dFh/vz5ODs7k5WVxaFDh/D29ubWrVtfuohCIXmRIcWunAbf1zRhxNqb741XU1GiR4Ny2JYri7qKMpeiUpm++Tbqqkp0rWsGwL93U/ENuMnw1pY0czbg6LUEfP1vsmGkKy4WhfjEUgnz4sVL7Gws6dCmOSMn+L03/sGjxwzxnUqn9i2ZM300/167yeyfV6Kno03zJvUA+GXuZLKys+TbpKQ+pZOnNx7/v154tzNnjhMQsJwBA3yws3PiyJG9+PmNZfHidRgaGueJDwu7xrJlc+jTxxs3tzokJcWzevUiVq36mbFjZwMQGnqFevWaYmvriIqKCnv2bGb27NEsWhSIvr7h5z5EoRgRA99LiCFDhiCRSLhw4QKdO3fG1tYWR0dHfH19OX/+vDwuJiaG9u3bo6GhgZaWFl27diUuLk6+fvr06bi6uuLv70/FihXR0NBg8ODBSKVS5s+fj4mJCUZGRvj5Kf6gSCQSVq1axXfffYeamhqWlpZs27btnWW+efMmrVq1QkNDA2NjYzw9PUlISAByW6VUVFQ4ffq0PH7hwoUYGBgQGxtbGKes2GrgqI9PG0tauH7Yxd2hgiatqxthY1qWcvplaFfDmLr2elyMTJXH/HHiIXXsdBnYoiJWJuoMbFGRWnY6/HHiQVEdRolQv04Nhg/qTfPGH/bI99adBzExNmL8yB+pZFmRzu1b8n3b5gT+uVMeo62tiYG+nnw5d+Ffyqiq0qJp/aI6jBJl//5tNGnSiqZN21C+vDl9+w7DwMCIw4f35BsfEXETIyMTWrXqhLGxKZUrO9O8eTuiosLlMSNGTMbDowOWljaUK2fOjz+ORiaTcePGx4/RKTaUShX+8pWTSqUsWLAAd3d3TExM0NPTU1g+hahklQBJSUkEBQXh7e1N2bJl86x/1TUmk8no0KEDSUlJnDx5kiNHjhAZGUm3bt0U4iMjI/nrr78ICgpi06ZN+Pv707p1ax48eMDJkyeZN28ekydPVqi8AUyZMoVOnTpx9epVevbsSffu3QkLC8u3zLGxsTRs2BBXV1cuXrxIUFAQcXFxdO3aFYBGjRrh4+ODp6cnqampXL16lUmTJrF69WpMTU0L4ax9u27ef8qVu6nUsNaRp12NTqOOveJFpK69Hv/eTfvMpSvZrt4Io05Nxfcv1q3pRmhYBFn//0Lat+3cd4jvmjdEXa3M5yhisZaVlUVUVDguLjUU0p2daxAeHprvNnZ2VUhMjOfy5fPIZDJSUpI4d+4k1arVKnA/mZkZZGdno6GhWajlF76sGTNmsGjRIrp27Upqaiq+vr507NgRJSUlpk+f/kl5fv1VS+G97ty5g0wmw97e/p1xR48e5dq1a9y9e5cKFSoAsH79ehwdHQkJCaFGjdwLU05ODv7+/mhqauLg4EDjxo0JDw/n4MGDKCkpYWdnx7x58wgODqZWrdcXoi5dutC/f38g91HYI0eOsGzZMlauXJmnLKtWraJatWr89NNP8jR/f38qVKjA7du3sbW1Zfbs2Rw9epSBAwcSGhqKp6cn33///X8+X9+qRlPOkfQsC6lUhncrC7rUeV1ZTUjLxEBL8UkaA63SJDzN/NzFLNESEpPR19NVSNPX0yFbKiUlJQ1DA8WK7vXQcCIi7zFzos9nLGXx9fRpKjk5OejoKJ5jHR1dUlKS8t3Gzq4Kw4dPYvHiGWRlZSKVSqlevS79+o0ocD8bN/6Onp4BTk5uhVp+4cvauHEjq1evpnXr1syYMYPu3btTqVIlnJ2dOX/+PMOHD//oPEUlqwSQyWQA730FQFhYGBUqVJBXsAAcHBzQ0dEhLCxMXsmysLBAU/P1HZqxsTHKysooKSkppD158kQh/9q1a+f5fOXKlXzLcunSJU6cOJHv280jIyOxtbVFRUWFDRs24OzsjLm5OUuWLHnn8f1XGRkZZGRkKKSVzpSiqlIyBoBuGOFKeqaUK3efsmhvFOYGarSubiRfL0Hx70cmg//+UgnhbW9/TV9/f/PG7tx3GJtK5jg52n2GkpUkb/8ty/I9vwD370cTELCMzp174+pag+TkRNav/5Xff1/EkCFj88Tv2bOJv/8+xowZS1BRUS2Kwn8disG8VoXt8ePHODk5AbkviU5NzR1S0aZNG6ZMmfJJeYruwhLAxsYGiURSYNfcK7kXmrxXmrfT354bRCKR5Jv29ssz81NQxS8nJ4e2bdty5coVhSUiIoIGDRrI486ePQvkdokmJeV/J1pY5syZg7a2tsIyd8uVIt3n51TeQA1bMw261jWld+PyLP8rWr7OQEuF+DTFVqvEp1noa6p85lKWbAb6uiQkJiukJSWnUkpZGW1txQcMXrx8yV9HTtKxncfnLGKxpqmpjZKSUp5Wq9TUFLS18x9Ts2vXRuzsqtC+/Q+Ym1fC1dWd/v19OHHiIMnJiQqxe/duZufODUyZ8jPm5pWK7DiEL6N8+fLyMb/W1tYcPnwYgJCQEFRVP61CLSpZJYCenh4eHh6sWLGC58/zvkssJSUFyG21iomJ4f791+/ju3nzJqmpqVSu/N8fRX57jNb58+cL7MKsVq0aoaGhWFhYYG1trbC8GlcWGRnJyJEjWb16NbVq1aJXr14fVLH7VBMmTCA1NVVhGd/Ntcj29yXJgMzs1+fSxUKLs+GKP/5nbyVR1VI8WViYXKpU5tyFfxXSzv5zGcfKNpQupdixcOjoaTKzsmjbssnnLGKxVrp0aays7Lh27aJC+rVrF7Gzc8x3m8zMDCQSxZ9Cpf9vxXnVygiwZ89mtm9fz6RJ86lU6d1DM0oEiXLhL1+577//nmPHjgEwYsQIpkyZgo2NDb169aJfv36flKeoZJUQK1euRCqV4u7uzo4dO4iIiCAsLIylS5fKu/GaNWuGs7MzPXr04PLly1y4cIFevXrRsGFDqlev/p/LsG3bNvz9/bl9+zbTpk3jwoULDB06NN9Yb29vkpKS6N69OxcuXCAqKorDhw/Tr18/pFIpUqkUT09PWrRoQd++fQkICODGjRssXLjwP5ezIKqqqmhpaSksX2NX4fMMKWEPnhH24BkADxJfEvbgGY+SXgKwaG8U4/54PWXHxlMPOXE9gegn6UQ/SWfn+ccEHLtP2xqvH2fv1agcZ28lsfpIDFGP01l9JIZz4Sn0aqw4l5agKD39BbduR3LrdiQADx/Fcet2JLGPc7vSF68MYMKMBfL4rh1bEfv4CfOX/E7k3Rh27jvMzn2H6fO/jnny3rnvME0a1EZHW1R0P0abNl04duwAx48f5MGDewQGLichIY4WLdoBueOpli17PRbUza02Fy6c4tChPcTFPeLWresEBCzF2royenq588Tt2bOJzZvXMmTIWAwNTUhOTiQ5OZEXLwrv9SvClzd37lwmTpwIQOfOnTl9+jSDBw9m27ZtzJ0795PyFGOySghLS0suX76Mn58fo0aNIjY2FkNDQ9zc3Fi1ahWQ23W3e/duhg0bRoMGDVBSUqJly5YsW7asUMowY8YMNm/ezJAhQzAxMWHjxo04ODjkG2tmZsaZM2cYN24cHh4eZGRkYG5uTsuWLVFSUmLWrFlER0ezb98+AExMTFizZg1du3alefPm3/Ss8aExT+m99Kr887xduT/wHdyNmeNpT3xqJrHJL+XrZTJYtO8uDxNfoqwkoYKBGr7trOhW9/XA96pW2izs48Av+++y7EA0FQzUWNi3spgj6z1uhEXQz3u8/PP8X1YD0L5VM/ym+pKQkEzs43j5+vJmJqxcNJP5S35n0479GBnoM8H3R/kcWa9Exzzg8tVQfv9l9uc5kBKkbt0mPHuWxvbt60hOTqJCBUsmTpyHoaEJAMnJiSQkvJ62pnHj73j58gVBQbv444+VlC2rQZUqVenR40d5zKFDu8nOzmLhQsXJKrt06U3Xrn0/z4EJn12tWrUUHu76FBLZm+2hgvCJJBIJu3btKpLXEnxJOYcHfukiCG+Q1hj3pYsgvCHsvvqXLoLwBmfnwpveJufM5ELL6xWlul//TcPt27cJDg7myZMneYanTJ069aPzEy1ZgiAIgiB881avXs3gwYMxMDDAxMRE4cEtiUQiKlmCIAiCIBQCybdXPZg9ezZ+fn6MG1d4Lebf3lkUioTodRYEQRCKs+TkZLp06VKoeYqnCwVBEARB+OZ16dJFPjdWYREtWYIgCIIgKPpGZnxfunSp/N/W1tZMmTKF8+fP4+TklGcSbvFaHUEQBEEQhA+0ePFihc8aGhqcPHmSkydPKqRLJBJRyRKEQqei+f4Y4bORKYspA74mOTliLGaJVQxmaC8Md+/eLdL8xZgsQRAEQRC+aWlpafm+ti0nJ4e0tLRPzldUsgRBEARB+Gbt2rWL6tWr8/LlyzzrXr58SY0aNeRvH/lYopIlFLpGjRrh4+NT5PsJDAxER0enyPcjCILwzVFSLvzlK7Vq1SrGjh2Lunre4Qjq6uqMGzeO5cuXf1LeopJVzDx+/Jhhw4ZhZWWFqqoqFSpUoG3btvI3hwNYWFiwZMmSD/5cXHXr1o3bt2/LP0+fPv2beKdhyO1EBi+/QIOxR6j8436OXnn8zvjDl2Ppt+Q8dUYdpvqIIH6Y+zd/hz7JE7fuaBTfTT2B69CDNB5/lDlbQ8nIkhbVYZQIFy9fZejICTT5rhNONRpxLPj0e7cJuXSFrp4DcavbnJbtu7N1x54CY/86fAynGo0YPnpSYRa7xDt0aDdDh3anZ88WjB8/kLCwa++MP336CGPGeOHp2ZIff+zEypXzePo0Vb7+/v27LFw4laFDf6Bbt8YcOLC9qA9B+Ixu3LhBo0aNClzfoEEDrl+//kl5i0pWMRIdHY2bmxvHjx9n/vz5XL9+naCgIBo3boy3t/eXLt5np6amhpGR0Zcuxmf3IlOKXXktJv9Q5YPiL0YkUaeyAb8Nc2f7xHrUtDNgyIoQbsa8/hHZ988DFu26hXcbWw5Mb8TsXi78dfERi3bdKqrDKBFevHiJrW0lJo4Z8UHxDx7G4u0zHjdXJ7ZtWMOAvj2Ys2AZR46fzBP7KPYxC35ZRbWqzoVd7BLt7NnjrFu3gu+/78ncuauxt3dmzpxxCi+FftOtW9dZsWIuTZq0YuHCAEaOnE5k5C1++22BPCYjIwNjYzO6dx+Ijo7e5zqUL0upVOEvX6nk5GSys7MLXJ+VlUVycvIn5S0qWcXIkCFDkEgkXLhwgc6dO2Nra4ujoyO+vr6cP3++0PYTHByMu7s7ZcuWRUdHh7p163Lv3j0A+vTpk+cl0D4+PnnuArKzsxk6dCg6Ojro6+szefJkhVnhJRIJu3fvVthGR0eHwMBAILdCKZFI2LlzJ40bN0ZdXR0XFxfOnTsnj3+zuzAwMJAZM2Zw9epVJBIJEolEntf06dOpWLEiqqqqmJmZfdJjuF+TBlWM8OlgT4tqH/Yy2IndHOnvYY2ThQ4WxhqM/N6eikZlOXHt9Y/OlahkqlXSpY17OcoZqFPXwZDWNcoRei/1HTkL9evWZPjg/jRr0uCD4rfu3IuJiRHjRg3DytKcTh3a8H277wjcsEUhTiqVMn7KbLwH9qW8WeG99PdbcODANpo0aUXTpq0pX96cPn2Goq9vxOHDe/ONj4i4iZGRCd991wkjI1Ps7Z1o1qwtUVHh8hhra3t69hxE3bpN8sydJBR/FhYWXLx4scD1Fy9exNzc/JPyFpWsYiIpKYmgoCC8vb0pW7ZsnvWFNTYpOzubDh060LBhQ65du8a5c+cYOHCgwosyP8S6desoVaoU//zzD0uXLmXx4sWsWbPmo8szadIkRo8ezZUrV7C1taV79+753nF069aNUaNG4ejoSGxsLLGxsXTr1o3t27ezePFifvvtNyIiIti9ezdOTk4fXY6SJCdHRvrLbHTKvv6xqGatR2hMKtfu5t6t3Y9/zqkbT2jo9O21FBalq9dDqVOzhkJa3Vru3LwZTtYbf9e/rvkDXV0dOrZv/bmLWKxlZ2cRFXUbZ+fqCukuLtW5fftGvtvY2jqSmBjPv/+eRyaTkZKSxD//nKRq1Vqfo8jCV6Bjx45MmjSJuLi8rZ2PHz9m8uTJdOrU6ZPy/nrb7wQFd+7cQSaTYW9vX6T7SUtLIzU1lTZt2lCpUiUAKleu/NH5VKhQgcWLFyORSLCzs+P69essXryYAQMGfFQ+o0ePpnXr3B+aGTNm4OjoyJ07d/KcBzU1NTQ0NChVqhQmJiby9JiYGExMTGjWrBmlS5emYsWKuLu7f/TxlCQBR6JIz5TS0s1Mnta6RjmSn2bS8+ezyGSQnSPjh4bmDGhp/QVLWvIkJiahr6+rkKavp0u2VEpKSiqGBvr8e/U6O/ceYPvGj78p+dalpaWSk5ODtrbiOdbW1iUlJf/uHju7KgwbNoklS2aSlZWJVCqlevU69O1bvFu8/yvJNzJPFsD48ePZs2cPNjY29OzZEzs7OyQSCWFhYWzcuJEKFSowfvz4T8pbtGQVE6+62j62Relj6enp0adPHzw8PGjbti2//PILsbGxH51PrVq1FMpau3ZtIiIikEo/biC1s/Pr8SimprndJk+e5B20XZAuXbrw4sULrKysGDBgALt27Sqw7z0jI4O0tDSFJSOz4H764ujAhYes2H+bRQOqoa+lKk+/EJ7Ab3/dYcr/nNgxuT5LB7lx8locKw/cfkduwqeQoPgdlvH/323g+fN0Jkz1Y/rEMeiKJ2c/2dvXSZkMCrp0PngQTWDgMjp16sWcOb8xYcI8njx5zJo1iz5DSYWvgaamJmfOnKFnz55s2bKFkSNH4uPjw9atW+nZsydnzpxBU/PTJqYWlaxiwsbGRl6zLmoBAQGcO3eOOnXqsGXLFmxtbeVjvpSUlBTGVkHuoMCPJZFIPiifN8c/vLpw5jdhXEEqVKhAeHg4K1asQE1NjSFDhtCgQYN89zVnzhy0tbUVlrl/XvjgfX3tDoY8YvIfV1k0sBp1KhsqrFu69zbtapajS72K2JbTonlVU3w62LP6rztiVu9CpK+vR0JikkJaUlIKpZSV0dbR5v6Dhzx89JhhoybgWqsJrrWasO/gYYJPncW1VhPuP3j4hUpePGhpaaOkpERKiuI5TktLztO69cru3X9ia1uFdu1+wNy8Eq6u7nh5+XDixF8kJyd+jmJ/nb6hKRwAtLW1WblyJQkJCcTFxfH48WMSEhJYuXLlfxqOIypZxYSenh4eHh6sWLGC58+f51mfkpJSqPurWrUqEyZM4OzZs1SpUoU///wTAENDwzwtW1euXMmz/dsD8c+fP4+NjQ3Kysr55hMREUF6evp/KrOKikq+LWVqamq0a9eOpUuXEhwczLlz5/J9HHfChAmkpqYqLOP/VzK6Fg9ceMjEdVf4uX81GjkZ51n/IlOa5+5fWUmCDBBVrMLj4uTIuQuKA2zP/hOCg4MdpUuVwtKiIjs3+bNtwxr50qhBHdzdqrJtwxpMjMUYuXcpVao0Vla2XLumeI6vXbuErW3+T+NmZLxESUnxb19JKfen8e0bwW+KRLnwl2JAIpFgaGiIkZFRofQciUpWMbJy5UqkUinu7u7s2LGDiIgIwsLCWLp0KbVr1y6Ufdy9e5cJEyZw7tw57t27x+HDh7l9+7Z8XFaTJk24ePEif/zxBxEREUybNo0bN/IOKL1//z6+vr6Eh4ezadMmli1bxogRrx9zb9KkCcuXL+fy5ctcvHiRQYMG/eendiwsLLh79y5XrlwhISGBjIwMAgMDWbt2LTdu3CAqKor169ejpqaW75MiqqqqaGlpKSyqKl/fsMXnL7MJu59K2P3cJ/8eJKQTdj+VR0kvAFi0K4xxAf/K4w9ceMj4gCuM7eyAi6UO8akviU99ydMXr1vzGjsbsfnUPQ6EPORBQjpnbsazdG84jZ2NUVYq2i7q4iw9PZ1b4RHcCo8A4OGjx9wKjyD2ce4A2iXLf2fitJ/k8V07tiM2No75i1cQdfceu/YeZOeeg/Tp2Q3I/Ru0sbZSWDQ1NFAvq4aNtZV4su0DtG7dhePHD3LixEEePLjHunUrSEiIo3nztgD8+edqli9//X/i5laHCxdOc/jwHuLiHnHr1nUCApZhbW2Pnp4BkDugPjr6DtHRd8jOziY5OYHo6Ds8fixaFoV3+/p+QYQCWVpacvnyZfz8/Bg1ahSxsbEYGhri5ubGqlWrCmUf6urq3Lp1i3Xr1pGYmIipqSlDhw7lxx9/BMDDw4MpU6YwduxYXr58Sb9+/ejVq1eelqFevXrx4sUL3N3dUVZWZtiwYQwcOFC+fuHChfTt25cGDRpgZmbGL7/8wqVLl/5T2Tt16iSf8iElJYWAgAB0dHSYO3cuvr6+SKVSnJyc2LdvH/r6+v9pX19S6L0Uei963VI4b9tNADrULs+cPq7Ep2YQ+/8VLoAtp++RnSNj1qYbzNr0ukL8Kh5gUCsbJEhYuiecuJSX6Gmo0MjZGJ8ORfugRXEXGhZOv0Ej5Z9/XrwCgHatPfCbPoH4hER5hQugfDlTViyZy8+LV7B5226MDPWZMHoYzZs0/OxlL6nq1GnC06dp7NjxB8nJSVSoYMH48XMxNMx9ICYlJZHExNfjOhs1asmLF+kcOrSL9etXUbasBo6OVenR4/X1KikpkXHjXj+0s2/fFvbt24KDgwvTpi35bMcmFD8S2TfdHioI75YTPOpLF0F4Q3a10V+6CMIbbkaJn4+viaur2fuDPpDs6spCy+sVicuQQs/zaye6CwVBEARBUPQVzPh+6tQp2rZti5mZWb4TWL9t586dNG/eHENDQ7S0tKhduzaHDh36xBNQOER3oSAIgiAIir6CgerPnz/HxcWFvn37ftBkoKdOnaJ58+b89NNP6OjoEBAQQNu2bfnnn3+oWrVqvtssXbr0g8vzKW8LEd2FgvAOorvw6yK6C78uorvw61Ko3YU31hZaXq9Iqnh9+rYSCbt27crzWrf3cXR0pFu3bkydOjXf9ZaWlgqf4+PjSU9Pl0/bkJKSgrq6OkZGRkRFRX10uUV3oSAIgiAIRS7fCZ8zMopsfzk5OTx9+hQ9vYJf6n337l354ufnh6urK2FhYSQlJZGUlERYWBjVqlVj1qxZn1QGUckSBEEQBKHI5Tfh85w5c4psfwsXLuT58+d07dr1g+KnTJnCsmXLsLOzk6fZ2dmxePFiJk+e/EllEGOyBEEQBEFQVAQztE+YMAFfX1+FNFVV1QKi/5tNmzYxffp09uzZg5HRh03iGxsbm+/bQKRSab4vj/4QopIlCO+QdOvkly6C8Ab9cjW/dBGEN6ioNvrSRRCKShFUslRVVYusUvWmLVu24OXlxbZt22jWrNkHb9e0aVMGDBjA2rVrcXNzQyKRcPHiRX788cePyudNortQEARBEIQSYdOmTfTp04c///yT1q1bf9S2/v7+lCtXDnd3d8qUKYOqqio1a9bE1NSUNWvWfFJ5REuWIAiCIAhfnWfPnnHnzh3551evTdPT06NixYpMmDCBhw8f8scffwC5FaxevXrxyy+/UKtWLR4/fgzkvr9WW1v7vfszNDTk4MGD3L59m1u3biGTyahcuTK2traffAyikiUIgiAIwlfn4sWLNG7cWP751Xiu3r17ExgYSGxsLDExMfL1v/32G9nZ2Xh7e+Pt7S1PfxX/oWxtbf9TxepNopJVQjVq1AhXV1eWLFlSYIyFhQU+Pj74+Ph88n52797N6NGjuXv3LsOGDXvn/gRBEIRiQvLlqweNGjXiXVN5vl1xCg4O/uh9vD0Q/10WLVr00fl/+bP4Hz1+/Bg/Pz8OHDjAw4cPMTIywtXVFR8fH5o2bQrkrUy877Pw4X788Uf69u3L8OHD0dTU/M/5RUdHY2lpyb///ourq+t/L2AJVMq0KuounigbVka5rCFpQaPIjP6wAfqlTFzQbvcb0qRIUrb3UFinYtkE9RqDUNYujzT1AekXVpIZHVwER1ByhNyIZu2OvwmNfER80lOWT+pOs9oOBcY/SXrKvLV/EXrnEfceJeHZthYTB7ZSiPEcv5aQG9F5tm1Y3ZbfpnsW9iGUSH8d3MXu3ZtITk6kQgULvLyG4+DoUmD8yZOH2b3rTx49ekDZsmWpWrUmvft4o6WVt4vp9OmjLFo4A3f3ekyYWHTTD3xxRTDw/Wv077//flCcRCL5pPyLdSUrOjqaunXroqOjw/z583F2diYrK4tDhw7h7e3NrVu3vnQRS7Rnz57x5MkTPDw8MDMrvJmGC0tWVhalS5f+0sUodJJSamQnRvAyfB9aHj9/+HYqZdFsPIOshyEoqSlOzlfK2AnN5j+RHvIrmXdPoGLZGM3mc0nd40X2k9DCPoQS48XLTOytTOjYvCrDf9r83vjMrGz0tMoyqGtD1u05m2/MskndycqWyj+npKXTYdhKPOo5Flq5S7K//z6Gv/9SBv7oi729E4cP7WXWrDEsXbYeQ0PjPPE3b15j6S9+9O03jBo16pCYmMCvvy5g5Yp5jJ/wk0LskyePWRe4EgeHgitsQvFy4sSJIs2/WD9dOGTIECQSCRcuXKBz587Y2tri6OiIr68v58+fL7T9hISE0Lx5cwwMDNDW1qZhw4ZcvnxZIWb69OlUrFgRVVVVzMzMFN5xtHLlSmxsbChTpgzGxsZ07txZvk4mkzF//nysrKxQU1PDxcWF7du3y9cHBwcjkUg4dOgQVatWRU1NjSZNmvDkyRP++usvKleujJaWFt27dyc9PV2hTNnZ2QwdOhQdHR309fWZPHlygU2v/fr1o02bNnm2NzExwd/fP098cHCwvOWqSZMmSCQSgoODSUxMpHv37pQvXx51dXWcnJzYtGmTwrY5OTnMmzcPa2trVFVVqVixIn5+fsDrVxxUrVoViURCo0aN5NvMnDmT8uXLo6qqiqurK0FBQfI8o6OjkUgkbN26lUaNGlGmTBk2bNjAvXv3aNu2Lbq6upQtWxZHR0cOHjyY7zkoLrLunyU9ZBWZdz/u4qDRYBIZd4LIjrueZ52aU3eyHvzDi38Dkabc48W/gWQ9vICa0/8Kq9glUoPqtvh4NqNFnQ+rAJU31mXSj63p0LQqGupl8o3R0VTHUFdTvpy9EkkZ1dK0rFelMIteYu3ds4WmzVrTvHnb3Fas/sPRNzAiKGhXvvG3b4diaGhCmzadMTY2w8HBGY8W7bhzJ1whTiqVsnjxTH74oR/Gxqaf41CEL+jBgwc8fPjwP+dTbCtZSUlJBAUF4e3tTdmyZfOsf/XeocLw9OlTevfuzenTpzl//jw2Nja0atWKp0+fArB9+3YWL17Mb7/9RkREBLt378bJyQnIHbg3fPhwZs6cSXh4OEFBQTRo0ECe9+TJkwkICGDVqlWEhoYycuRIevbsycmTit0/06dPZ/ny5Zw9e5b79+/TtWtXlixZwp9//smBAwc4cuQIy5YtU9hm3bp1lCpVin/++YelS5eyePHiAh9D7d+/P0FBQcTGxsrTDh48yLNnz/KdLbdOnTqEh+dehHbs2EFsbCx16tTh5cuXuLm5sX//fm7cuMHAgQPx9PTkn3/+kW87YcIE5s2bx5QpU7h58yZ//vknxsa5d5gXLlwA4OjRo8TGxrJz504AfvnlFxYuXMiCBQu4du0aHh4etGvXjoiICIVyjRs3juHDhxMWFoaHhwfe3t5kZGRw6tQprl+/zrx589DQ0Cjov7rEUrVri5JWOdIvrs53fSljZzIf/KOQlvngPKVMnD9H8YR32H74Eq0aOKFeRuVLF+Wrl5WVRWTkbVxd3RXSXV1rcOvWjXy3sbevQmJiPJcunkMmk5GSksTZc8G4Va+tELd1ayDaWjo0a94m33yE4u/Vzby2tjbm5uZUrFgRHR0dZs2aRU5OziflWWy7C+/cuYNMJsPe3r7I99WkSROFz7/99hu6urqcPHmSNm3aEBMTg4mJCc2aNaN06dJUrFgRd/fcL3lMTAxly5alTZs2aGpqYm5uLn8b+PPnz1m0aBHHjx+ndu3cL7SVlRV///03v/32Gw0bNpTvc/bs2dStWxcALy8vJkyYQGRkJFZWVgB07tyZEydOMG7cOPk2FSpUYPHixUgkEuzs7Lh+/TqLFy9mwIABeY6xTp062NnZsX79esaOHQtAQEAAXbp0ybdSoqKiIp9FV09PDxMTEwDKlSvH6NGvX+I7bNgwgoKC2LZtGzVr1uTp06f88ssvLF++nN69ewNQqVIl6tWrB+Q+Qgugr68vzxNgwYIFjBs3jh9++AGAefPmceLECZYsWcKKFSvkcT4+PnTs2FH+OSYmhk6dOskrva/O17dESbsCZWsOJWXPAJBJ849R10eWnqiQJktPREld/3MUUSjAtfAHRNx7gt/w7790UYqFp09TycmRoqOjq5Cuo61LSnJSvtvY2zsx0ncKCxZMIysrE6lUSg33egwY4COPCQu7xrGjB1i0OG+rfokl+TbGZL1p0qRJrF27lrlz51K3bl1kMhlnzpxh+vTpvHz5Ut7j8jGKbUvWq26vTx2M9jGePHnCoEGDsLW1lb9v6dmzZ/JHR7t06cKLFy+wsrJiwIAB7Nq1i+zsbACaN2+Oubk5VlZWeHp6snHjRnm33s2bN3n58iXNmzdHQ0NDvvzxxx9ERkYqlMHZ+XWLgrGxMerq6goVBmNjY548eaKwTa1atRTOT+3atYmIiEAqzf+Htn///gQEBMiP+cCBA/Tr1++jzpVUKsXPzw9nZ2f09fXR0NDg8OHD8nMVFhZGRkaG/KGED5GWlsajR4/klcxX6tatS1hYmEJa9erVFT4PHz5cXkGdNm0a165dK3A/+b68NOvT7l6+GhIlNJvOJv3i7+SkxrwzNE9HskQC73iyRyh6249cwsbcCGe78l+6KMWM4u+CjIJ/K+7fv8ua1b/QtVsfFixcw9RpC3gS94hfVy0A4MWLdJYsns3gIWPR0tIp4nJ/RZSUC3/5yq1bt441a9YwePBgnJ2dcXFxYciQIaxevfqjpoB4U7GtZNnY2CCRSPL8yBaFPn36cOnSJZYsWcLZs2e5cuUK+vr6ZGZmArktRuHh4axYsQI1NTWGDBlCgwYNyMrKQlNTk8uXL7Np0yZMTU2ZOnUqLi4upKSkyJsfDxw4wJUrV+TLzZs3FcZlAQoDuCUSSZ4B3RKJ5JObM1/p1asXUVFRnDt3jg0bNmBhYUH9+vU/Ko+FCxeyePFixo4dy/Hjx7ly5QoeHh7yc6WmpvbJ5Xv7IimTyfKkvd113L9/f6KiovD09OT69etUr149T7fqK/m9vPSXQ48/ubxfA0lpdUobOVK23hj0B55Hf+B51Nz6U8rADv2B5yltllspzcmn1UqipkfOi/zv/oWi9+JlJgdPXadLi+rvDxYA0NTURklJmZQUxb/b1NRktN9q3Xplx/YN2Fd24vvv/4eFhTVVq9Zk4I+jOHbsAElJCTyOfciTJ7H85DeeTh0b0aljI4KDDxEScoZOHRsRG/vfx+0IX4ekpKR8e8fs7e1JSvq0a2GxrWTp6enh4eHBihUreP78eZ71KSkphbav06dPM3z4cFq1aoWjoyOqqqokJCQoxKipqdGuXTuWLl1KcHAw586d4/r13AHGpUqVolmzZsyfP59r164RHR3N8ePHcXBwQFVVlZiYGKytrRWWChUq/Odyvz34/9V4MmXl/O8o9PX16dChAwEBAQQEBNC3b9+P3ufp06dp3749PXv2xMXFBSsrK4VxUzY2NqipqXHs2LF8t1dRyR138mZrm5aWFmZmZvz9998KsWfPnqVy5crvLVOFChUYNGgQO3fuZNSoUaxenf+4pAkTJpCamqqwjPAwyTe2uJBlPid5SzdStvWQLy9v7iA7OZqUbT3IepI7TiU77hoq5RXfC6hSvibZjwtu+ROK1l9/3yAzS0rbxuJJtg9VunRpKlWy5eqVEIX0q1dCsLfP/8GBjIwMlCSKP4VKSq8/lytfkSW/rGPRYn/5UqNGXapUqcqixf4YGHzYy4eFr5+LiwvLly/Pk758+XJcXD7te1hsx2RB7lN7derUwd3dnZkzZ+Ls7Ex2djZHjhxh1apVhdbKZW1tzfr166levTppaWmMGTNGoUUmMDAQqVRKzZo1UVdXZ/369aipqWFubs7+/fuJioqiQYMG6OrqcvDgQXJycrCzs0NTU5PRo0czcuRIcnJyqFevHmlpaZw9exYNDQ35mKVPdf/+fXx9ffnxxx+5fPkyy5YtY+HChe/cpn///rRp0wapVPpJ+7e2tmbHjh2cPXsWXV1dFi1axOPHj+WVoTJlyjBu3DjGjh2LiooKdevWJT4+ntDQULy8vDAyMkJNTY2goCDKly9PmTJl0NbWZsyYMUybNo1KlSrh6upKQEAAV65cYePGje8sj4+PD9999x22trYkJydz/PjxAitm+b28NLP0V3gfUkoNZe3XlXAlrXIo69siy0gl51kc6u7eKJU14tmJaYAMabJi17PsRTJIMxTSX1zfjHb731Fz7U1mdDAqFo0oXa4mqXu8PtdRFUvPX2QQE/v6DvdBXAphUbFoa6hhZqTDwsDDPElMY96o108Uh0XlPlyS/jKTpNTnhEXFUrqUMtYVFX+sdxy+TLNa9uhqqX+egykh2rXvxi9LZlPJ2h47O0eOHN5LQsITPDw6ALB+/a8kJSYwwmcyADVq1GHlyvkE/bUL16o1SU5OwH/tMmxsKqOnZwCAubniWM6yZTXyTReKt/nz59O6dWuOHj1K7dq1kUgk8ofNPvWp9GJdybK0tOTy5cv4+fkxatQoYmNjMTQ0xM3NjVWrVhXafvz9/Rk4cCBVq1alYsWK/PTTTwqDu3V0dJg7dy6+vr5IpVKcnJzYt28f+vr66OjosHPnTvnAORsbGzZt2oSjY+4j37NmzcLIyIg5c+YQFRWFjo4O1apVY+LEif+53L169eLFixe4u7ujrKzMsGHDGDhw4Du3adasGaampjg6On7S3FdTpkzh7t27eHh4oK6uzsCBA+nQoQOpqakKMaVKlWLq1Kk8evQIU1NTBg0aBOS2+i1dupSZM2cydepU6tevT3BwMMOHDyctLY1Ro0bx5MkTHBwc2Lt3LzY2Nu8sj1QqxdvbmwcPHqClpUXLli1ZvHjxRx/X16S0kQPa7X6Tf9aokztj8cvwfTw7MQOlsgYoa35cC1x23DWeHp2Eeo3BqNcYhDTtAU+PThBzZL3HjYhH9J74ejD03DV/AdChaVXmjuxIfPIzHsWnKmzz/fCV8n+H3nnE/pPXMDPS4bj/KHn63YcJXLp5j7Wz/tuN1reoXr2mPE1LY+uWQJKTE6lY0ZLJU+ZjZJT7nUhOSiQ+Pk4e36RpK168SOfgwZ0EBKygbFkNnJyr0avX4C91CF+Hr2DG98+tYcOG3L59mxUrVsjfXdixY0eGDBnyyXNBSmTvmrNe+Oakp6djZmaGv7+/wlN636qEX8V4mK+JftOxX7oIwhvCsht96SIIb3CoXHhdl7J7fxVaXq9IzL8r9DwLQ1RUFJaWlkXyIN1X2BcifAk5OTk8evSIKVOmoK2tTbt27b50kQRBEAShyNnY2BAfHy//3K1bN+Li4t6xxYcTlSwByJ1Pqly5cmzduhV/f39Klfr2mooFQRCEb8/bHXoHDx7M94G6TyF+SQUg9yXZoudYEARBEAqPqGQJgiAIgqDoG5rxXSKR5BmPVVjjs0QlSxAEQRAEBTJJ4Y8mKvr3s3wamUxGnz595FP4vHz5kkGDBuWZ3PrVu3Q/hqhkCcI76NXo/qWLILzhmYl4Oe/XJD0s8f1BgvCVe3tOyJ49exZa3qKSJQiCIAjCN+vVO3uLgni6UBAEQRAEoQiIlixBEARBEBR9QwPfi5JoyRKKXHR0NBKJhCtXrnzpogiCIAgfQqJU+Ms3SLRklRCPHz/Gz8+PAwcO8PDhQ4yMjHB1dcXHx4emTZt+6eIVueDgYBo3bkxycjLHjh2ja9eu3L17l4oVK+aJtbe3p0WLFixduvQLlPS/CwmLxX//VULvJhCfks6ykS1oVsOiwPjDF+6y+ehNbt1LJDNbinU5XYZ2cqOeSwWFmN/3/EtMXBrZ0hzMTbTp08qJ9vVtP8MRFX/btm1l/fp1JCQkYGVViVGjRlO1arUC47du3cLWrVuIjX2EsbEJ/fp50aZNW4WYP//cyPbt24iLe4yOjg5NmjRj6NBheV5iLuR15OgeDhzYRkpqIuXKWeDZcwj2dk75xv7623xO/304T3q5cubMn7sWgOzsbPbu28Tpvw+TnJyAqUkFfvihPy7O7kV6HELxJypZJUB0dDR169ZFR0eH+fPn4+zsTFZWFocOHcLb25tbt2596SJ+Vu3atUNfX59169YxZcoUhXVnzpwhPDycLVu2fKHS/XcvMrKwM9fn+4Z2jFhy5L3xF2/FUsepHCO71UBTXZVdJ8MZsuAQm2d1wMHCAAAdDVV+7FAVKzMdSpdSJvjyPSb9dhJ9LTWFypiQ1+HDh1i48GfGj5+Ai4srO3fuYPjwoWzbtgMTE9M88du3b2XFimVMmjQFBwdHQkNv4Oc3Cy0tLRo0aAjAX38dZPnypUydOh1nZxdiYu4xffpUAEaNGp0nT+G1c+dPsH7DKvr2GY6tjSPHTxxg/s8TmD93LQYGxnnie3kO4Ydu/eWfpTlSJk4aSE33BvK0bdsDOHP2KP37+WJmVoFr1y6yeMl0pk/9BQuLd7+kvtgS3YWF4ttsvythhgwZgkQi4cKFC3Tu3BlbW1scHR3x9fXl/Pnz8riYmBjat2+PhoYGWlpadO3aVeH9TNOnT8fV1RV/f38qVqyIhoYGgwcPRiqVMn/+fExMTDAyMsLPz09h/xKJhFWrVvHdd9+hpqaGpaUl27Zte2eZb968SatWrdDQ0MDY2BhPT08SEhKA3FYpFRUVTp8+LY9fuHAhBgYGxMbGvvd8lC5dGk9PTwIDA/PMYu/v74+bmxsuLi7vzedr1cC1Ij5da9DC3fKD4if2qkP/tq44VTLCwlSbkT+4U9FEmxOX78lj3B3MaF7DkkrldKlorEWv75ywrajHpfDHRXUYJcbGjRto374DHTp0xNLSilGjxmBsbML27fl/Bw4ePEDHjp1o0cKD8uXL4+HRkvbtO7BuXaA85tq1a7i4uNKy5XeYmZlRq1ZtPDxaEhZ28zMdVfH11187aNSwJY0btaJcOXM8ew5BX9+Io8f25Ruvrq6Bjo6efLkbdZvnz5/RoEFLeczfZ47Sru3/cHWtiZGRGc2atcPZqToH/9r+uQ5LKKZEJauYS0pKIigoCG9v7zwTpwHo6OgAuZOtdejQgaSkJE6ePMmRI0eIjIykW7duCvGRkZH89ddfBAUFsWnTJvz9/WndujUPHjzg5MmTzJs3j8mTJytU3gCmTJlCp06duHr1Kj179qR79+6EhYXlW+bY2FgaNmyIq6srFy9eJCgoiLi4OLp27QpAo0aN8PHxwdPTk9TUVK5evcqkSZNYvXo1pqZ5Wwby4+XlRVRUFCdPnpSnPX/+nK1bt+Ll5fVBeZRUOTky0l9molM2/24nmUzGuRsPiY5NpXrlDzvf36qsrCxu3QqjVq3aCum1atXi2rWr+W6TmZmFioqKQpqqqiqhoTfIzs4CwNXVlbCwm9y4cQOABw8ecObMGerVq1cER1FyZGdncTf6Nk5O1RXSnaq4ERHxYRXU4JN/4ehYDcM3Wr2yszNRKa34f6aiokr47Rv/vdBCiSa6C4u5O3fuIJPJsLe3f2fc0aNHuXbtGnfv3qVChdzun/Xr1+Po6EhISAg1atQAICcnB39/fzQ1NXFwcKBx48aEh4dz8OBBlJSUsLOzY968eQQHB1OrVi15/l26dKF//9wm91mzZnHkyBGWLVvGypUr85Rl1apVVKtWjZ9++kme5u/vT4UKFbh9+za2trbMnj2bo0ePMnDgQEJDQ/H09OT777//4PPi4OBAzZo1CQgIoFGjRgBs3boVqVRK9+7f9gSjAQeukZ6RTctalRTSn6Zn0sh7A5nZUpSUlJjaty51ncp/oVIWDykpyUilUvT09BTS9fT0SUjIf6LO2rVrs3v3bho1aoy9fWXCwm6yd+8esrOzSUlJwcDAEA+PliQnJ9O/f19kMpBKs+ncuQt9+vT7HIdVbD19mkpOTg7aWroK6drauqSmJr13++SURK5eu4D3kIkK6U5O1TkYtB17eyeMjMwIDf2XS5fPkpOTU6jl/5rIRBtMoRCVrGLuVXfY+96zFBYWRoUKFeQVLMitiOjo6BAWFiavZFlYWKCpqSmPMTY2RllZGSUlJYW0J0+eKORfu3btPJ8Leprw0qVLnDhxAg0NjTzrIiMjsbW1RUVFhQ0bNuDs7Iy5uTlLlix55/Hlx8vLCx8fH5YvX46mpib+/v507NhR3rr3toyMDDIyMhTSSmdmo6pScr4mB87eYcXOSyz3bYG+tprCurJlSrNzTifSX2ZxPvQR8zacp4KRFu4OZl+otMXH298/mUxW4HfSy2sACQmJ9OnTG5Chp6dHmzbt+OOPQJSUcsfBXLx4kYCAtYwfP4EqVZy4f/8+Cxb8jIHB7/TvP7CoD6fYy+//gw94F92pU4dQV9egultdhfRePb1Zs3YRo8f2QyIBYyMzGtT34NTpQ4VabqHkKTm/Ht8oGxsbJBIJYWFhdOjQocC4gi76b6eXLl1aYb1EIsk37UPu4Ar6kcnJyaFt27bMmzcvz7o3uwPPnj0L5HaJJiUl5dsd+i4//PADI0eOZMuWLTRq1Ii///6bmTNnFhg/Z84cZsyYoZA2dUBzpv3o8VH7/VodPBfJ5N9PsnhEc+rk00KlpCTB3EQbgMoWBkQ+TOb3PVdEJesddHR0UVZWJjFRsdUqOTkJfX29fLcpU6YM06ZNZ9KkSSQmJmFgYMCuXTsoW7as/Abg119X0qpVazp06AiAtbUNL168wM9vNv369Ve46RFe09TURklJiZS3Wq3S0lLytG69TSaTcfLUIerVbUapUorXPC0tHXxHziQzM5Nnz9LQ1dVn85Y1GBqaFPoxfDXEwPdCIb6pxZyenh4eHh6sWLGC58+f51mfkpIC5LZaxcTEcP/+ffm6mzdvkpqaSuXKlf9zOd4eo3X+/PkCuzCrVatGaGgoFhYWWFtbKyyvKlKRkZGMHDmS1atXU6tWLXr16vXRTfOampp06dKFgIAA/P39sbKykncd5mfChAmkpqYqLOP7lozpLw6cvcPEX4P52bspjarmndYiPzIgM1tatAUr5kqXLo29fWX++Ufx7/+ff87j7PzuhytKlSotbyk+fPgQ9erVl1eeXr58ieSteYVy18nyPMwhvFaqVGksLWy5ceOSQvr1G5ewsXF457Zht64SF/eQRg2/KzBGRUUFPT0DpFIpISGncatWp1DKLZRcopJVAqxcuRKpVIq7uzs7duwgIiKCsLAwli5dKu/Ga9asGc7OzvTo0YPLly9z4cIFevXqRcOGDalevfp79vB+27Ztw9/fn9u3bzNt2jQuXLjA0KFD84319vYmKSmJ7t27c+HCBaKiojh8+DD9+vVDKpUilUrx9PSkRYsW9O3bl4CAAG7cuMHChQs/ulxeXl6cPXuWVatW0a9fv3d2q6qqqqKlpaWwfI1dhc9fZhEWnUBYdO7TmA/i0wiLTuBRwjMAFm2+wLiVJ+TxB87eYfyqE4ztWQsXGyPiU9KJT0nnaXqmPOb3Pf9y5voD7selEfUwhcAD19h7+jZt65XQx9MLUY8ePdm9exd79uzm7t0oFi5cwOPHj+nUqTPA/0/FMFkef+/ePQ4ePEBMzD1u3LjBhAnjiIyMxNt7mDymfv0G7NixjUOHgnj48CHnz5/n119X0aBBQ5SVRQvDu3z3XSdOBP9F8Mm/ePjwHus3rCQx8QlNm+bOQ7Z5yxpW/To3z3bBJ4OoVMmeChXyPrV7504YISGnefLkEbfCrzP/5wnkyHJo07pbnlhBeNPX9wsifDRLS0suX76Mn58fo0aNIjY2FkNDQ9zc3Fi1ahWQ23W3e/duhg0bRoMGDVBSUqJly5YsW7asUMowY8YMNm/ezJAhQzAxMWHjxo04OOR/52hmZsaZM2cYN24cHh4eZGRkYG5uTsuWLVFSUmLWrFlER0ezb1/uI9cmJiasWbOGrl270rx5c1xdXT+4XPXq1cPOzo6IiIg8b1ovrkKj4uk9e7/887wNua0oHRrYMmdQI+JT0olNfCZfv+VYGNlSGbMCzjAr4Iw8/VU8QHpGNjP9/yYu6TllVEphaabDvCFNaFVbcXC8kFeLFh6kpqayZs3vJCQkUKmSNb/8sgxT09xu1oSEBB4/fj0VRk6OlA0b1nPv3j1KlSpF9erVWbs2EDOz192yXl79/39qlJXExz9BR0eXBg0aMGRI/jcuwmu1azXm2bM0du3eQEpKEuXLWzBm9E/ypwVTUpJITFQcU5qe/oyQkNN49hySb55ZWZls3R5AfHwsqqpquLq4M3jQOMqWzTuutMT4RmdoL2wSmWh7Fv4jiUTCrl273jkmrLjKufTxrWdC0XluO/hLF0F4Q3hY/k9QCl9GdffCmzhY+jik0PJ6RdmkRqHn+bUTLVmCIAiCICgSA98LhWgPFARBEARBKAKiJUv4z0SPsyAIgiDkJSpZgiAIgiAokImB74VCnEVBEARBEIQiIFqyBEEQBEFQJAa+FwpRyRIEodjIzi65L+QtjqRS8f8hCO8iugsFQRAEQRCKgGjJEgRBEARBkeguLBSiJUsoVMHBwUgkEvmLqYuShYUFS5YsKfL9CIIgCMKnEC1ZxcTjx4/x8/PjwIEDPHz4ECMjI1xdXfHx8aFp06ZAbqXDx8eHIUOGYGZmho+PD5MnT86T15w5c1i4cCGPHj1CRUXlcx9KoQkJCaFs2bLyzyX59T5vCgmLxX//VULvJhCfks6ykS1oVsOiwPjDF+6y+ehNbt1LJDNbinU5XYZ2cqOeSwWFmN/3/EtMXBrZ0hzMTbTp08qJ9vVtP8MRFX/bt29l48b1JCYmYGlpxciRo3F1rfrO+G3btvD4cSzGxib06dOPVq3aKMQ8ffqUX39dQXDwcZ4+fYqpqRkjRoykTp16RX04xd7RY3s5+Nc2UlOSKFfOnB7/G4ydnVO+sb+v/pm/zxzJk17OzJw5P62Wfw46tJPjJ/aTmPgETU0talSvT5fOXsX6GvouYgqHwiEqWcVAdHQ0devWRUdHh/nz5+Ps7ExWVhaHDh3C29ubW7duKcSrqKjQs2dPAgMDmTRpEhKJRGF9QEAAnp6exf7iYGho+KWL8EW8yMjCzlyf7xvaMWJJ3h+Ht128FUsdp3KM7FYDTXVVdp0MZ8iCQ2ye1QEHCwMAdDRU+bFDVazMdChdSpngy/eY9NtJ9LXUFCpjQl5HjhxmyZKFjBkzHmdnV3bv3sHIkcPYtGkbJiameeJ37NjGypXLmTBhMg4ODty8GcqcObPR1NSifv0GAGRlZTF8+BB0dXX56af5GBkZExf3WOGmQsjf+X+C2fjnr/TuNQwbG0dOnDjAgkWTmPPTGgz0jfLE9+wxhK5dvOSfc3KkTJoyiBo16svTzp49xrZta/HyGoWNtQOP4x6wes0CAHr8T7xPUyiYqKoWA0OGDEEikXDhwgU6d+6Mra0tjo6O+Pr6cv78+Xy38fLyIjIyklOnTimknz59moiICLy8vPLdLjMzk6FDh2JqakqZMmWwsLBgzpw5QG5lTyKRcOXKFXl8SkoKEomE4OBghXzOnDmDi4sLZcqUoWbNmly/fl2+bvr06bi6uirEL1myBAsLC/nnPn360KFDBxYsWICpqSn6+vp4e3uTlZUlj3mzu/DVtt9//z0SiUT++erVqzRu3BhNTU20tLRwc3Pj4sWL+R57cdHAtSI+XWvQwt3yg+In9qpD/7auOFUywsJUm5E/uFPRRJsTl+/JY9wdzGhew5JK5XSpaKxFr++csK2ox6Xwx0V1GCXGpk0baNu2Pe3bf4+lpSUjR47GyMiYnTu35xsfFHSQ77/vSPPmLShXrjzNm3vQtm171q8PlMfs27eHtLRU5s9fiIuLK6ampri6VsXGRrQsvk/QoR00bNCSRg2/o5xZRXr2GIyeniHHj+/LN15dvSw6Onry5e7d26SnP6NBfQ95zJ3IMGxsHKlTuwmGhiY4ValOrZqNuRsd8bkOSyimRCXrK5eUlERQUBDe3t753sXq6Ojku52TkxM1atQgICBAId3f3x93d3eqVKmS73ZLly5l7969bN26lfDwcDZs2KBQ+flQY8aMYcGCBYSEhGBkZES7du0UKkgf4sSJE0RGRnLixAnWrVtHYGAggYGB+caGhOS+MT4gIIDY2Fj55x49elC+fHlCQkK4dOkS48ePp3Tp0h99PCVJTo6M9JeZ6JRVzXe9TCbj3I2HRMemUr1y3pYY4bWsrCzCw29Rs2YthfSaNWtx/fq1fLfJzMzM04qsqqrKzZuhZGfnfkdOnz5FlSrO/PzzPL77rjn/+19XAgP9kUqlRXMgJUR2dhbR0RFUqVJNId2pihsRd25+UB4nTwXh6FAVAwNjeZqtjSPR0RFERuX2Gjx5EsvVaxdwcXYvvMJ/bSTKhb98g0R34Vfuzp07yGQy7O3tP3rbfv36MXr0aJYvX46GhgbPnj1j27ZtLFq0qMBtYmJisLGxoV69ekgkEszNzT+p3NOmTaN58+YArFu3jvLly7Nr1y66du36wXno6uqyfPlylJWVsbe3p3Xr1hw7dowBAwbkiX3Vdaijo4OJiYnC8YwZM0Z+/mxsbD7peEqSgAPXSM/IpmWtSgrpT9MzaeS9gcxsKUpKSkztW5e6TuW/UCmLh5SUFKRSKXp6+grpenr6JCYm5rtNrVq12bt3Nw0bNsbOzp5bt8LYt28v2dnZpKSkYGBgyKNHD7h0KRYPj+9YvHgp9+/H8PPP85BKs/HyGvg5Dq1Yevo0jZycHLS1dBXStbR0SU1Nfu/2KSmJXLsewuBBExTSa9VqTNrTVGb7+QIypFIpTZq0oW2bHwqz+EIJJCpZX7lXL19+e1zVh+jevTu+vr5s2bIFLy8vtmzZgkwm44cfCr4w9OnTh+bNm2NnZ0fLli1p06YNLVq0+Oh9165dW/5vPT097OzsCAsL+6g8HB0dUVZ+ffdjamqq0O34IXx9fenfvz/r16+nWbNmdOnShUqVKuUbm5GRQUZGhkJa6cxsVFVKztfkwNk7rNh5ieW+LdDXVlNYV7ZMaXbO6UT6yyzOhz5i3obzVDDSwt3B7AuVtvh4+/spk8ko6Cvbt29/EhMT8fLqDeR+P1q3bsuGDetQUsr9e8/JkaGrq8v48ZP+/yajMvHx8Wzc+IeoZH2It0++TMaHXEFP/30YdXUN3KrVUUgPC7vKvn2b6N1rGJWs7Il78pANG1exW3sDHdr3LLxyf03EwPdCIc7iV87GxgaJRPLRFRQAbW1tOnfuLO8yDAgIoHPnzmhpaRW4TbVq1bh79y6zZs3ixYsXdO3alc6dOwOgpJT75/Kq4gd8VBfgqx8iJSUlhTwKyuftbj2JREJOzsfNMD19+nRCQ0Np3bo1x48fx8HBgV27duUbO2fOHLS1tRWWuQHHPmp/X7OD5yKZ/PtJFg1vRp18WqiUlCSYm2hT2cKAvq2daeFuye97rnz+ghYjOjo6KCsrk5iYoJCenJyUp3XrlTJlyjB58jROnjzDrl372L37AKampv8/NkgHAAMDAypUMFe4ybCwsCQxMfGju92/JZqaWigpKZGamqSQnvY0BS1t3QK2yiWTyTh1+hB16zSlVCnFa8+OXeuoU6cpjRp+R4UKllR3q0eXzn3Zf2DLR1+ThG+LqGR95fT09PDw8GDFihU8f/48z/r3zUfl5eXFmTNn2L9/P2fOnClwwPubtLS06NatG6tXr2bLli3s2LGDpKQkeZdcbGysPPbNQfBvenNAfnJyMrdv35Z32RkaGvL48WOFilZB+XyM0qVL5ztmxdbWlpEjR3L48GE6duyYZ5zaKxMmTCA1NVVhGd+36X8u19fgwNk7TPw1mJ+9m9KoasUP2kYGZGaLMUDvUrp0aezs7Llw4R+F9AsX/sHJyfmd25YqVRojI2OUlZU5evQw9erVk9/IODu78ODBfYUf8Pv372FgYPDNjyl8l1KlSmNhYcON0MsK6TdCL2Nj7fDObW/dukZc3CMaNmiZZ11mxkv5/80rSkrK/38Nk+WJF4RXSk4/SAm2cuVK6tSpg7u7OzNnzsTZ2Zns7GyOHDnCqlWr3tnK1bBhQ6ytrenVqxfW1tY0aNDgnftavHjx/z/J5IqSkhLbtm3DxMQEHR0dlJSUqFWrFnPnzsXCwoKEhIR85+ECmDlzJvr6+hgbGzNp0iQMDAzk81c1atSI+Ph45s+fT+fOnQkKCuKvv/56Zwvbh7CwsODYsWPUrVsXVVVVypQpw5gxY+jcuTOWlpY8ePCAkJAQOnXqlO/2qqqqqKoqDgbP+Qq7Cp+/zCLmcar884P4NMKiE9DWKIOZgQaLNl8gLuk584Y0BnIrWONXnWBCrzq42BgRn5IOQBmVUmiq5w7A/n3PvzhaGVLRSIus7BxOXYlh7+nbTO1XP28BBAXdu/dkxowpVK7sQJUqzuzZs5O4uMd8/31uC/DKlcuIj49n2rSZAMTE3CM0NBRHxyo8fZrGpk0biYyMZMqUGfI8O3bszLZtW1i0aAFdu3bj/v0YAgMD6NpVjAF6n5Yenfjt9/lYWthibe1AcPABEhOf0KRx7jxkW7etJTk5kR8HjlXY7uSpICpZ2VO+fN6ndl1daxF0aCfmFStRqZI9cXGP2LFzHVWr1pZ38ZY8JfW4Pq+v7xdEyMPS0pLLly/j5+fHqFGjiI2NxdDQEDc3N1atWvXe7fv168fEiRMZM2bMe2M1NDSYN28eERERKCsrU6NGDQ4ePCi/i/P396dfv35Ur14dOzs75s+fn++Yrblz5zJixAgiIiJwcXFh79698ieqKleuzMqVK/npp5+YNWsWnTp1YvTo0fz+++8feWYULVy4EF9fX1avXk25cuW4ffs2iYmJ9OrVi7i4OAwMDOjYsSMzZsx4f2ZfsdCoeHrP3i//PG9Dbqthhwa2zBnUiPiUdGITn8nXbzkWRrZUxqyAM8wKOCNPfxUPkJ6RzUz/v4lLek4ZlVJYmukwb0gTWtXOf/ya8Frz5i1ITU1h7drVJCYmYGVViUWLlmJqmvtkZkJCAo8fv54KQyrNYdOmDdy7F02pUqVwc6vO6tX+mJm9HvtmbGzCL7+sYMmShfTs+QOGhoZ069YdT8/en/34iptaNRvx7Fkae/ZsJCU1ifLlzBnlO1v+tGBKShKJiU8UtklPf87FS38XOOdV+3Y9kEgkbN+5juTkBDQ1tanqWovOnfoW+fEIxZtE9vbgGEEQ5HIuLfzSRRDekGr145cugvCG27fyf4JS+DJq1v60p8Hzk5kSU2h5vaKi82FDFUoSMSZLEARBEAShCIhKliAIgiAIQhEQY7IEQRAEQVD0jc7QXthES5YgCIIgCEIREC1ZgiAIgiAoEjO+FwpxFgVBEARBEIqAaMkShHfJznh/jPDZqKuKV5h8TdTKqnzpIghFRYzJKhSiJUsQBEEQBKEIiEqWIAiCIAhCERDdhYIgCIIgKJCJ7sJCIVqySqjg4GAkEgkpKSkFxgQGBqKjo/Of9pOenk6nTp3Q0tJ67/4EQRAE4VtSrFuyHj9+jJ+fHwcOHODhw4cYGRnh6uqKj48PTZs2BcDCwgIfHx+GDBmCmZkZPj4+TJ48OU9ec+bMYeHChTx69Ej+ImPh/datW8fp06c5e/YsBgYGaGtr/+c8+/TpQ0pKCrt37/7vBSyBQm49xv9gKKHRicSnvGDZiMY0cyv4nWCHQ+6x+Xg4t2KSyMzKwbqcDkO/d6Geczl5zK7Td5i4+kyeba+s6YmqirijLcjFS5cJ/GM9YTdvEZ+QwJJFP9OkcaN3b3PxEj8vWkJkZBSGhgb07d2Lrl06yddv37mLffsPcudOJAAOle0ZPswbpyqORXgkJcuhQ7vZs2czKSmJlC9vSd++Q6lc2bnA+NOnj7Bnz2ZiYx+grl4WV1d3evUajKZm7vXs6NH9nDx5iPv37wJgZWVL9+4DsLGp/FmO54sQUzgUimJ7FqOjo3Fzc+P48ePMnz+f69evExQUROPGjfH29s4Tr6KiQs+ePQkMDCS/d2IHBATg6ekpKlgfKTIyksqVK1OlShVMTEyQSCRfukhymZmZX7oIReJFRjZ2FXWZ7Fnzg+IvhsdRp4oZv41qxvaZbajpYMKQxce5Ga34cl8NtdKcWtpVYREVrHd78eIFdra2TBg/5oPiHzx8yJBhPlSr6srWTRvo368vc+cv4MjR4/KYixcv8V3LFqxdvYoN6/wxNTVh0OChxD15UlSHUaKcOXOcgIDldOrUk/nz11C5shN+fmOJj4/LNz4s7BrLls2hSZNWLFoUiK/vdCIjb7Fq1c/ymNDQK9Sr15Rp0xbj57cCAwNjZs8eTWJi/Gc6KqG4KraVrCFDhiCRSLhw4QKdO3fG1tYWR0dHfH19OX/+fL7beHl5ERkZyalTpxTST58+TUREBF5eXgXub9y4cdja2qKuro6VlRVTpkwhKytLvv7q1as0btwYTU1NtLS0cHNz4+LFiwDcu3ePtm3boqurS9myZXF0dOTgwYPybW/evEmrVq3Q0NDA2NgYT09PEhIS5OsbNWrEsGHD8PHxQVdXF2NjY37//XeeP39O37590dTUpFKlSvz11195yn3mzBlcXFwoU6YMNWvW5Pr16/keX3R0NEpKSvIyv7Js2TLMzc3zrZg2atSIhQsXcurUKSQSCY0aNQJgw4YNVK9eHU1NTUxMTPjf//7Hk7d+IEJDQ2ndujVaWlpoampSv359IiMjmT59OuvWrWPPnj1IJBIkEgnBwcEAXL9+nSZNmqCmpoa+vj4DBw7k2bNn8jz79OlDhw4dmDNnDmZmZtja2gKwcuVKbGxsKFOmDMbGxnTu3Dnfc1BcNHApj0/narSoYf5B8RN7utO/dRWcrAywMNFiZJdqVDTR5MSVBwpxEgkY6qgpLMK71a9Xl2Heg2nWtMkHxW/bvhNTUxPGjRmFlZUlnTp24Pv27Vj3xwZ5zNyfZvND1y7Y29lhaWnBtCmTyJHJ+OefkKI6jBJl//5tNGnSiqZN21C+vDl9+w7DwMCIw4f35BsfEXETIyMTWrXqhLGxKZUrO9O8eTuiosLlMSNGTMbDowOWljaUK2fOjz+ORiaTcePG5c91WEIxVSwrWUlJSQQFBeHt7U3ZsmXzrC9onJGTkxM1atQgICBAId3f3x93d3eqVKlS4D41NTUJDAzk5s2b/PLLL6xevZrFixfL1/fo0YPy5csTEhLCpUuXGD9+PKVLlwbA29ubjIwMTp06xfXr15k3bx4aGhoAxMbG0rBhQ1xdXbl48SJBQUHExcXRtWtXhf2vW7cOAwMDLly4wLBhwxg8eDBdunShTp06XL58GQ8PDzw9PUlPT1fYbsyYMSxYsICQkBCMjIxo166dQuXwFQsLC5o1a5bn3AQEBNCnT598W6h27tzJgAEDqF27NrGxsezcuRPIbUGaNWsWV69eZffu3dy9e5c+ffrIt3v48CENGjSgTJkyHD9+nEuXLtGvXz+ys7MZPXo0Xbt2pWXLlsTGxhIbG0udOnVIT0+nZcuW6OrqEhISwrZt2zh69ChDhw5VKNOxY8cICwvjyJEj7N+/n4sXLzJ8+HBmzpxJeHg4QUFBNGjQoMD/529BTo6M9BfZ6Lw1x1H6y2yajNxOoxHbGLTwWJ6WLuG/u3r1OrVrKbZA1qlTi5thN8nKys53m5cvX5KdnY22ttbnKGKxlpWVRVRUOC4uNRTSnZ1rEB4emu82dnZVSEyM5/Ll88hkMlJSkjh37iTVqtUqcD+ZmRlkZ2ejoaFZqOX/qkiUC3/5BhXLMVl37txBJpNhb2//0dv269eP0aNHs3z5cjQ0NHj27Bnbtm1j0aJF79zuzXFcFhYWjBo1ii1btjB27FgAYmJiGDNmjLxMNjY28viYmBg6deqEk5MTAFZWVvJ1q1atolq1avz000/yNH9/fypUqMDt27flrTEuLi7yMkyYMIG5c+diYGDAgAEDAJg6dSqrVq3i2rVr1Kr1+uIwbdo0mjdvDuRW1MqXL8+uXbvyVOIA+vfvz6BBg1i0aBGqqqpcvXqVK1euyCtPb9PT00NdXR0VFRVMTEwUzvErVlZWLF26FHd3d549e4aGhgYrVqxAW1ubzZs3yyuir44TQE1NjYyMDIU8161bx4sXL/jjjz/kFevly5fTtm1b5s2bh7GxMQBly5ZlzZo18m7fnTt3UrZsWdq0aYOmpibm5uZUrVo13+P5VgT8FUp6RjYta1rI0yxNtflpQF1sK+jy7EUW6w+H0WP2X+ya3Q4LE/HjXlgSExPR19dXSNPX0yM7W0pKSgqGhgZ5tlmydDlGRobUqun+uYpZbD19mkpOTg46OroK6To6uqSkJOW7jZ1dFYYPn8TixTPIyspEKpVSvXpd+vUbUeB+Nm78HT09A5yc3Aq1/ELJUyxbsl51XX3K+J/u3buTk5PDli1bANiyZQsymYwffvjhndtt376devXqYWJigoaGBlOmTCEmJka+3tfXl/79+9OsWTPmzp1LZGSkfN3w4cOZPXs2devWZdq0aVy7dk2+7tKlS5w4cQINDQ358qqi9mYezs6vB20qKyujr68vr7QB8krG291ytWvXlv9bT08POzs7wsLC8j3GDh06UKpUKXbt2gXkVvYaN26MhYXFO8/N2/7991/at2+Pubk5mpqa8m7EV+frypUr1K9fX17B+hBhYWG4uLgotFzWrVuXnJwcwsNfN+s7OTkpjKtr3rw55ubmWFlZ4enpycaNG/O09r2SkZFBWlqawpKRmX/rQnF14FwUK3ZdZZF3A/S1XncHulob0q5uJewr6lHdzpjF3g2xMNFi45H8/1aET/f2VetVR3x+lzP/wD/4K+gwixfMR1VVtaiLVoIonkyZTJbv+QW4fz+agIBldO7cm3nzfmfSpPk8eRLL77/nf+O9Z88m/v77GGPGzEJFpeT+n8gkSoW+fIuK5VHb2NggkUgKrCy8i7a2Np07d5Z3iwUEBNC5c2e0tAq+Wz9//jw//PAD3333Hfv37+fff/9l0qRJCgOrp0+fLh9ndPz4cRwcHOSVlf79+xMVFYWnpyfXr1+nevXqLFu2DICcnBzatm3LlStXFJaIiAiFbq23KyQSiUQh7VWFMyfn/a8dKahyqqKigqenJwEBAWRmZvLnn38qtEp9iOfPn9OiRQs0NDTYsGEDISEh8vPw6nypqX38WJ/ci2T+5X4z/e3uY01NTS5fvsymTZswNTVl6tSpuLi45DvVxJw5c9DW1lZY5q47+dFl/VodPH+XyWvPsmhoQ+pUMXtnrJKShCqWBtyLe/qZSvdt0NfXJyFRsRs2KSmJUqWU0dbWUUgP/GM9a9cG8NvKZdja2iC8n6amNkpKSnlarVJTU9DW1st3m127NmJnV4X27X/A3LwSrq7u9O/vw4kTB0lOVvy/2rt3Mzt3bmDKlJ8xN69UZMch5Dp16hRt27bFzMwMiUTyQU+cnzx5Ejc3N8qUKYOVlRW//vpr0Rf0HYplJUtPTw8PDw9WrFjB8+fP86x/31xNXl5enDlzhv3793PmzJl3DniH3MHj5ubmTJo0ierVq2NjY8O9e/fyxNna2jJy5EgOHz5Mx44dFcY3VahQgUGDBrFz505GjRrF6tWrAahWrRqhoaFYWFhgbW2tsOQ33uxjvfkQQHJyMrdv335nN2v//v05evQoK1euJCsri44dO37U/m7dukVCQgJz586lfv362Nvb52ldc3Z25vTp0/mODYPcyp5UKlVIc3Bw4MqVKwr/32fOnEFJSUmhqzE/pUqVolmzZsyfP59r164RHR3N8ePH88RNmDCB1NRUhWV874YfeuhftQPnopi4+gw/D25AI9fy742XyWTciknCUFsMfi9MLi5OnD9/QSHt7Ll/cKjsQOnSr0dvBKxbz++r17JyxVIcHR0+dzGLrdKlS2NlZce1a4oP8Fy7dhE7u/ynwMjMzEDyViuLklLu+KE3H/jZs2cz27evZ9Kk+VSq9PFDVYSP9/z5c1xcXFi+fPkHxd+9e5dWrVpRv359/v33XyZOnMjw4cPZsWNHEZe0YMWykgW5T4xJpVLc3d3ZsWMHERERhIWFsXTpUoUusvw0bNgQa2trevXqhbW19XsHQltbWxMTE8PmzZuJjIxk6dKl8tYZyH2Me+jQoQQHB3Pv3j3OnDlDSEgIlSvnzqHi4+PDoUOHuHv3LpcvX+b48ePydd7e3iQlJdG9e3cuXLhAVFQUhw8fpl+/fnkqGp9i5syZHDt2jBs3btCnTx8MDAzo0KFDgfGVK1emVq1ajBs3ju7du390q1PFihVRUVFh2bJlREVFsXfvXmbNmqUQM3ToUNLS0vjhhx+4ePEiERERrF+/Xt7tZ2FhwbVr1wgPDychIYGsrCx69OhBmTJl6N27Nzdu3ODEiRMMGzYMT09PeVdpfvbv38/SpUu5cuUK9+7d448//iAnJwc7O7s8saqqqmhpaSksqipf37DF5y+zCLuXRNi93Lv1B/FPCbuXxKOE3CctF229xLjfTsvjD5yLYvzvfzO2e3VcKhkSn/KC+JQXPE1/3RK7YtcV/r72kPtPcvOavOYst2KS6Nbk3RXYb116ejq3wsO59f9/uw8fPuJWeDixsY8B+GXpciZOniaP79K5I49iY/l5wWKiou6ya/dedu3eQ+9ePeUx/oF/sHzFKmZMm0o5M1MSEhJISEgosJtbUNSmTReOHTvA8eMHefDgHoGBy0lIiKNFi3ZA7niqZctej4F1c6vNhQunOHRoD3Fxj7h16zoBAUuxtq6Mnl7uGLk9ezaxefNahgwZi6GhCcnJiSQnJ/LiRQn+P/kKBr5/9913zJ49+4Nv9n/99VcqVqzIkiVLqFy5Mv3796dfv34sWLDgo/ddWL6+X5APZGlpyeXLl/Hz82PUqFHExsZiaGiIm5sbq1ateu/2/fr1Y+LEiYwZ8/75bdq3b8/IkSMZOnQoGRkZtG7dmilTpjB9+nQgd4xUYmIivXr1Ii4uDgMDAzp27MiMGTMAkEqleHt78+DBA7S0tGjZsqX8yUQzMzPOnDnDuHHj8PDwICMjA3Nzc1q2bImS0n+vA8+dO5cRI0YQERGBi4sLe/fufe9cYF5eXpw9e/ajuwoBDA0NCQwMZOLEiSxdupRq1aqxYMEC2rVrJ4/R19fn+PHjjBkzhoYNG6KsrIyrqyt169YFYMCAAQQHB1O9enWePXvGiRMnaNSoEYcOHWLEiBHUqFEDdXV1OnXq9N4HFnR0dNi5cyfTp0/n5cuX2NjYsGnTJhwdi+/EjqF3E+k955D887w/c+/aO9SrxJyB9YhPeUFs4usWvy0nbpMtlTHrj3+Y9cc/8vRX8QBp6ZlMDThHQuoLNNVUqGyuxx8TW+JcyfAzHVXxFHozDK8Bg+Sff16Y+71u17Y1s2dOJz4hgcePH8vXly9XjpXLljB/4WI2b92GoaEh48eOpnmz11NAbN26naysLEaNGaewr0E/DmDIoIFFe0AlQN26TXj2LI3t29eRnJxEhQqWTJw4D0PD3AdpkpMTSUh4PWdW48bf8fLlC4KCdvHHHyspW1aDKlWq0qPHj/KYQ4d2k52dxcKF0xT21aVLb7p27ft5Dkx4r3PnztGiRQuFNA8PD9auXUtWVtZHjQMuLBJZfhMgCd80Pz8/Nm/eXOCcWt+SnH9+en+Q8NlkOQ19f5Dw2YTfyTtcQ/hynJ1NCy2vFy9eFlperygpScjIyFBIU1VV/aCHOiQSCbt27XpnT4ytrS19+vRh4sSJ8rSzZ89St25dHj16hKlp4Z2fD1VsuwuFwvfs2TNCQkJYtmwZw4cP/9LFEQRBEEqQ/B4umjNnTqHu4+0HpP7LbASFodh2FwqFb+jQoWzatIkOHTp8UlehIAiCIBRkwoQJ+Pr6KqQV5tQkJiYmCt3zkDutUalSpfLMT/e5iEqWIBcYGEhgYOCXLoYgCILwhRXFSCJV1TJFOt9b7dq12bdvn0La4cOHqV69+hcZjwWiu1AQBEEQhK/Qs2fP5HNHQu4UDVeuXJFPbD1hwgR69eoljx80aBD37t3D19eXsLAw/P39Wbt2LaNHj/4SxQdES5YgCIIgCG/5Gh6Ju3jxIo0bN5Z/ftXV2Lt3bwIDA4mNjVV484qlpSUHDx5k5MiRrFixAjMzM5YuXUqnTp0+e9lfEU8XCsI7ZO7t/qWLILxBqfbE9wcJn83N2LzvWhS+nMJ8uvD58xeFltcrZct+e5Mbi+5CQRAEQRCEIiC6CwVBEARBUCA6uQqHaMkSBEEQBEEoAqKSJXx20dHRSCQS+RMjgiAIwtdFJiv85VskugtLqMePH+Pn58eBAwd4+PAhRkZGuLq64uPjQ9OmTb908YrUjh076Nq1K3fv3qVixYp51tvb29OiRQuWLl36BUr3312MekpgcBw3H74gPi2LJb2taFpFp8D4y3efsfjAQ+7Gv+RlZg6muip0qWVArwavX6x99Hoyq4/HcT8hg2ypjIoGqvRuaERbty8zgV9xcfHKTfz/3MPN8CjiE5NZ+tNYmjZwf+c2If+GMn/ZOu5E38dIX5d+PdrTrYOHfH1Wdjar1+9i71/BxCUkYVHBDN/BPalfq2pRH06JcejQbvbs2UxKSiLly1vSt+9QKld2LjD+9Okj7NmzmdjYB6irl8XV1Z1evQajqakNwNGj+zl58hD3798FwMrKlu7dB2BjU/mzHI9QfImWrBIoOjoaNzc3jh8/zvz587l+/TpBQUE0btwYb2/vL128IteuXTv09fVZt25dnnVnzpwhPDwcLy+vL1CywvEiMwdbM3Umdij/QfFqKkp0r2tI4GBb9oxxYGBTE5YHxbLtfII8Rlu9FAObmLBhqC07fCvToYY+U7be40x4WlEdRonw4sVL7KwtmOT7YX9PDx7FMXjMT1Rzqcx2/58Z0KsjPy0J4HDweXnM0t83sW3PESaO9GLv+iV069CCERN/Jux2VFEdRoly5sxxAgKW06lTT+bPX0Plyk74+Y0lPj4u3/iwsGssWzaHJk1asWhRIL6+04mMvMWqVT/LY0JDr1CvXlOmTVuMn98KDAyMmT17NImJ8Z/pqITiSlSySqAhQ4YgkUi4cOECnTt3xtbWFkdHR3x9fTl//vXFPCYmhvbt26OhoYGWlhZdu3YlLu71hWj69Om4urri7+9PxYoV0dDQYPDgwUilUubPn4+JiQlGRkb4+fkp7F8ikbBq1Sq+++471NTUsLS0ZNu2be8s882bN2nVqhUaGhoYGxvj6elJQkJuJSA4OBgVFRVOnz4tj1+4cCEGBgbExsbmyat06dJ4enoSGBiYZ/Cmv78/bm5uuLi4fPgJ/crUt9dmeEszmjnpflB85XLqtKqqh7WJGuX0VGnrpk8dO00u330mj6lRSZOmTjpYGatRwUCVnvWNsDVVU4gR8qpfuxojBnanecNaHxS/ZfdhTI0NmDCiL5UsytO5bTM6tm5M4Ka98ph9h04xwPN7GtSuRoVyxvzwvQd1a7oQuHnfO3IWXtm/fxtNmrSiadM2lC9vTt++wzAwMOLw4T35xkdE3MTIyIRWrTphbGxK5crONG/ejqiocHnMiBGT8fDogKWlDeXKmfPjj6ORyWTcuHH5cx3WZ5cjkxX68i0SlawSJikpiaCgILy9vSlbtmye9To6OkDukyMdOnQgKSmJkydPcuTIESIjI+nWrZtCfGRkJH/99RdBQUFs2rQJf39/WrduzYMHDzh58iTz5s1j8uTJCpU3gClTptCpUyeuXr1Kz5496d69O2FhYfmWOTY2loYNG+Lq6srFixcJCgoiLi6Orl27AtCoUSN8fHzw9PQkNTWVq1evMmnSJFavXl3gW9W9vLyIiori5MmT8rTnz5+zdevWYt2KVRjCHqZzJfo51a008l0vk8k4H5FG9JMM3AqIET7N1dDb1KmhWMGv6+5K6K1IsrKzAcjMykJVVUUhRlVFhcvXbn22chZXWVlZREWF4+JSQyHd2bkG4eGh+W5jZ1eFxMR4Ll8+j0wmIyUliXPnTlKtWsEV58zMDLKzs9HQ0CzU8gsljxiTVcLcuXMHmUyGvb39O+OOHj3KtWvXuHv3LhUqVABg/fr1ODo6EhISQo0auRepnJwc/P390dTUxMHBgcaNGxMeHs7BgwdRUlLCzs6OefPmERwcTK1ary9KXbp0oX///gDMmjWLI0eOsGzZMlauXJmnLKtWraJatWr89NNP8jR/f38qVKjA7du3sbW1Zfbs2Rw9epSBAwcSGhqKp6cn33//fYHH5+DgQM2aNQkICKBRo0YAbN26FalUSvfu3+YEo01nXyf5WTbSHBmDm5vSqabiRJJPX0hpOvs6Wdk5KClJmPx9BerYan2h0pZMCYkp6NfUVkjT19MmWyolJeUphga61HV3Zd3mfVR3caBCOWPOX7rOib9DkObkfKFSFx9Pn6aSk5ODjo5iK6+Oji4pKUn5bmNnV4XhwyexePEMsrIykUqlVK9el379RhS4n40bf0dPzwAnJ7dCLf/X5BtteCp0opJVwrzqHpNIJO+MCwsLo0KFCvIKFuRWTHR0dAgLC5NXsiwsLNDUfH23ZmxsjLKyMkpKSgppT548Uci/du3aeT4X9DThpUuXOHHiBBoaeVtNIiMjsbW1RUVFhQ0bNuDs7Iy5uTlLlix55/FBbmuWj48Py5cvR1NTE39/fzp27ChvzXtbRkYGGRkZCmmSLCmqpZXfu6/iYN0QW9IzcrgW85wlBx9S0UCVVlX15OvLqiqxfaQ96Rk5/HPnKT/ve0h5fVVqVBJ364Xp7e+m/Mfs/5MnjOjLtPm/0qbHCCQSqGBmQodWjdl98MTnLWix9vY5llHQJfH+/WgCApbRuXNvXF1rkJycyPr1v/L774sYMmRsnvg9ezbx99/HmDFjCSoqRfeyY6FkEN2FJYyNjQ0SiaTArrlXci86ea86b6e//eZyiUSSb1rOB9xlF1Txy8nJoW3btvIXgb5aIiIiaNCggTzu7NmzQG6XaFJS/nelb/rhhx+QSCRs2bKFO3fu8Pfff7+zq3DOnDloa2srLPO333zvfoqL8nqq2Jqq0bmmAZ71jVh1RHE8m5KShIoGZbAvp07vhsY0d9ZhzfHHX6i0JZOBvg4JiSkKaUnJqZRSVkZHO7cyq6erzbI547h4ZANHtq9i/5+/oK5WhnKmRl+gxMWLpqY2SkpKeVqtUlNT0NbWy3ebXbs2YmdXhfbtf8DcvBKuru707+/DiRMHSU5OVIjdu3czO3duYMqUnzE3r1RkxyGUHKKSVcLo6enh4eHBihUreP78eZ71KSkpQG6rVUxMDPfv35evu3nzJqmpqVSu/N8fS357jNb58+cL7MKsVq0aoaGhWFhYYG1trbC8GlcWGRnJyJEjWb16NbVq1aJXr17vrdhpamrSpUsXAgIC8Pf3x8rKSt51mJ8JEyaQmpqqsIzt7PBxB15MyGSQmf3u/oAPiRE+joujLWcvXlNIOxtyFUf7SpQupdixoKqqgrGhPtlSKUdO/kOT+orjjIS8SpcujZWVHdeuXVRIv3btInZ2jvluk5mZgUSi+FOopJTbev3mgzN79mxm+/b1TJo0n0qV3j0coySQ5cgKffkWiUpWCbRy5UqkUinu7u7s2LGDiIgIwsLCWLp0qbwbr1mzZjg7O9OjRw8uX77MhQsX6NWrFw0bNqR69er/uQzbtm3D39+f27dvM23aNC5cuMDQoUPzjfX29iYpKYnu3btz4cIFoqKiOHz4MP369UMqlSKVSvH09KRFixb07duXgIAAbty4wcKFC99bDi8vL86ePcuqVavo16/fO7tRVVVV0dLSUli+xq7C9Awptx6mc+thOgAPkzK49TCd2ORMAJYcfMjETdHy+E1n4gm+mcK9+Jfci3/JrpBE1p2Ko3W113f2a44/5uztNO4nZhD15CXrTsax71Iibarlf/cv5Hqe/oKwiLuEReTOn/QgNo6wiLs8epz7aP/iXzcyYdbr+di6dWhB7ON45i0LJDL6ATv3H2PH/uP06d5OHnMt9DZHTp7n/sM4Ll29yY+jZiPLyaHf/zp81mMrrtq06cKxYwc4fvwgDx7cIzBwOQkJcbRokXuON278nWXLXo//dHOrzYULpzh0aA9xcY+4des6AQFLsbaujJ5e7rjFPXs2sXnzWoYMGYuhoQnJyYkkJyfy4kX6FzlGofgQY7JKIEtLSy5fvoyfnx+jRo0iNjYWQ0ND3NzcWLVqFZDbdbd7926GDRtGgwYNUFJSomXLlixbtqxQyjBjxgw2b97MkCFDMDExYePGjTg45N8qZGZmxpkzZxg3bhweHh5kZGRgbm5Oy5YtUVJSYtasWURHR7NvX+4j7CYmJqxZs4auXbvSvHlzXF1dCyxHvXr1sLOzIyIigt69exfKsX1poQ/S6fdrhPzzz/seAtDOTQ+/HyyIT8siNiVTvj5HJuOXg494mJSJsjJU0FfF57tydKn1euB7emYOfrvuE5eSiWppJSyNyjCnuwUtXUUl611Cb0XSd/h0+ef5y3LnZmv/XSN+mjSU+MRkYuNez0dW3syYVT9PZN6yQDbtDMLIQI+JPn1p0ej1QyMZmVksXb2ZB4/iUFcrQ4NaVZk7ZThamnmfFhbyqlu3Cc+epbF9+zqSk5OoUMGSiRPnYWhoAkByciIJCa+nqmnc+DtevnxBUNAu/vhjJWXLalClSlV69PhRHnPo0G6ys7NYuHCawr66dOlN1659P8+BfWZi4HvhkMjEWyCFQiaRSNi1axcdOnT40kX5zzL3fptPIn6tlGpP/NJFEN5wM9bg/UHCZ+PsnP+UNp8iKanw58jT0/v2poQR3YWCIAiCIAhFQHQXCoIgCIKg4Bsdp17oRCVLKHSiB1oQBEEQRCVLEARBEIS3iJvlwiEqWYIgCIIgKBB1rMIhBr4LgiAIgiAUAdGSJQjvoFRK5UsXQRC+WhKld78jVRC+daIlSxAEQRAEoQiIlixBEARBEBSIge+FQ7RkCYUqODgYiUQifxF1UbKwsGDJkiVFvh9BEIRvjUxW+Mu3SLRkFVOPHz/Gz8+PAwcO8PDhQ4yMjHB1dcXHx4f69etjZmaGj48PkydPzrPtnDlzWLhwIY8ePUJFpfiOOQoJCaFs2dfvcytJr/N5l4uRafgff8TNB8+JT8tiaT9bmjoV/I7BS1FpLNoXw90nL3mZJcVMV5UutY3p3ej1Kzi2nYtjb0gCdx7nvvDWoXxZRrSuiLP5t/cajI9x8cpN/P/cw83wKOITk1n601iaNnB/5zYh/4Yyf9k67kTfx0hfl3492tOtg4dCzB9b97Nl12Fi4xLQ1dGkeaNajPyxB6qqxff7+jkFBe1i757N///uQgv69B2Kg4NLgfGnTh1hz+5NxMY+QF29LFWrutOr9xA0NbUBOHJkHydPHuJ+TO6LwK2s7PhfjwHY2FT+LMcjFF+iJasYio6Oxs3NjePHjzN//nyuX79OUFAQjRs3xtvbGxUVFXr27ElgYGC+Tb4BAQF4enoW6woWgKGhIerq6l+6GJ/di0wpduXKMqmT5QfFq6so87/6Jvwx1IF94134sXk5lv11n61nX78kN+ROGq2q6ePv7cDGEVUw1VVl4K9hxL3xomkhrxcvXmJnbcEkX68Pin/wKI7BY36imktltvv/zIBeHflpSQCHg8/LY/YfPsXiXzcyuG8X9m1cwszxgwk6dpbFv20sqsMoUc6cOU5gwHI6dvLk5wWrqVzZmZ/8xhEfH5dvfFjYNZYv+4kmTVuxeMk6Ro2ewZ074axaOV8eExp6hXr1mjJ9xhJ++mklBoZGzJo5msTE+M91WEIxJSpZxdCQIUOQSCRcuPfkdzMAAHY1SURBVHCBzp07Y2tri6OjI76+vpw/n3ux9vLyIjIyklOnTilse/r0aSIiIvDyyv9HITMzk6FDh2JqakqZMmWwsLBgzpw5QG7lTiKRcOXKFXl8SkoKEomE4OBghXzOnDmDi4sLZcqUoWbNmly/fl2+bvr06bi6uirEL1myBAsLC/nnPn360KFDBxYsWICpqSn6+vp4e3uTlZUlj3mzu/DVtt9//z0SiUT++erVqzRu3BhNTU20tLRwc3Pj4sWL7zq9X736lXUZ0aoCzZ0Lbr16U+XyZWldzQBrU3XK6ZWhbXVD6tppcznqqTxmvqcN3euZULlcWayM1ZjRzYocGZyPSC2qwygR6teuxoiB3WnesNYHxW/ZfRhTYwMmjOhLJYvydG7bjI6tGxO4aa885sqN21R1sqNNi/qUMzWirrsrrZrVI/RWZFEdRomyb99WmjRpRbNmbShf3oK+/Yahr2/I4UN78o2/ffsmhoYmtG7dGWNjUypXdqZ5i7ZERobLY3x8ptCy5fdYWtpQrrw5gwaNQSbL4fr1S5/rsIRiSlSyipmkpCSCgoLw9vZW6Cp7RUdHBwAnJydq1KhBQECAwnp/f3/c3d2pUqVKvvkvXbqUvXv3snXrVsLDw9mwYYNC5edDjRkzhgULFhASEoKRkRHt2rVTqCB9iBMnThAZGcmJEydYt24dgYGBBAYG5hsbEhIC5LbSxcbGyj/36NGD8uXLExISwqVLlxg/fjylS5f+6OMpScIePOff6GdUt9YqMOZlZg7ZOTloq4sRBYXpauht6tRQ7Laq6+5K6K1IsrKzAajmbM/N8Ciu3YwA4P7DOE6fv0yD2m6fvbzFTVZWFlGRt3FxraGQ7uJSg/DwG/luY2dXhcTEeC5fOo9MJiMlJYnz505Sza12gfvJzMxAKs1GQ6Pg71BxlyOTFfryLRJX0GLmzp07yGQy7O3t3xvbr18/Ro8ezfLly9HQ0ODZs2ds27aNRYsWFbhNTEwMNjY21KtXD4lEgrm5+SeVc9q0aTRv3hyAdevWUb58eXbt2kXXrl0/OA9dXV2WL1+OsrIy9vb2tG7dmmPHjjFgwIA8sYaGhkBuJdPExETheMaMGSM/XzY2Np90PCVBk+mXSXqWhTRHxpCW5elcy6jA2EX7YzDSVqG2rfZnLGHJl5CYgn5NxXOqr6dNtlRKSspTDA10adWsHskpaXgOmQIyGdlSKd06eDDA8/svVOri4+nTVHJypGhrK7byauvokpKSlO829vZVGOEzmUWLppOVlYlUKqV6jbp4eY0ocD8bNvyGnp4hzs4lt+Iry/nSJSgZREtWMfNqjJVE8v5JALt3705OTg5btmwBYMuWLchkMn744YcCt+nTpw9XrlzBzs6O4cOHc/jw4U8qZ+3ar+8C9fT0sLOzIyws7KPycHR0RFlZWf7Z1NSUJ0+efFQevr6+9O/fn2bNmjF37lwiIwvucsnIyCAtLU1hyciSftT+vmZ/DHNgq68TU7tYsv7kYw5cTsg3bu2xRxz8N4Ff+tqiWlpcIgrb299d+Q3+/ydfuHyD3/7YyZRR/dnmP59f/MZw8uwlVgVu+7wFLcbyXB5lID/Bb7l/Pxr/tUvp0qU38+avZvLkn3kSF8vvvy3MN3737j858/cxRo+ZhYqKaqGWWyh5xBW0mLGxsUEikXxQhUVbW5vOnTvLuwwDAgLo3LkzWloFN3FXq1aNu3fvMmvWLF68eEHXrl3p3LkzAEpKuX8ubw6m/5guwFc/LkpKSnkG5OeXz9vdehKJhJycj7u9mj59OqGhobRu3Zrjx4/j4ODArl278o2dM2cO2traCsu8rdfzjS2OyuuXwdZMnS61jenV0ISVQQ/yxASceMTqow9Z/WNl7MzydkcL/42Bvg4JiSkKaUnJqZRSVkZHWxOAZWs2086jAZ3bNsO2kjnNGtbE58f/sWb9ro/++//WaGpqo6SknKfVKjU1GR0d3Xy32bVzA3b2VWjfoTsWFpVwrerOgIEjOX78IMnJiQqxe/ZsZueOjUyesoD/a+++w6K4vgaOf5cqHQQFNCooRbE3FLHFbqw/ewl2E3sXe+9dsRA1CraoiT32nth7FxU1diyIjSJt5/3DlwkrYIkgiufzPPvoztyZvTPD7py598wdJ6c8abYdIuOQIOsrkzlzZqpXr87cuXOJiIhIMv/t8anat2/PoUOH2Lx5M4cOHUox4T0xS0tLmjZtysKFC1m9ejVr164lLCxM7ZILCQlRyyZOgk8sIQEf4NmzZ1y7dk3tssuSJQsPHz7UCbRSWs/HMDQ0JD4+acuTm5sbvXv3ZufOnTRo0CBJnlqCQYMG8eLFC53XgCYFP7leXyIFiInTPWEv3vuAX3beZ/7PeSmQU4ZuSAuF87tx+OR5nWmHT5wjf948GBq8yd54/TomSWvXmwsTGSDyfQwNDcmdx43z53Rvbjl//iTu7snnoUZHR6On0T0VJndBuXHDStauWcrQYZNxcXl/uoYQIDlZX6V58+ZRpkwZPD09GT16NIUKFSIuLo5du3bh7++v08pVoUIFXFxcaNWqFS4uLpQvX/6d654xYwaOjo4UKVIEPT09/vjjDxwcHLC2tkZPT4/SpUszceJEnJycCA0NTXYcLoDRo0dja2uLvb09Q4YMwc7OTh2/qmLFijx58oTJkyfTqFEjtm/fzrZt297ZwvYhnJyc2LNnD97e3hgbG5MpUyb69+9Po0aNcHZ25t69e5w4cYKGDRsmu7yxsTHGxrrN/3GG+smWTU8R0fHcCX2tvr/3NJqg+xFYmRqQzcaYGZvv8PhFDBNaugDw28GHOFobk9s+EwCnb74icF8ILcr9m7u2aM8DZm+7y2QfF7JlNubJyzdDN5ga62Nm/OXtgy9FRGQUd+4/VN/fC3lEUPA/WFmYk80hCzN+WcHjJ0+ZMKwHAE3rV2Pluu1Mmh1IozpVOHfxKms372XKyF7qOip6F2fJ6s3kc3OmkIcrd+4/ZPavq/i+bAmd7nORvDp1mjDbbxy587jj7p6fXbs2Exr6mGrV6gKwYvkCnoY9oUePIQCUKFGGX36Zwo7tGyhSxJNnz58SsHg2Lq75yJzZDnjTRbhq5WJ69RpGliwOagtXpkwmmJhkzGFkJKBPHRJkfYWcnZ05ffo048aNo2/fvoSEhJAlSxaKFy+Ov79/kvLt2rVj8ODB9O/f/73rNjc3Z9KkSQQHB6Ovr0/JkiXZunWremW3ePFi2rVrR4kSJXB3d2fy5MlUq1YtyXomTpxIz549CQ4OpnDhwmzatEkdlytfvnzMmzeP8ePHM2bMGBo2bEi/fv1YsGDBJ+2XadOm0adPHxYuXEj27Nm5du0aT58+pVWrVjx69Ag7OzsaNGjAqFGjPulz0tulu+G0nftvID15420A6pW0Y3wLF568jCHkWbQ6X9HCzC13uB8Wjb6ehhy2xvSunYMmXvZqmVWHHhIbr9A7MFjns7pUz07XGjnSeIu+Xpeu3KBtj5Hq+8mzlwBQr2ZFxg/pxpOnzwh59G/u23fZ7PGfMphJswNZuW47We0yM7hXW6pV/HcIiJ9bN0Kj0eC3cBWPn4RhY21JRe/i9PypxWfbrq+Zt3clXr16wZo/lvLs2VNy5nRm8OBJZMn65qLi2bOnhIb+m9v5faWaRL2OZNu29SxZMg8zM3MKFCzGjz/+rJbZsX0jcXGxTJ06XOezGjdpQ9OmbT/Phn1mEmOlDo0i4aoQKYrb2jq9qyASK9kvvWsgEgl6lCW9qyASKVjA4f2FPtDde89TbV0Jcnxnnerr/NJJTpYQQgghRBqQIEsIIYQQIg1ITpYQQgghdEgmUeqQIEsIIYQQOrQSY6UK6S4UQgghhEgDEmQJIYQQQqQB6S4U4h0eXtiX3lUQiTgWT/mhveLze/E0Mr2rIMQXTYIsIYQQQuiQxPfUIUGWEEIIIXRIjJU6JCdLCCGEECINSJCVQe3fvx+NRsPz589TLBMYGIi1tfUnfU5kZCQNGzbE0tLyvZ8nhBBCfEsyVHfhw4cPGTduHFu2bOH+/ftkzZqVIkWK0KtXL8qVK0e2bNno1asXQ4cOTbLshAkTmDZtGg8ePFAfZCzeb8mSJRw4cIDDhw9jZ2eHlZXVJ6+zTZs2PH/+nA0bNnx6BTMgo+88sSjVCSP7guhb2BO6rgOvg3d+2LLZS5Clxe/EPrnK48CayZYxyVcH27pzibq2g6frO6Zm1TOck2eDWLxqM5eu3uTJ0+f4jetDlXIlUyz/JPQZk+ct59LVf7h97yE/NqzOoB5Jn4+5c/8x/Bb9wd0Hj8iRzZ5eHZtSpXzK6xW69u7fzI4da3j+Iozs2XLRrOnPuLkWSLbsooBpHD6yO8n0bI45GTNqvvo+MjKcdRuWcPr0ISIiw8li50CTxh0oVNAzzbZDfP0yTJB169YtvL29sba2ZvLkyRQqVIjY2Fh27NhB165duXLlCj/++COBgYEMGTIEjUajs3xAQAA+Pj4SYH2kGzdukC9fPgoUSP4HLD3FxMRkyOOpZ2RK7OPLRFz4Hbv/Lfjg5TRGFmSuNYPo24fQM7VLtoy+ZXasvh9K9N1jqVXdDC3ydTTueXLyv5oV6DlsxnvLx8TGYWNlyc8+9Vnyx9Zky5y9eI2+o/zo3r4xVcqVZPeBE/QZMYtlc0dS2MMltTchwzl+4i9WrZ7Pjy264uLiwV9/b2Wm3zDGjJyPrW3WJOWbN+1EowZt1ffx2nhGju5KieLl1GlxcbFMmzEYCwtrOncago2NHc/CnpApk+ln2ab0oMhopKkiw3QXdunSBY1Gw/Hjx2nUqBFubm7kz5+fPn36cPToUQDat2/PjRs3+Pvvv3WWPXDgAMHBwbRv3z7F9Q8YMAA3NzdMTU3JnTs3w4YNIzY2Vp1/7tw5vv/+eywsLLC0tKR48eKcPHkSgNu3b1OnTh1sbGwwMzMjf/78bN367w/s5cuX+eGHHzA3N8fe3h4fHx9CQ0PV+RUrVqR79+706tULGxsb7O3tWbBgAREREbRt2xYLCwvy5MnDtm3bktT70KFDFC5cmEyZMlGqVCkuXLiQ7PbdunULPT09tc4JZs+eTa5cuZK906RixYpMmzaNv//+G41GQ8WKFQFYvnw5JUqUwMLCAgcHB1q0aMHjx491lr106RK1atXC0tISCwsLypUrx40bNxg5ciRLlixh48aNaDQaNBoN+/fvB+DChQtUqlQJExMTbG1t+emnnwgPD1fX2aZNG+rXr8+ECRPIli0bbm5uAMybNw9XV1cyZcqEvb09jRo1SnYffC1e39zPywNTeX1t+0ctZ1NjApFBG4i5fzr5Aho9Mtfx4+XB6cQ9v5MKNc34ypcuQs+OTala4cNaM7I7ZmFwz9bUq1EeC7PkT9BL/9iGV4mC/PRjfXLnys5PP9andPH8LEshKBO6du5aT7my1ShfrgbZHHPSvGknMttkYf9fW5Itb2pqhpVVZvV161YwkZHheHtXVcscPLSTiIhXdOsyHFeX/NjZ2uPqWoAcOXJ/rs367LRK6r++RRkiyAoLC2P79u107doVMzOzJPMT8o4KFixIyZIlCQgI0Jm/ePFiPD0939kaY2FhQWBgIJcvX2bWrFksXLiQGTP+vXJt2bIl3333HSdOnODUqVMMHDgQQ0NDALp27Up0dDR///03Fy5cYNKkSZibmwMQEhJChQoVKFKkCCdPnmT79u08evSIJk2a6Hz+kiVLsLOz4/jx43Tv3p3OnTvTuHFjypQpw+nTp6levTo+Pj5ERuqOW9O/f3+mTp3KiRMnyJo1K3Xr1tUJDhM4OTlRpUqVJPsmICCANm3aJGn5A1i3bh0dO3bEy8uLkJAQ1q1bB7xpQRozZgznzp1jw4YN/PPPP7Rp00Zd7v79+5QvX55MmTKxd+9eTp06Rbt27YiLi6Nfv340adKEGjVqEBISQkhICGXKlCEyMpIaNWpgY2PDiRMn+OOPP9i9ezfdunXTqdOePXsICgpi165dbN68mZMnT9KjRw9Gjx7N1atX2b59O+XLl0/xOGdUpgUbY2Cdi5cHZ6ZYxtK7F9rIp0SeX/35KiaSOHspGO+ShXSmeXsW5szF4HSq0dcjLi6W23eCye9RTGe6h0cxrt+4/EHrOHhoB/nyFsHO1l6ddvbcUfLkyceKlXPp3bc5w0Z2YsvWVWi18alaf5HxZIjuwuvXr6MoCnnz5n1v2Xbt2tGvXz/mzJmDubk54eHh/PHHH0yfPv2dyyXO43JycqJv376sXr0aX19fAO7cuUP//v3VOri6uqrl79y5Q8OGDSlYsCAAuXP/e/Xj7+9PsWLFGD9+vDpt8eLF5MiRg2vXrqmtMYULF1brMGjQICZOnIidnR0dO77JmRk+fDj+/v6cP3+e0qVLq+saMWIEVau+uSJbsmQJ3333HevXr08SxAF06NCBTp06MX36dIyNjTl37hxnz55Vg6e3Zc6cGVNTU4yMjHBwcNDZxwly586Nn58fnp6ehIeHY25uzty5c7GysmLVqlVqIJqwnQAmJiZER0frrHPJkiVERUWxdOlSNZCeM2cOderUYdKkSdjbv/lBNDMz49dff1W7CdetW4eZmRm1a9fGwsKCXLlyUbRo0WS3J6MysHHCqsJAnqxoBEryJwWj7CUwLdSUxwE1PnPtxNtCw55ja6Ob22hrY0Vo2PP0qdBX5FX4S7RaLZaWNjrTrSytufjy2XuXf/48jAsXT/JThwE60588eUjQlXOULvU9PXuM5tGj+6xYOY94bTx1a7dM1W0QGUuGaMlK6MpKrrXlbc2bN0er1bJ69Zur9dWrV6MoCs2aNXvncmvWrKFs2bI4ODhgbm7OsGHDuHPn3y6VPn360KFDB6pUqcLEiRO5ceOGOq9Hjx6MHTsWb29vRowYwfnz59V5p06dYt++fZibm6uvhEAt8ToKFfr3ylZfXx9bW1s1aAPUIOPtbjkvLy/1/5kzZ8bd3Z2goKBkt7F+/foYGBiwfv164E2w9/333+Pk5PTOffO2M2fOUK9ePXLlyoWFhYXajZiwv86ePUu5cuXUAOtDBAUFUbhwYZ2WSm9vb7RaLVevXlWnFSxYUCcPq2rVquTKlYvcuXPj4+PDihUrkrT2JYiOjubly5c6r+i4r7yNW6NH5jqzeXlwBnHP/km+iJEZmWvP5Pn2AWij3n8iEmnv7Z8yRVE+6PdNJNDdV4qioOH9++/QkV2YmphTtIiXznRFUbC0sKa1Tw+ccrlSyrMitX5oxv79yXdBCpEgQwRZrq6uaDSaFIOHxKysrGjUqJHaLRYQEECjRo2wtLRMcZmjR4/SrFkzatasyebNmzlz5gxDhgwhJiZGLTNy5Eg1z2jv3r14eHiowUqHDh24efMmPj4+XLhwgRIlSjB79mwAtFotderU4ezZszqv4OBgnW6ttwMSjUajMy3hB1ir1b53H6T0Y21kZISPjw8BAQHExMTw22+/6bRKfYiIiAiqVauGubk5y5cv58SJE+p+SNhfJiYmH7VOePdJJvH0t7uLLSwsOH36NCtXrsTR0ZHhw4dTuHDhZIeamDBhAlZWVjqvuftefnRdvyQaI3OMHAtjXXU02fvfJHv/m1h498TIPj/Z+9/EOGcZDKxzYWCdE9uGi9UypgUaksm1Ktn730TfOld6b8Y3xS6zNaFhL3SmhT1/maR1SyRlYW6Jnp4eL1+G6Ux/+eoFlpbW71xWURQOHtqJV+lKGBjo/t5aWdlgb58dPT19dVo2hxy8ePmMuLik6RcZgaIoqf76FmWIICtz5sxUr16duXPnEhERkWT+2yfU9u3bc+jQITZv3syhQ4femfAOb5LHc+XKxZAhQyhRogSurq7cvn07STk3Nzd69+7Nzp07adCggU5+U44cOejUqRPr1q2jb9++LFy4EIBixYpx6dIlnJyccHFx0Xkll1/2sRKS/gGePXvGtWvX3tmt2qFDB3bv3s28efOIjY2lQYMGH/V5V65cITQ0lIkTJ1KuXDny5s2bpHWtUKFCHDhwINncMHgT7MXH63ZreXh4cPbsWZ3je+jQIfT09HS6GpNjYGBAlSpVmDx5MufPn+fWrVvs3bs3SblBgwbx4sULnVfX71MOvr8GSvQrHi6qwqOAGuor4sxyYp9e51FADWJCzhD79EaSMq+DdxF9+wiPAmoQ//JBem/GN6VIflcOn9C9QeXQifMULeCawhIigYGBIblyunLp8hmd6ZeDTuOSx+Ody169doHHjx9Qtmz1JPNcXPLz+MkDnYvYh4/vY2WVOUlAllEoSuq/vkUZIsiCN3eQxcfH4+npydq1awkODiYoKAg/Pz+dLjOAChUq4OLiQqtWrXBxcXlvIrSLiwt37txh1apV3LhxAz8/P7V1BiAqKopu3bqxf/9+bt++zaFDhzhx4gT58uUDoFevXuzYsYN//vmH06dPs3fvXnVe165dCQsLo3nz5hw/fpybN2+yc+dO2rVrlyTQ+C9Gjx7Nnj17uHjxIm3atMHOzo769eunWD5fvnyULl2aAQMG0Lx5849udcqZMydGRkbMnj2bmzdvsmnTJsaMGaNTplu3brx8+ZJmzZpx8uRJgoODWbZsmdrt5+TkxPnz57l69SqhoaHExsbSsmVLMmXKROvWrbl48SL79u2je/fu+Pj4qF2lydm8eTN+fn6cPXuW27dvs3TpUrRaLe7u7knKGhsbY2lpqfMyNvjyumg0hqYYZvXAMOubk4aBVQ4Ms3qgb5ENAMvyA7CplXBThkJc6DWdlzbyKUpcNHGh11BioyA+OmmZ6JcoMeHEhV4Dbca8Uk8NEZGvCQq+RVDwLQDuhzwhKPgWDx69uTt4+vyVDBw3T2eZhPKRUa8Je/6KoOBbXL91T53v06gmh0+e59cVm7h5+z6/rtjE0ZMX8Wn8w2fbrq9Ztar/48DBHRw4uIMHIXdYtXo+YWFPqFDhzf5buy6AXxdPTbLcgYM7yO3sznfZnZLM+75CLcLDX7Fy9S88fHSPc+ePs3XraipVrJ3WmyO+chki8R3A2dmZ06dPM27cOPr27UtISAhZsmShePHi+Pv7Jynfrl07Bg8eTP/+/d+77nr16tG7d2+6detGdHQ0tWrVYtiwYYwcORJ4kyP19OlTWrVqxaNHj7Czs6NBgwaMGjUKgPj4eLp27cq9e/ewtLSkRo0a6p2J2bJl49ChQwwYMIDq1asTHR1Nrly5qFGjBnp6nx4DT5w4kZ49exIcHEzhwoXZtGnTe8eOat++PYcPH/7orkKALFmyEBgYyODBg/Hz86NYsWJMnTqVunXrqmVsbW3Zu3cv/fv3p0KFCujr61OkSBG8vb0B6NixI/v376dEiRKEh4ezb98+KlasyI4dO+jZsyclS5bE1NSUhg0bvveGBWtra9atW8fIkSN5/fo1rq6urFy5kvz583/0tn0pjBwKkaXF7+p768ojAIi48AfPtvZF3zwrBpbZ0qt635RLV2/Spue/FxGT5iwDoH6N8owf3JnQp88JeRSqs0zD9oMSLf8PW3YfIpuDHbt/f5NCULSgG1NH9MDv19/xW/Q7ObPZM21kDxkj6wN5lqxAeMQr/tzyGy9ehJE9mxM9u49W7xZ8/iKMsDDd1vXIyAhOnz5Es2Y/J7vOzJmz0KfXOFb/Pp8Ro7pgY21Llcr1qFmjcZpvT3qRcbJSh0b5VjtKRYrGjRvHqlWrUhxT61tyb1LO9K6CSMSxzYb0roJI5MgV6/SugkikbIXUG7frytUnqbauBHnds6T6Or90Gaa7UHy68PBwTpw4wezZs+nRo0d6V0cIIYT4qkmQJVTdunWjbNmyVKhQ4T91FQohhMgYtFol1V/fogyTkyU+XWBgIIGBgeldDSGEECJDkCBLCCGEEDok8T11SHehEEIIIUQakJYsId4he2O/9K6CSOTq8xzpXQWRSFTE0/SughBfNAmyhBBCCKFDK6M7pQrpLhRCCCGESAPSkiWEEEIIHZL4njqkJQu4desWGo2Gs2fPpndVxDtoNBo2bNiQ4nw5jkIIIb4k6d6S1aZNG5YsWQK8eQZgtmzZqFWrFuPHj8fGxuaz1CFHjhyEhIRgZ2f3WT5PiE9x4sJNFq35m0vX7/Ek7BVzhrWiSpmUn8X4OOwlkxZu4VLwPW4/eIpP3TIM7lQ3SbmX4VHMXLKDXYcu8iI8iu8cbBjQoTYVPPOm5eZkCFu3rmP9upU8e/aUnDmdaN+hJ/nzF06x/P79O1m/bgUPHtzDzMycosVK0bZtVywtrZKU/fvv3UybOpJSpcoxeMiEtNyMDOPvg1vZs289L14+w9EhJw3rt8clT/LfkWW/zeLYib1JpjvY52DowDkAHDqyk+Mn9vHg4W0Acn6Xhzq1fHDK5ZZ2GyEyhHQPsgBq1KhBQEAAcXFxXL58mXbt2vH8+XNWrlz5WT5fX18fBweHFOcrikJ8fDwGBl/E7hLfuKjXMeTN7UiDaiXoMXbZe8vHxMaR2cqMTs0qsWT9wRTLtBv8K7bW5swa8iP2dlY8fPIcM1Pj1K5+hnPgwB4W/erHz536ki9fQXZs38joUf2YM3cZWbIk/V25fPkcs2aOpV377niW9OZp2BP8501lzpyJDB6sG0Q9fvyQwIC5eHikHLAJXafOHGDthkU0bfQzuZ3zcfDwDuYtGM3QgXPIbJP02XmN/teBerVbqe/jtfFMmNKLokW81WnB1y9QvFg5Gjt3xMDAiN171zH3l5EMGTAba2vbz7Jdn9u3OkJ7avsiuguNjY1xcHDgu+++o1q1ajRt2pSdO3fqlAkICCBfvnxkypSJvHnzMm/ePHVeTEwM3bp1w9HRkUyZMuHk5MSECf/+WGk0Gvz9/alZsyYmJiY4Ozvzxx9/qPPf7mbav38/Go2GHTt2UKJECYyNjTlw4AA3btygXr162NvbY25uTsmSJdm9e7dOPefNm4erqyuZMmXC3t6eRo0aqfOio6Pp0aMHWbNmJVOmTJQtW5YTJ06o8xN/btGiRTExMaFSpUo8fvyYbdu2kS9fPiwtLWnevDmRkZHqcoqiMHnyZHLnzo2JiQmFCxdmzZo179zny5cvp0SJElhYWODg4ECLFi14/PjfJ9M/e/aMli1bkiVLFkxMTHB1dSUgIOCD9veLFy/46aefyJo1K5aWllSqVIlz586p80eOHEmRIkVYvHgxOXPmxNzcnM6dOxMfH8/kyZNxcHAga9asjBs3Lkm9Q0JCUjyOiSmKgouLC1OnTtWZfvHiRfT09Lhx48Y798+XrHzJvPRqXZ1q3gU+qPx39pkZ0qku9asUx9wsU7Jl1u08yYtXkcwZ3opi+Z3Ibm9D8QLO5M2dLTWrniFt3LiKKlVqU61aHXLkcKJDx57Y2WVl29YNyZa/evUSWbM6UKdOY+wdsuHhUZjqNepx/fpVnXLx8fFMnzaK5s3b4+Agx+FD7d2/Ea9SVShTuhoO9jlo9L8O2FjbceDQtmTLm5iYYWlpo77u3L1OVFQ4Xp6V1TJtfPpSvuwPfJc9Nw7239GiaVcURcvV4HPJrlOIBF9EkJXYzZs32b59O4aGhuq0hQsXMmTIEMaNG0dQUBDjx49n2LBhajejn58fmzZt4vfff+fq1assX74cJycnnfUOGzaMhg0bcu7cOX788UeaN29OUFDQO+vi6+vLhAkTCAoKolChQoSHh/PDDz+we/duzpw5Q/Xq1alTpw537twB4OTJk/To0YPRo0dz9epVtm/fTvny5XXWt3btWpYsWcLp06dxcXGhevXqhIWF6XzuyJEjmTNnDocPH+bu3bs0adKEmTNn8ttvv7FlyxZ27drF7Nmz1fJDhw4lICAAf39/Ll26RO/evfnxxx/566+/Uty2mJgYxowZw7lz59iwYQP//PMPbdq00dlfly9fZtu2bQQFBeHv7692p75rfyuKQq1atXj48CFbt27l1KlTFCtWjMqVK+ts540bN9i2bRvbt29n5cqVLF68mFq1anHv3j3++usvJk2axNChQzl69Oh/Oo4ajYZ27dqpgWGCxYsXU65cOfLkyZPivvkW7T16mSL5cjF67ga8m4+hTqfp/LJqL/Hx2vSu2hctNjaWG9evUaRoSZ3pRYqW5MqVi8kukzdvQUJDn3Dy5BEUReH5szAOH9pPiRJeOuVWrw7E0sqaqtVqp1n9M5q4uFju3rtBPvciOtPzuRfhn1tXPmgdR47uxt21MJkzZ02xTExMNPHaeExNLT6lul80Rauk+uu/mDdvHs7OzmTKlInixYtz4MCBd5ZfsWIFhQsXxtTUFEdHR9q2bcvTp+k3ntsX0f+1efNmzM3NiY+P5/Xr1wBMnz5dnT9mzBimTZtGgwYNAHB2duby5cvMnz+f1q1bc+fOHVxdXSlbtiwajYZcuXIl+YzGjRvToUMHdX0JgUriFrG3jR49mqpVq6rvbW1tKVz432b7sWPHsn79ejZt2kS3bt24c+cOZmZm1K5dGwsLC3LlykXRokUBiIiIwN/fn8DAQGrWrAm8CR537drFokWL6N+/v856vb3fNFW3b9+eQYMGcePGDXLnzg1Ao0aN2LdvHwMGDCAiIoLp06ezd+9evLze/Ejnzp2bgwcPMn/+fCpUqJDstiV+AHTu3Lnx8/PD09OT8PBwzM3NuXPnDkWLFqVEiRIAOkHru/b3vn37uHDhAo8fP8bY+E1X09SpU9mwYQNr1qzhp59+AkCr1bJ48WIsLCzw8PDg+++/5+rVq2zduhU9PT3c3d2ZNGkS+/fvp3Tp0v/pOLZt25bhw4dz/PhxPD09iY2NZfny5UyZMiXZffItu/swjKPnblDn+yLMH92W2/dDGT1vI/HxWrq2rJLe1ftivXz5Aq02HmvrzDrTra0y8+x58j/s+fIVpE/f4UyZMpzYmBji4+Px9CzLTz/1VssEXT7P7l2bmTkrINl1iOSFR7xEq9ViYWGtM93CwpqXL5+9d/kXL8K4fOUUbX7s+85yGzcvxcoqM3ndpBs3La1evZpevXoxb948vL29mT9/PjVr1uTy5cvkzJkzSfmDBw/SqlUrZsyYQZ06dbh//z6dOnWiQ4cOrF+/Ph224Atpyfr+++85e/Ysx44do3v37lSvXp3u3bsD8OTJE+7evUv79u0xNzdXX2PHjlW7fNq0acPZs2dxd3enR48eSboaATUASfz+fS1ZCQFGgoiICHx9ffHw8MDa2hpzc3OuXLmitmRVrVqVXLlykTt3bnx8fFixYoXarXfjxg1iY2PV4AnA0NAQT0/PJPUoVKiQ+n97e3tMTU3VACthWkLX3uXLl3n9+jVVq1bV2T9Lly59Z5fYmTNnqFevHrly5cLCwoKKFSsCqNvSuXNnVq1aRZEiRfD19eXw4cPqsu/a36dOnSI8PBxbW1ud+vzzzz869XFycsLC4t+rQHt7ezw8PNDT09OZlrgLEz7uODo6OlKrVi0WL14MvAnmX79+TePGjZMtHx0dzcuXL3Ve0dGxKe7DjESrKNhamzG6R0MKuH5HrYpF6NTse1ZtOfr+hQUajUbnvYKCBk2yZe/c+YeFC2fStGlbpk9fxIiR03j0KAT/eW+C/8jISKZPH0PXbr5YWlqnddUzpuSOhyb545HY0RN7MTExo1DBUimW2bVnHafOHKBj20EYGhp9clVFyqZPn0779u3p0KED+fLlY+bMmeTIkQN/f/9kyx89ehQnJyd69OiBs7MzZcuW5eeff+bkyZOfueb/+iKCLDMzM1xcXChUqBB+fn5ER0czatQo4E2LB7xp9Tl79qz6unjxotqVVKxYMf755x/GjBlDVFQUTZo00cmFSsn7vnRmZmY67/v378/atWsZN24cBw4c4OzZsxQsWJCYmBgALCwsOH36NCtXrsTR0ZHhw4dTuHBhnj9/jvL/o+cm+TFWkn75E3eVajQanfcJ0xL2S8K/W7Zs0dk/ly9fTjEvKyIigmrVqmFubs7y5cs5ceKEGuUnbEvNmjW5ffs2vXr14sGDB1SuXJl+/foB797fWq0WR0dHnbqcPXuWq1ev6rTWJbdN79rOd3nXcezQoQOrVq0iKiqKgIAAmjZtiqmpabJlJ0yYgJWVlc5rwi9r3/v5GUEWGwucsmdBX//fn4Q8ObLy5NkrYmLj0rFmXzZLSyv09PR59ky31erFi2dJWrcSrF2znHx5C9KgQQucnF0oVqwUnTr3YffuLYSFhfLw4X0ePw5h7JiB/K9+Bf5XvwL79m3n+PGD/K9+BUJC7n+OTfsqmZtZoqenx6u3Wq3CX71I0rr1NkVROHpsN57FK2JgYJhsmd371rNz9xq6/jyS7NmcUqnWXyatVkn1V/IXstHJfn5MTAynTp2iWrVqOtOrVaumc9GfWJkyZbh37x5bt25FURQePXrEmjVrqFWrVqrvnw/1RQRZbxsxYgRTp07lwYMH2Nvbkz17dm7evImLi4vOy9nZWV3G0tKSpk2bsnDhQlavXs3atWt1coDezu05evQoefN+3K3pBw4coE2bNvzvf/+jYMGCODg4cOvWLZ0yBgYGVKlShcmTJ3P+/Hlu3brF3r17cXFxwcjIiIMH/727KzY2lpMnT5IvX76PqkdiHh4eGBsbc+fOnST7J0eO5J/zduXKFUJDQ5k4cSLlypUjb968SVqMALJkyUKbNm1Yvnw5M2fOZMGCBeq8lPZ3sWLFePjwIQYGBknqkxpDZHzscfzhhx8wMzPD39+fbdu26XSTvm3QoEG8ePFC5zWoU8NPrvPXoFh+J24/eKoT1N66H0qWzBYYGX4RWQVfJENDQ/K4uHHu7Amd6WfPniRv3uRvTIiOfo1GT/enV09PHwBFge++y4nf7KXMnBWgvjw9y1KwYDFmzgrAzi7lXKFvnYGBITm+y8OVa7oJ6VeuncXZ6d2/98E3LvIkNASv0lWTnb977zq27/ydLj+PIFdO11Sr87ck2QvZCckPSxIaGkp8fDz29vY60+3t7Xn48GGyy5QpU4YVK1bQtGlTjIyMcHBwwNraWieH+XP7In89K1asSP78+Rk/fjxz5sxh5MiR9OjRA0tLS2rWrEl0dDQnT57k2bNn9OnThxkzZuDo6EiRIkXQ09Pjjz/+UHdugj/++IMSJUpQtmxZVqxYwfHjx1m0aNFH1cvFxYV169ZRp04dNBoNw4YN0zkpbd68mZs3b1K+fHlsbGzYunUrWq0Wd3d3zMzM6Ny5M/379ydz5szkzJmTyZMnExkZSfv27f/zvrKwsKBfv3707t0brVZL2bJlefnyJYcPH8bc3JzWrVsnWSZnzpwYGRkxe/ZsOnXqxMWLFxkzZoxOmeHDh1O8eHHy589PdHQ0mzdvVoPBd+3vKlWq4OXlRf369Zk0aRLu7u48ePCArVu3Ur9+/SRdsB/rY4+jvr4+bdq0YdCgQbi4uCTpbkzM2NhYzSNLoIQmf0WbniKiornz4N+Wk3uPwgi68QArCxOyZbVhWsA2Hj99yaR+TdUyQTceABD5OpqwFxEE3XiAoYE+Lrne/IA1r1Wa5ZsOMe6XP/mxbhluPwhl/up9+NT1RrxbvXrNmDljDC4ueXHPW4AdOzYR+uQRNWrWB2Dpkl94GvaE3r2HAVDS05u5cyaxbet6ihbz5FnYU3791Q9Xt3zY2r65EMmVK7fOZ5iZmSc7XSRVqWI9lq6YSc4cLjg7uXPo8A7CnoVSrkwN4E0+1YsXT2nVsrfOckeO7sYplxvZHJPm9O7as44t21bQ2qcvtpmzqvldxsaZMDY2SfuNSgdpMeL7oEGD6NOnj860t39z3/YhvT8JLl++TI8ePRg+fDjVq1cnJCSE/v3706lTp48+36eWLzLIAujTpw9t27ZlwIABdOjQAVNTU6ZMmYKvry9mZmYULFiQXr16AWBubs6kSZMIDg5GX1+fkiVLqgnUCUaNGsWqVavo0qULDg4OrFixAg8Pj4+q04wZM2jXrh1lypTBzs6OAQMG8PLlS3W+tbU169atY+TIkbx+/RpXV1dWrlxJ/vxvBsGbOHEiWq0WHx8fXr16RYkSJdixY8cnD7o6ZswYsmbNyoQJE7h58ybW1tYUK1aMwYMHJ1s+S5YsBAYGMnjwYPz8/ChWrBhTp06lbt1/B6g0MjJi0KBB3Lp1CxMTE8qVK8eqVauA9+/vrVu3MmTIENq1a8eTJ09wcHCgfPnySa5I/ov/chzbt2/P+PHj39mK9TW5GHyP1gP+bVWcuGAzAPWrFGdi3yY8CXvFg8fPdZb5X7dZ6v8vBd9n8/6zZMtqw94lAwFwzGLNonEdmDj/T+p1mYm9rSU+9bzp2Lhimm/P165cucq8evWC1asDCQt7Sq5czgwfPoWsWd+MkfXs2VNCnzxSy1eu/ANRUZFs2bKWxYvnYGZuTqGCxWndpnN6bUKGUrxoOSIiXrFtx2pevgzD0TEXXX4art4t+PLlM8KeheosExUVwdnzh2n0v47JrvPAoW3ExcexKHCSzvSa1ZtRq0bztNmQDCi5C9mU2NnZoa+vn6TV6vHjxymeSyZMmIC3t7eamlKoUCHMzMwoV64cY8eOxdHR8dM24D/QKErGf9S2RqNh/fr11K9fP72rItLBoUOHqFixIvfu3fvoQE+5uSFtKiX+k6ux0rL2Jbl7I/1ujRdJVf0h9Z7OcPL43VRbV4ISnsmnsKSkVKlSFC9eXOfucQ8PD+rVq5dsN2PDhg0xMDBg9erV6rQjR45QpkwZ7t+/T7Zsn3+8uS+2JUuITxUdHc3du3cZNmwYTZo0SZWWNCGE+BZov4D2lz59+uDj40OJEiXw8vJiwYIF3Llzh06dOgFvuh/v37/P0qVLAahTpw4dO3bE399f7S7s1asXnp6e6RJggQRZIgNbuXIl7du3p0iRIixb9v7HzwghhPhyNG3alKdPnzJ69GhCQkIoUKAAW7duVcdmDAkJUYcdgjfDC7169Yo5c+bQt29frK2tqVSpEpMmTUrpI9LcN9FdKMR/Jd2FXxbpLvyySHfhlyU1uwuPHbmdautKUMor6U0FGd0XOYSDEEIIIcTXToIsIYQQQog0IDlZQgghhNChTYNxsr5FEmQJ8Q6jWskYOF+SQX3rpHcVRCKPrMandxWE+KJJkCWEEEIIHWkx4vu3SHKyhBBCCCHSgARZQsetW7fQaDScPXs2vasihBBCfNWkuzCdPHz4kHHjxrFlyxbu379P1qxZKVKkCL169aJy5coftI6KFStSpEgRZs6cmbaV/UqdOXOG8ePH8/fff/PixQty5sxJhQoV6N+/P25ubuldvf8sV2FvyrToTTb3YljYObJqUBOuHPgzxfL1By+gyA8+SaY//ucy83yKA9Bm9g6cipZPUuba4W385tsg9SqfwZy8GU7g308Iuh/Jk1dxzPRxolJ+qxTLn74VzsxtIfzzJJrXMVocbYxo7GmLT7ksapndF5/z677H3H0aTWw85LIzolW5LNQplvlzbFKGsP+vzezYtY4XL8LI5piTpo1/wtW1QLJlA5ZM58jRPUmmOzrmZNRwfwAOH9lF4NKZScrM9VuPoaFRqtb9SyGJ76lDgqx0cOvWLby9vbG2tmby5MkUKlSI2NhYduzYQdeuXbly5Up6V/GjxMfHo9FodB7Ind42b95Mw4YNqV69OitWrCBPnjw8fvyYP/74g2HDhuk82+prY2hixqPrFzi7ZRlNx696b/lts/qx+5dh6ns9fQM6BR7j8r516rTVg5uhn+hkYWKVmc4Bx3XKiKSiYrW4O2aifgkb+ix//+CNJoZ6NPOyw83RBBNDPc7cjmD0unuYGOnRqJQtAFYmBnT83h7nrMYY6mv4K+glw9fcJbO5Ad5ulmm9SV+9Eyf/ZvUfC2nRrAsuefLx94Ht+M0dwcjh/tj+/0OiE2va5Gca1G+jvtdqtYwe143ixcrqlMuUyZQxI+frTMuoAZZIPV/OWfEb0qVLFzQaDcePH6dRo0a4ubmRP39++vTpw9GjRwFo164dtWvX1lkuLi4OBwcHFi9eTJs2bfjrr7+YNWsWGo0GjUbDrVu3APjrr7/w9PTE2NgYR0dHBg4cSFxcnLoerVbLpEmTcHFxwdjYmJw5czJu3Didz7p58ybff/89pqamFC5cmCNHjqjzAgMDsba2ZvPmzXh4eGBsbMzt27d59uwZrVq1wsbGBlNTU2rWrElwcHCyy7m7u2NqakqjRo2IiIhgyZIlODk5YWNjQ/fu3YmPj1eXi4mJwdfXl+zZs2NmZkapUqXYv39/ivs3MjKStm3b8sMPP7Bp0yaqVKmCs7MzpUqVYurUqcyfPz/FZb8G14/uZO/CUQT9vfGDykdHvCQ87JH6ypa3GCYWNpzZ8u+jhqJePdMpk6dEZWKjI7kkQdY7lXO3pHt1R6oUsP6g8vmym/JDERtc7DORPbMRtYva4O1mwelbEWqZknnMqVzAitxZM5HD1pgfy2bB1cGEM4nKiJTt2rOesmWqUa5sdRwdc9K0yU/Y2Njx199bky1vamKGlVVm9XXrdjCRkeF4e1XVKafRaHTKWVll7JZFRauk+utbJEHWZxYWFsb27dvp2rUrZmZmSeZbW1sD0KFDB7Zv305ISIg6b+vWrYSHh9OkSRNmzZqFl5cXHTt2JCQkhJCQEHLkyMH9+/f54YcfKFmyJOfOncPf359FixYxduxYdT2DBg1i0qRJDBs2jMuXL/Pbb78leXjykCFD6NevH2fPnsXNzY3mzZvrBGqRkZFMmDCBX3/9lUuXLpE1a1batGnDyZMn2bRpE0eOHEFRFH744QdiY2N1lvPz82PVqlVs376d/fv306BBA7Zu3crWrVtZtmwZCxYsYM2aNeoybdu25dChQ6xatYrz58/TuHFjatSooRPAJbZjxw5CQ0Px9fVNdn7CPv5WFa3dmpsn9/Li0Z13lrm45w9iX0d+xpp9e4LuR3L2dgTFnZP+FgAoisLR66+49SSa4s7mn7l2X5+4uFju3LmOh0dRneke+Ypx42bQB63j0OGd5M1bBFtb3Vav6OgoBg5pg++gVsyeO5I7d2+kWr1FxiXdhZ/Z9evXURSFvHnf/YypMmXK4O7uzrJly9RgISAggMaNG2Nu/ubH1sjICFNTUxwcHNTl5s2bR44cOZgzZw4ajYa8efPy4MEDBgwYwPDhw4mIiGDWrFnMmTOH1q1bA5AnTx7KltVtGu/Xrx+1atUCYNSoUeTPn5/r16+r9Y6NjWXevHkULlwYgODgYDZt2sShQ4coU6YMACtWrCBHjhxs2LCBxo0bq8v5+/uTJ08eABo1asSyZct49OgR5ubmeHh48P3337Nv3z6aNm3KjRs3WLlyJffu3VOfot6vXz+2b99OQEAA48cnHacnIfh63z7+FpnbOuBaqjprR7dJsUz2fCWwz1OATRM7f76KfWOqjL/Ms4g44rUKnas40NDTVmf+q9fxVBl/mdg4LXp6GobUy46Xq0U61fbrER7+Eq1Wi6WFtc50SwtrXr549t7ln78I4+Klk3Rop3uB5mCfgzatepM9uxOvoyLZs28Tk6b0Z/jQ2dhnzZ6am/DF0MpjjVOFBFmfWcLzuDUazXvLdujQgQULFuDr68vjx4/ZsmULe/YkTdBMLCgoCC8vL531e3t7Ex4ezr1793j48CHR0dHvTa4vVKiQ+n9HR0cAHj9+rAYuRkZGOmWCgoIwMDCgVKlS6jRbW1vc3d0JCvr3CtLU1FQNsADs7e1xcnJSA8eEaY8fPwbg9OnTKIqSJFE9OjoaW1vdE1OC//rM8+joaKKjo3WmxWkVDPTef6y+FkVq/sjr8Odc+XtTimWK1m7NoxsXuR908jPW7NsS2CkPkTFazt+JZNb2EHLYGvFDERt1vpmRHn/0cCMyRsux66+YuuUB32U2pmQeac36IG/9viooSaYl58iR3ZiYmFOkcGmd6blz5yV37n8v2vLk8WDshB7s2/cnzZp2Sp06iwxJgqzPzNXVFY1GQ1BQEPXr139n2VatWjFw4ECOHDnCkSNHcHJyoly5cu9cRlGUJAFc4sDOxMTkg+ppaGio/j9hfVqtVp1mYmKi8zkpBTZv1yfxehPWndy0hM/SarXo6+tz6tQp9PX1dcolDswSSwjIrly5gpeXV/IbmIwJEyYwatQonWkVcuhTMadhCkt8fYrWas25HSuJj4tNdr6hsQkFKjdm36Ixn7lm35bvMhsD4OZgQtirOPx3P9IJsvT0NOS0e1MmbzYTbj6OZtH+RxJkvYe5uSV6enq8fKnbavXq1QssLa3fuayiKBw6vIvSpb7HwODd33k9PT2ccrnx6PGDT62yyOAkJ+szy5w5M9WrV2fu3LlERCRNZH3+/Ln6f1tbW+rXr09AQAABAQG0bdtWp6yRkZFOgjiAh4cHhw8f1gl6Dh8+jIWFBdmzZ8fV1RUTE5P3toh9LA8PD+Li4jh27Jg67enTp1y7do18+fL95/UWLVqU+Ph4Hj9+jIuLi84rcTdpYtWqVcPOzo7JkycnOz/xPk5s0KBBvHjxQudV9ruMcx3iVLQctjlcOLM5MMUy+Ss1xMDQmPM7Vn6+in3jFCA2TvvecjFx0n3zPgYGhuTM6cLloDM604OCzpAn97t/h64FX+DxkweULVPtvZ+jKAp3793M0MnvkvieOiTISgfz5s0jPj4eT09P1q5dS3BwMEFBQfj5+SVpeenQoQNLliwhKChIzaFK4OTkxLFjx7h16xahoaFotVq6dOnC3bt36d69O1euXGHjxo2MGDGCPn36oKenR6ZMmRgwYAC+vr4sXbqUGzducPToURYtWvRJ2+Tq6kq9evXo2LEjBw8e5Ny5c/z4449kz56devXq/ef1urm50bJlS1q1asW6dev4559/OHHiBJMmTWLr1uTvFjIzM+PXX39ly5Yt1K1bl927d3Pr1i1OnjyJr68vnTol37xvbGyMpaWlzutL7Co0MjHDwaUQDi5vumutHZ1wcCmElX0OACr/PJr/Df01yXJFa7Xh3qXjPP7ncorrLlq7DVcO/EnUy7C0qXwGExkdz5UHUVx5EAXA/bAYrjyIIuR5DACztocwePW/NxisOhLK/ssvuB0aze3QaDacDGPJ34+pVfTfVqxf9z3iSPAr7j2N5p/Hr1l64Al/ng7TKSNSVrXy/zh4aCcHD+8kJOQOq/9YQNizJ1Qo9wMA6zYEsjhwWpLlDh7aibOTO9mzOyWZ9+fm37h0+RRPnoRw9+4Nliybxd27N6lQvmZab474ymWcy/SviLOzM6dPn2bcuHH07duXkJAQsmTJQvHixfH399cpW6VKFRwdHcmfP7+a+J2gX79+tG7dGg8PD6Kiovjnn39wcnJi69at9O/fn8KFC5M5c2bat2/P0KFD1eWGDRuGgYEBw4cP58GDBzg6OqYYeHyMgIAAevbsSe3atYmJiaF8+fJs3bo1SXfgf1nv2LFj6du3L/fv38fW1hYvLy9++OGHFJepV68ehw8fZsKECbRo0YKXL1+SI0cOKlWqpHOn5dcoW95itJm9U31fo8ebFruzW5exYfxPWNg6qAFXAmMzSzwq1mfbrH4prtc2hwu5CnuztFettKl4BnTpXhTtF/57l9mULW+6j+oWs2Fsk5w8eRnLw/8PuODNAI+zdjzkflgMBnrwna0xPWs60jhR4ntUjJZxG+7x6EUsxoZ6OGcxZnzTnNQoLEHWhyhZojwRES/ZsmUlL16Gkc0xF927jlLvFnzxIoywsCc6y0RGRXD6zGGaNfkp2XVGRoWzbMVsXr58hkkmM3LkyEP/vpNwdnJP8+1JLzIYaerQKP81S1h8FpGRkWTLlo3FixfToIGMvP25jSz7YTls4vMY1LdOeldBJHLUKundvSL9VKjkkmrr2rvzWqqtK0Glal/vkzb+K2nJ+kJptVoePnzItGnTsLKyom7duuldJSGEEEJ8BAmyvlB37tzB2dmZ7777jsDAQAwM5FAJIYT4PL7VRPXUJmfuL5STk9N/Hu9JCCGEEOlPgiwhhBBC6JDE99QhQzgIIYQQQqQBCbKEEEIIIdKADOEgRAYXHR3NhAkTGDRoEMbGxuldnW+eHI8vixwPkZYkyBIig3v58iVWVla8ePECS0vL9K7ON0+Ox5dFjodIS9JdKIQQQgiRBiTIEkIIIYRIAxJkCSGEEEKkAQmyhMjgjI2NGTFihCT1fiHkeHxZ5HiItCSJ70IIIYQQaUBasoQQQggh0oAEWUIIIYQQaUCCLCGEEEKINCBBlhBCCPGViY+PJy4uLr2rId5DgiwhxBclNjY2vasgkqHVatO7CuL/vX79Gh8fH1atWiXfly+cBFlCiC/GixcvMDQ0BGDnzp28evUqnWv07Up847miKOjpyeniS6Gvr8/169fx8/Nj06ZNxMTEpHeVRArkWyOE+CIsXbqUGjVqEBkZSdWqVZk0aRJGRkbpXa1vlkajAWDdunWcO3cOgLJly+Lv75+e1frmabVaDA0NOXz4MLa2tkyaNImNGzdKoPWFMkjvCgghhKIoZMqUCWNjY1xdXTE3NycoKEhaT9KRoijcvXuXjh07Uq1aNUJCQnj06BHNmjVL76p90xJaGA0MDJgyZQqNGzdm5syZ6OvrU6dOHbUlWHwZJMgSQqQrRVHQaDQ0adKEwMBAQkJCqFChAuHh4VhaWhIfH4++vn56V/Obo9FoyJkzJ3v37qVChQpotVrWrVuHjY0N8O9xE59Xwnehdu3amJqaYmlpSXBwMP379weQQOsLI5eJQoh0Ex8fr56oIyIiaNeuHYGBgWg0Gho0aEBISAj6+vqS3PuZxcfHA2+6psLDw3F1dcXW1pbFixdz/Phx4E0QljgZXh4e8vmMHj2aS5cuMXfuXHbv3s2NGzfIli0bQ4cOZfPmzfJ9+YJIkCWESBeJW6j69+/Phg0bqFu3Lq1ataJTp07ExsbSqlUrHj16hKGhIeHh4axbt46IiIh0rnnGlvi47Nixg1KlSnHixAnWrl3L8ePHmTp1KidOnABAT0+P169fA0irVhp6e6iGJ0+ekD9/fmxtbTE1NcXCwoI9e/ZgbGzM0KFD2bhxI9HR0elUW5GYBFlCiM9OURT1RN6gQQM2b96MRqMhMjISgCZNmtC9e3diY2OpV68eO3fupGjRomzYsAEzM7P0rHqGptVq1ePSrFkzRo0axe+//05MTAzFihVj2bJlnD59mpkzZ3Lw4EHCw8NxcXFh5cqV6VzzjM3A4E1mz+jRo3n27Bnx8fE8ffoUPT099PX1iYqKwsjIiP79+3P16lWGDBmi3qwg0pc8IFoIkW4GDhzI+vXrOXLkCJkzZwYgLCwMa2tr9PT02LNnD5MnT+batWuUK1eOpUuXpnONvw3NmjXj3Llz/Pnnn2TLlg1TU1O0Wi16enocPXqUDh06YGRkRGhoKB4eHmzfvj29q5whJW5V7NWrF0uXLuXOnTvcunULT09PevbsyYQJE9Tyq1at4siRI2TPnh1fX9/0qrZIRBLfhRCfTVxcnHpVDvDgwQNatWpF5syZOXr0KH///TezZs2icOHC+Pj40Lx5cypUqMDdu3dxdnYGUE/2IvUk3qfHjx/n4sWLbN26FWdnZ+7evcuhQ4fYtGkTDRo04Pvvv2fVqlWcOXOG2NhY2rVrl2Qd4tMlbu3dsmULWbNmZdu2bZibm1OgQAFmzpxJ7969ef78OT4+Pmg0GsaOHUuHDh3o1auXug7pxk1f0pIlhPjsunXrRt++fenVqxfnzp2jQYMG/P333zg5OVG6dGm2b9+OkZERGzdu1LlTSk4aqS9xcHTs2DEcHR0pUqQIixcvBuD333/n5MmTZM6cmePHj3P8+HFKlCiR4jrEfxceHk7Tpk1Zv369Okbcn3/+Sb169TA1NWXfvn2ULFlSLbt792569+6tjpFVunRp1q5dm271F0nJt0IIkeYS7lYDGD9+PL/99hvW1tasXr0ab29vzp8/T//+/Zk0aRL9+vWjRYsWxMXFJRlgUQKs1JV4JPcmTZrQr18/Xr16RaNGjejSpQvt2rXDw8ODxYsXc/ToUQoVKqQmvScmAVbquHv3Lrlz59YZhLdQoUKMHz8eRVHYtm2bOt3c3Jz69etz4cIFdu7cydatW9UASx6B9OWQ7kIhRJpIaHVK3O2xePFi9PT0WLlypTre0ooVK4iNjVVbrB49esSMGTOoUqWKJLmnocT5Pjt37iQmJobly5eTK1cuxo8fT5cuXcicOTM5c+YE4P79+8TExGBvb5+e1c7Q8uXLx+zZswEYMWIEvr6+5MqVi9atWxMTE8O4ceOwsLCgd+/eAMTExGBubk7+/PnVdUir4pdFgiwhRKqLjIzEy8uLLVu28N133wFw6NAhunXrRnR0NFu2bAEgOjoaY2NjDA0NCQkJ4bfffmPFihU4OzszY8YMQLoIU1NERAQbNmygZcuWaoA1fvx4tm/fjqWlJbly5QIgc+bM2NnZAfD06VOuXLlCly5dcHd3p0GDBulW/2/FvXv3mDdvHps3b+bAgQM4OjrSsWNHNBoNI0eORKPR0KtXr2QfOyUB1pdFjoYQItUkpHhGRETg4+OjBljw5ird398fe3t7AgICADA2NtYZ+DIkJISqVauyadMmdZoEWJ8u4bgMGzaMixcv6szT19fnzp07nD17litXrgBvTtSKohAVFcWaNWsYNmwYhQoVYv369YB0R6W2t/dn9uzZ2bNnDzExMZQtW5bIyEgcHR1p3749vr6+jBgxgjFjxqRTbcXHkMR3IUSqSNzi9Pvvv1O+fHkcHBzo1q0bP/30E4UKFeLFixds2LCB3r1707BhQxYuXAj828URFRWFiYmJzjTxaRIfl0uXLqldS3v37qVSpUrAm27cyZMnU7ZsWXx9fXFzc1OXv3btGg8fPqR8+fKAHJfUlrjb9uHDh+jr65MlSxYALly4QNOmTcmUKRMHDx7E1NSUkJAQZsyYwYsXL5g/f356Vl18CEUIIT6RVqtV/9+1a1fFyclJuXfvnvL8+XOldOnSSpYsWZTLly8riqIoz58/VwIDAxUHBwflp59+UpeLj49Pdn3iv0u8Hzt37qz07dtX0Wq1ysKFCxUXFxdl3rx56vzZs2crRYsWVbp06aJcu3btvesT/114eLiyZMkSJSwsTJ3WokULpVixYoqdnZ0ya9YsJTQ0VFEURblw4YKSL18+pUSJEkpERISiKIry7NkzdTk5Jl82CbKEEJ8k8Y98r169FGtra+XMmTPqtHv37il169ZVbG1tlUuXLimK8ibQWrJkieLg4KA0atToc1f5m5D4uPTp00cxNTVVj8uFCxeUNm3aKF5eXjqBlp+fn1K8eHGlS5cualAsUl9gYKCi0WiUyZMnK5GRkcrAgQOVAgUKKL/99psyePBgxdjYWOnTp49y//59RVHeHC8PDw/lu+++U6Kjo9X1SID15ZPEdyHEJ0noiurXrx/Lly/n77//pmDBgur8mJgY5s2bx88//0yFChX466+/8PDwoF69ekRERHD58uX0qnqGlnBcevfuzdKlSzl48CBFihQBoECBAkyePBlfX1+WLVsGQOfOnenevTsajYaJEyfi6elJvnz50qv6GY6SqNu2devWALRt2xYzMzNiY2NZuHAhpUuXBt7kL3bp0gWAvn37UqBAAZYvX87q1at1kt0lX/ErkN5RnhDi63f06FFFo9EoY8aMUafFx8crzs7Oiq+vr6LVapV79+4ptWrVUuzt7dUWrcjISLW8XJWnvrlz5yoajUYJCgpSp8XGxirVq1dXrly5oly7dk1t0fL391fL7Ny5Mz2qm2El/tvu2bOnUrt2bUVRFGXixImKRqNRjI2Nle3bt+sss3z5csXa2lrp06ePcufOHZ15ibvWxZdNgiwhRKoYOHCgYmpqqmzYsEHRarVKyZIllZo1a+rkndy7d0+pXbu2otFo1K4QkTZev36tjBo1SnFzc1P69++vTi9WrJhStWpV5eXLl4qiKMrVq1eVdu3aKWXKlFGmTJmisw45mX+6t7vTLSwslNOnT6vTFixYoGg0GmXAgAE6uVaK8ibQ0mg0yooVKz5XdUUqk+5CIUSqmDBhAoqi0LhxY7JmzUqRIkVYuXIlFhYWaldJ9uzZmTt3Lt9//z3ZsmVL7ypnaMbGxnTr1g1zc3MCAgKIiori2LFjZMuWjaVLl6rHxc3NjQEDBuDr60tkZKTOOuQuwk+jJOoiHDFiBEuWLOHo0aN4eHioz/Hs2LEj4eHh9O3bF1tbW37++WcsLS0BaNmyJblz58bLyys9N0N8AhnCQQjx0d51G//48eMZOnQoCxYsoEOHDup0JZlBRWU4gLSTsL+fPXvGokWLmD9/PuHh4dy6dUsdnyxh6AB4M3yAg4ODzrLiv0u8DwcMGMCUKVOoUaMGW7duVecriR5rNG3aNPr378/kyZP56aef1EArgXxXvk5yxIQQHyzhWYJ6eno6zyNMbPDgwQwcOJAuXbqwYsUKdXpyJ205aaSdhEca2djY0L59e37++Wfs7OwYOHAg8GYQ0sTHUAKs1JX4xoMFCxYwa9YsTpw4gY+Pjzpfo9GoA5H27duXqVOn4uvry7Rp03j9+rXO+uS78nWS7kIhxAeJi4vjxx9/xNDQkBUrVqgn6cStIQkSHmjboUMHNBoNLVq0SIcafxsiIyP59ddfqVWrFnny5NGZ93agBbBkyRJ69erFzJkz0dfXTxJUSYCVevr168fixYs5dOgQBQoUwNnZmR9//BEfHx+WLVum7uuEVqo+ffrw6tUrbty4QaZMmdK59iI1SGgshPggr1+/plChQly+fJmuXbsCSVtDEpswYQK9evXixx9/5MiRI5+zqt+ULVu20KdPHxYvXszt27eTzH870GrTpg179uyhTZs26nyRNnLnzs2BAwcoUKAAAD/88AO//fYbf/75J61atQKStmiNGDGCpUuXAv8+Dkl8vSQnSwjxwV6+fMmiRYtYsmQJXl5e+Pv7A6TYogVvHrHTpEmTz1nNb84vv/zCuHHjaNGiBV26dFEf9JxY4hytWbNmERMTw/jx49Ohthnf262Did9rtVq2b99OixYtqFu3rhpQJTynM6GcdNtmDBJkCSHeK3EQdfnyZbZv386SJUvw9vZm3rx5ScokRxJ3U190dDTGxsYArFy5kj59+tC6dWs6d+78zkArMjISU1NTnWni80kItHx8fKhVq5YaaImMR37xhBDvpCiKGjxVrlyZFStW0KhRI9q0acPBgwfVkanf1XUIkrib2hRFUQOsn3/+merVqzN69GiWL1+Ov79/il2HgARYqSwyMhI/Pz9u3LjxQeX19PSoWbMmy5YtY/ny5fKg5wxMfvWEEClKfBK+ePEikZGRdOjQgZw5c9K+fXvatm37UYGWSB0JXUvwJvdtx44dPH36lI4dOzJkyJB3BlqJSYCVOt6XF5ccjUZDjRo1OHPmDD///HMa11CkF7m7UAiRooSTcLt27QgNDaVo0aI4OzujKAqWlpa0a9cOeHPHWteuXZk7d+47uwxF6khoFVy5ciU3b97kl19+wdXVFXjzDEKAcePGoaenx88//5xs16FIPY0bN+bp06eMGzeOuLi4FPPi3qanp0fhwoUB6U7PqCTIEkIAKXcdKYpCtmzZWLFiBRUrVlSna7VarKysaNeunc5DhRMefitSX+K8ty1btjB06FCeP3+u3ikYExODkZERnTt3RqPRMHbsWJ4/f86YMWOwtbVNx5pnXAl5cZ06dcLKyoo+ffqg0WhSzItLiQRYGZMcVSEE8G+r1a5du3j8+DEALVq04MyZMwwYMIDx48eza9cu5syZg0ajQU9PTw20WrduzZIlSyTASkNRUVFqgLV161Zq1qxJhw4dMDQ0ZMaMGURERGBkZERsbCwAnTp1olevXhgaGkqAlUb+S16c+LbI3YVCCNWhQ4do1aoVjRo14syZM1y4cIFLly6ROXNmIiMjmTFjBsOGDeOXX37hp59+ApLeVSjdHqlv6tSpHD16lDVr1vDDDz/w7Nkzjhw5QnR0NFOnTmX9+vWUK1eO8ePHY2JiQmxsLIaGhjrrkCT31JX473zChAnMnz+fXbt24erqir+/P+PGjePHH3/86BYtkbFId6EQQuXt7U23bt0YMWIEhoaG7N27l8yZM6PVajE1NaVPnz4AdO3aFY1GQ8eOHZPkYEmAlfq8vb0ZPnw4efLkQU9Pj2PHjgFvHgLdr18/4uPj2bZtG0OGDGHs2LGYmprqBL8SYKU+yYsTH0KCLCG+UYlPvOfOnePBgwd4e3tjZWVFjhw50NPTY+XKlVhbW6snCBMTE3r37g286R5xcXHh+++/T7dtyIgSH5eYmBgiIiLw8vIiT548XLp0iUaNGmFtbQ28aU0xNjZmwIABaDQatm7dSteuXZk/fz5GRkbqOiXASj2SFyc+hgRZQnyDEp/Ix4wZw44dO4iKisLPz4969erRrl07pk+fzrJly4iNjaVnz57kzJkTeDPGkq+vLwUKFJAAK5UlPi4LFizgxIkT3LhxQ22lMjMzw8fHh1atWvHLL79gbm5OXFwcxsbG+Pr68vr1awwMDHQCLJF6oqKiMDExAXTz4mbNmsWMGTMoUqQIZmZmandtp06dCA8P5+7duxJgfasUIcQ3a+DAgYqjo6Ny4MAB5cGDB4qiKIpWq1XnT5w4USlatKji6+ur3LlzR4mLi1PKly+vXLx4US0THx//2eud0fn6+ipubm7KL7/8ouzatUtn3l9//aVYWloqLVu2VCIjIxVFUZSIiAhlzZo1OuUSH0fx6aZMmaI0bNhQURRFqVmzplK6dGlFURTl9evXytixY5XixYsrvXr1Uo9JTExMknXIMfn2SOK7EN+oTZs20bt3b/z9/alWrZrOvMRJvVOmTGHVqlVkypSJp0+fYmNjIw98TkMzZsxg4sSJ/Pnnn3h6eiZb5sCBA9StW5cKFSrQrl07Bg8ejIeHB7///jsgOVhp4ciRI1SuXBlHR0c1Ly5z5szAm2EcJk2axLZt2/Dy8pK8OKGSIEuIb9SwYcM4duwYa9aswdLSMsn8uLg4DAzeZBT88ccfXLt2Da1Wy7BhwwC5izAtvHjxggYNGlCzZk369ev3zrKnTp3if//7H1myZMHFxYXVq1cDcjJPDUoyeXE2NjYULFhQzYtbtWqVOoyJnp4e0dHRTJ48ma1bt5I3b94keXHi2yQ5WUJ8YxJOCocOHSJ79uxYWlomGzAZGBhw9uxZcuTIQePGjZNdh0hdT5484ciRIwwdOjTZ+Qkn/9DQUIoXL86lS5d48uQJuXPnBuS4pAZF8uJEKpJvoxDfmISTsKurK4cOHeLRo0fo6enxdqP2q1ev6NmzJ7t3705xHSJ1GRoaYmBgwMOHD5Odr9FoCAoKomnTpoSEhGBhYaEGWIqiyHFJBQkB1oABA5g2bRolSpRg8ODBGBsb06xZM+rUqcOmTZv4888/6dSpE1FRURgYGBAZGcnmzZsZN24co0aNAkjynRLfHvlGCvGNSfjhL126NC9fvmTevHm8ePECjUaj83Dn0NBQDA0NcXBwSK+qfnPMzc0xNzdny5YtREZGqtMTn6yvX7+Oo6MjVlZWOstKF2HqmTFjBoGBgSxbtoyff/6ZKlWq6MwvX748mzdvZsuWLTRv3pxNmzbh6empdtmCdNuKNyTIEuIbodVqgX9Pxm3btqV06dJMnz6d2bNnExoair6+PjExMVy+fJkGDRrg6OhIhQoV0rPaGV5CAKUoCra2towcOZLffvuNKVOmEB0dDfx7zEJCQpgwYQI5c+bE1NQ03eqckb148YLNmzfTv3//FG88AChXrhy7d+/m9OnTjBo1ivz588uNByIJSXwXIoNbtGgRJUqUoHDhwuq0xHc91ahRg+PHj5M9e3Zq167NzZs3CQoKIk+ePKxfvx6Qk0ZauH79Oi4uLkmmP336lPHjxzNjxgzat29PvXr1cHd35/jx40yYMIHcuXOzadMmQI5LWrh+/TqFChViy5YtyY4Dlzgvzs7OjlevXklenEiR/CUIkYE9f/6c3bt3s2HDBrRardpqoq+vT1xcHADbt29n1KhR5M2bl40bN5IpUyY6deqkBlharVZO5Knszz//pG/fvur7xNe6tra2DBgwAD8/P9auXUuTJk3ImzcvM2fOpEKFCmqAJcclbUhenEhN0pIlRAY3d+5clixZws6dO7G2tta50n774c6vX78mU6ZM6nu5Kk8bt2/fpnDhwowbN46uXbumWO7Bgwc8fvyY8PBwnJ2dyZ49OyDHJS09ffqUggULUqlSJRYsWKB2yyZuNfzzzz9ZvXq1znwhkiPfUiEyqITrp65du2Jqakr37t0B3TsD3364s6Ghoc57OZGnvvj4eHLlysWcOXPYuHEjQUFByZbTarVky5aNIkWKULZsWTXAktaS1Cd5cSKtyDdViAwq8d2Co0aN4vnz5xw6dAhI+dbyt4MukfoS9nGxYsXUscgAnTs7IeUAV7oIU8/169eBf/dpwr8NGzakd+/ejBo1im7durF582aCg4NZsWIFVatWxc7OjvHjxwMyTIN4NwmyhMggkvuxTzih58+fn/j4eDZs2ADIifpL4OHhQaVKlejTpw9PnjyRAPczk7w48TlITpYQX7nY2FhiY2MxNTVN9m6zhGnHjx+nWrVqrFy5kpo1a6ZTbQXo5vc0adIEFxcXRo4cKaOEf0aSFyc+B/kLEeIrFhMTQ5s2bRg3bhzh4eFoNJokLVoajQatVounpyfdunVjy5YtvHjxIp1q/G2IiIhg/vz5SboAEyQOhKtUqcLZs2fVY5IwnplIO5IXJz4X+SsR4itmaGiIvr4+e/bsYc6cObx69SrZQCvhhFC6dGkOHjzInTt3ADmhp5U9e/bQuXNnJkyY8N593KFDB0JCQtQHb8vJO+1JXpz4XOTbLMRXKiEfZOnSpXh6erJlyxbmzJmTYosWQO3atfH09KRNmzZERUXJCT2N1K1bl4CAAEaOHMmYMWPUMcneFh8fj56eHvPmzePSpUvs27fvM9f02yZ5cSKtyS+sEF+pxEFU48aN0dPTIzAwkF9++YWIiIgkgVZCi0r//v1xdnbm2LFjn73O34KEgKp169YsWrSIUaNGMWfOHGJjY5OUTTipu7i4kCVLFvXuT5H2Er4b/fr1o1y5csyYMYOYmJh0rpXIaCTIEuIrlXCC/uGHHxg/fjyWlpbAm4fbJteildBq5eTkRPPmzXUesyNSh1arxcDAAIBOnTpx8eJF9PT06NOnD5MmTUoxRytLliz89NNP3L17Vx2XSXwayYsTXwK5u1CIr9isWbOYPn06J06cwM7ODj09Pdq3b8+JEyfw8fGhS5cumJmZqXdCJdzVJs+8S1utW7fmxIkTBAYG8uzZM44dO8aoUaMYMWIEQ4YMSbFbKiIiAjMzs89c24xp06ZN1K9fn9GjRzN48OB3do1rtVqKFy9OqVKl+OWXXz5jLUVGZ5DeFRBCfLi4uDi1pQQgKioKOzs7zM3N1WkLFiygUaNGTJkyBa1WS6dOnbCysgKSDrooUkfi2/lfvHjB+fPn6devH56engBUr14dOzs7unXrhqmpKT169Eh2uAYJsFJPQl5c+/btiY+PZ8iQITrfnQQJj5aaN28evr6+7Nu3L9kHQwvxX0h3oRBfkYSTRP/+/Tlz5gwGBgZERkYSHR2Nnp4esbGx6Ovr069fP6Kjo/n111/566+/0rnWGVviAOvw4cNYWVlx584dXr9+rc5XFIW2bdtSsWJFfH19GTlypIwUnoYkL058KSTIEuIrkPjutGHDhrF8+XKcnZ1p164dYWFhdOvWDfj32YPh4eE0atSIQYMGUbdu3XSp87cgcYBVv359OnXqBECLFi345ZdfuHDhgjrfxMSEvHnzUqdOHR48eCCtiWlE8uLEl0S6C4X4QiXOm0o4afz+++9YWVmxZMkSrK2tAVi9ejWNGjWiZs2atGzZEhsbG/r370+jRo1o165dknWJ1JHQzQTw119/YWJiwsaNG4E3z767ceMGAwcOZOLEiRQsWJD79+9z+vRppkyZQrly5QA5LmkhIahNnBdXpUoVjh07xogRI9BqtSnmxdWoUYNy5cphbGz8uastMipFCPHFiYiIUEqVKqXcunVLnXbkyBFFo9EoGo1GWbt2rU75S5cuKV5eXoqbm5uSO3dupVmzZuo8rVb72eqd0b169UpZuXKlzrRp06YphQsXVipXrqyzr9euXavUqlVLMTY2VooXL67Y29srtWrVUufLcUld8fHx6v+fP3+uFClSRFm0aJFOmblz5yoajUaZMmWKEh0d/bmrKL5B0pIlxBeqWrVq5MqVS31fvHhxVq9eTZcuXdi0aRMNGjQA3rSoeHh48NdffxEWFkZkZCTOzs6APF8tNSmKwqRJkwgLC6NZs2bq9ITup4sXL/LgwQP10SsNGjTAy8uLo0ePcvPmTaysrOjQoQMgxyW1vZ0XV6ZMmSR5cRqNhrZt27JmzRp8fX0JCwtj3Lhx0pIo0pQM4SDEF65v3740b96cEiVKEBsby5o1a2jXrh2dOnVixowZQNK7DkG6otLC/fv31SBq//79VKxYEYCAgABmzJiBm5sb06ZNU4Pj5I6BBFip6+28uJs3b3L+/Hm6d+/OX3/9xYoVKyhYsKB6LLp06cL9+/exsbEhMDAwfSsvMjz5pgvxBYuOjmbPnj00bNiQ8+fPY2hoSJMmTVi0aBH+/v707dsXINlb0yXASn0JAdby5cv53//+x4IFCwBo27YtXbp04fHjxwwePPidz4aUACv1JDyWCJLPi/vuu+8YOHAgFy5cQKPRqHlx/fr1UwMsaWcQaUm+7UJ8Qd4+KRsbG3Pw4EHc3NyoU6cO58+fR19fn6ZNmxIQEMC8efNo3759OtX221W4cGF8fHyYOXOmGmh16tSJ5s2bc//+fQYPHszNmzflWXhpIDw8nFWrVgH/Dr8wffp0evbsyZMnT3BycgKgYsWKdOjQAY1GQ8mSJSlRogTFixfHzs5ObjwQn43kZAnxhUjc7REUFISxsTG5c+fG3NycTZs2UatWLerUqcOff/5JoUKFaNKkCRERERw5ciSda55xKYpCfHx8kpbCggUL8vPPP6MoCtOnTwfgp59+onPnzgD4+fmxY8cO9b1IHZIXJ742kpMlRDqKjIxkzpw51KpVi/z58wNvHvZ88eJFbt68Sbdu3fjxxx8pWrQoUVFR1KpVi3/++YeNGzdSqFAhnStxuSpPPa9fv0ZfX18ddwxg6NChPH/+HH19fWbMmIGenh5Xrlxh7ty57Nq1i759+9KxY0cA9uzZQ+XKldOr+hma5MWJr4n8lQmRDhKubfbt28fgwYOZP38+N2/eZOrUqVy/fh1/f39mzpzJhg0bmDp1KkeOHMHExIQtW7bg7OxMyZIluXv3rs7JQwKs1KEoCk2aNMHDw0MdIbxhw4asXLmSBw8esGHDBjw8PLhz5w558+ala9euVK9enenTp6s3IiQEWHINm/okL058TeQvTYjPLPGVdbVq1dixYwfr1q1j8eLF3L59m3HjxlGxYkU6d+6Mv78/Fy5cYPbs2Rw9ehQTExM2b97MyJEjyZEjRzpvScaSEBBpNBoGDhyIubk5FStWJCQkBDMzM44ePcoff/zBgQMHyJw5M5UrV1YDrc6dO1OyZEkePnyos04JfNOO5MWJr8JnHZVLiG9c4gEou3Tponh4eCiKoihLlixRHB0dFT09PWXx4sU6y+zcuVMpVKiQ0rx5c2X//v068xIPwCj+u8THZdasWcqqVauUkydPKnny5FFy5cqlVKxYUQkNDVXL3Lt3T/Hy8lLc3d2V27dvK4qiKA8ePEh2feLTaLVaJTY2Ntl5Fy9eVLp166a4u7sr8+fPV6fPmzdPyZs3rzJv3rzPVU0hkiVBlhCfSeITb69evRQbGxvl1KlT6rQNGzYodnZ2SrNmzZQrV67oLLtr1y4la9asctJIA4mPS8+ePRUjIyPlxo0biqIoysmTJxVvb28lS5YsyuPHjxVF+TewvXfvnlKmTBnFwsJCJwCTACt1REVFKTExMTrThgwZonTt2lXp0aOHehyCgoLUQGvBggVq2d27d3/W+gqRHAmyhPgMEp94R44cqVhYWCgXLlxQFEXRuUpfuXKlkj17dqV79+7KtWvXdNZx8eLFz1PZb0ji49K/f38lS5YsyunTp3Xmnzx5UnF3d1dKly6tPoolYbnbt28ro0aN+ryV/gZotVqlTp06iouLixpoNWjQQMmdO7fyv//9T8mZM6dOK2JQUJDSo0cPJW/evMr06dOTrEuI9CJBlhBpLPGPfN++fRWNRqMUK1ZMiYyMVKcn7vZbsWKFkj17dqVHjx5JAq23y4r/LvFxGTFihKLRaNRn3cXFxenMP3XqlOLq6qp4eXklCbQSyHH5dIn36aFDh5QiRYooZcqUUR48eKD4+Pgojx8/VuLi4pTbt28rXl5eiouLi06g5ePjo/j6+qZX9YVIQoZwEOIz6dWrF8uWLSMgIIB+/fqRPXt2Vq1ahb29PaB7W/nKlSvx9fWlUqVKTJ48WS0jUoeS6OaD3r174+/vj7e3N69evWLKlClUqFBBJxEe4PTp07Ro0QJbW1v27t2LsbFxutU/I0p8TPz8/LC3t8fFxYWmTZsSFxeHs7Mza9aswdbWFngzlEPjxo0JCwtj586d5MyZk5CQEBwdHZOsT4h0k54RnhDfirFjxyrW1tbKmTNnFEVRlCtXrii5cuVSvv/+e+Xhw4dqucStIQsXLlR69Ojxuav6TWnfvr1ia2urBAUFKWfOnFEaNWqkFC5cWPn7778VRXnTsvJ2i5alpaUyevTo9KpyhiR5cSKjkpYsIT6DdevW4eHhQd68edUWq+DgYKpWrUru3LlZuXJlsi1aCRS5Kk91oaGhNGzYkGnTplGiRAkADh48yKxZswgODmb27NmUK1cuSYvW7du31YEuxadL/Lft6+tLYGAgO3bsoGjRour806dP07JlS2xsbPjrr78wMjJSl7tz5w6BgYEMHz48PTdDiGRJkCXEZ/R2sJRSoCVB1ecRGxuLoaEh8fHx6nhKBw8exM/Pj2vXrqUYaIGMGp4aEv+djxw5ktGjR/Prr7/Srl079eHPibtrmzVrhp2dHfv379cJtBLIMRFfGgmyhEhlHxsgBQcHU6NGDZycnFi+fLmaUyI+r8THLSHQun79OrNmzVIfKCxSjyJ5ceIbICG/EKkoKiqKIUOGcPDgQXXa+65jXF1d2b59O4cPHyYwMDCNayhSotFo1GNVtmxZevbsqSZeX7t2LZ1rl/EkBE4dOnRg2bJlnD17Vn3mYM+ePTlw4IDOczkBihUrxm+//cbFixeZPHlyutVdiA9l8P4iQogPdezYMVatWsXdu3cxMjLC09NTPXm/q3XL1dWVW7duyV2EqSyl/Z5St1LiY+Xt7U10dDTly5fHzc3tc1T3mxMaGkpwcDDbt28nb968APTs2ZNZs2bRvXt3ne7ahONSrFgxzp8/L3lx4qsg3YVCpLKNGzcyfvx4cufOTa9evShVqhTw4d2IkleSOhLv74sXLxIdHY25uTnu7u7Au/dzcsdKjkvakLw4kZFJkCVEKomJicHIyAh4c5Lo2bMn7u7u9OzZ86MDLfFpEu/nESNGsGHDBq5fv06+fPlo1aoVPXr0SOcaiuRIXpzIaOQSQIhUkhBg1alTB3t7e0aPHq2eII4dOwbo5v2ItJFcQvX48eNZv349BgYGzJ49W3KsvlCSFycyGsnJEuITJe6yWLRoEadPnyYuLo5atWoRHx/P2LFjmTVrltqi9SE5WuK/S9ivQ4cOZcGCBZw8eZJ8+fIBb7oN+/Xrx8OHD3XyrKTbKe1IXpz4lkl3oRCpZObMmVy/fp0yZcrQokULdfqmTZsYO3Ysbm5udO/eXe06FGnnwYMHuLu74+3tzcyZM9Wk6hIlSnD69GkGDhyIpaUlbm5uNGjQQM0HkuA3dUlenPjWyV+rEP+RVqtV/3/mzBkWLFjA4sWLMTB400AcExMDQN26dRk6dCjBwcGMHDmSGzdupEt9vyXZsmVj48aN3LhxgylTpnDy5ElKliyJlZUVs2bNolChQmzfvp1Bgwbh7u5O9erVuXfvngRYqejtvLiWLVtSvnx5WrZsiZ+fH8A7A6bkjoUEWOJrIy1ZQvwHDx8+xMHBAYBff/2VDh06sGrVKsaOHYuhoSG7d+/G1tZWvXMKYPXq1QQFBTFy5Mh0rHnGk/hkHhERQXx8PCYmJhgaGrJv3z7atWtHWFgYBQsWZO/evWruXGRkJHFxcUyZMgUDAwNGjBiRnpuRobydF7dixQoCAgIwNDRk+PDhPH36lC1btkgXoMjwJMgS4iP5+fkREBDAxo0b6dy5M1euXOHq1avo6emxZs0apk2bhp2dHcuWLSNz5sw6gVYC6ZZKHYn346JFizhx4gT6+voMHDiQHDlyAHDgwAF8fHwoVaoUQ4YMoVChQgA6QwYktz7x6YYOHcqMGTN08uKmT59Ov3792L9/P+XLl1fLSlegyIgkyBLiIz1//hx3d3c0Gg1mZmYcO3YMOzs74M2JYtWqVcybNw8bGxuWLl2KjY1Nsid0kXqGDBnC2rVr6dWrF7lz56ZatWpotVpiYmLIlCkTe/bsoUOHDnh7e9OvXz+KFCkCyIk9LUlenBCSkyXEOyW+Bnn16hV3797F2tqaUqVK8eTJE+zt7Xn16pWan6Wnp0ezZs3o2rUrz549o2bNmkREREiAlYbGjh3L/PnzWbhwIe3bt1cDrI4dOzJt2jQiIiKoXLkyCxcu5MiRI0ybNo3jx48DkuOTliQvTghpyRIiRYmvqP38/Dh06BDnzp3jyJEjnDp1iu+++46qVavi7OyMv78/+fPnV5dJaNG6du2a5GCloUuXLuHj48PgwYNp1KgR8KYbsFSpUly7dg0PDw8aNWpE586dMTMzY8+ePdSuXZsZM2bQqVOndK59xiF5cUIkT4IsId7D19eXdevWMW7cOBwdHSlfvrzazRQSEkLJkiXJnTs3CxcuxN3dndevX+Pv70/v3r3VdUgXSNrYvXs3zZo14+jRo7i4uAAwbNgwDh48yO+//87QoUO5dOkStWrVokePHpiZmREUFKTmB4lPJ3lxQqRMgiwh3mHevHmMGTOGdevW4eXlpTMvLi4OAwMDHj16RMmSJcmePTstWrRgwYIFZM2alT179qRTrTOm5E6+gYGBdOrUidDQUMzNzdXpERERmJmZAdCkSRPOnTvHtm3byJ07t1pG8rFSl+TFCZGU/GULkQxFUYiJiWHbtm107NgxSYAFYGBgQFxcHPb29pw4cQJjY2M2bNhA8eLF1QBLrmFSR+IAa/v27cTFxQFv8n4A/vjjD2JjY9XyZmZmapnatWvj5uaGpaWlzjrlxJ56JC9OiBQoQohkhYSEKJaWlsoff/yhKIqiaLXaZMvdv39fURRFiYqKUp48eaJOj4+PT/tKfgMS7/du3bop+vr6ysOHD9Vpnp6eiqurq3L48GElLi5OZ9k7d+4oxYsXVwYPHvzZ6vutuXjxolK0aFH1e6IoihIXF6cUL15csbCwUEqVKqVMmTJFCQ8PVxRFUXbv3q1kypRJ8ff3T68qC/HZyCWEECmwsLDAxMSEq1evAsmPQB0cHEzVqlX5559/yJQpkzqUg6IocoWeCpS3BrVcuXIlp06dwt7eXi2zePFi4uPjadeuHWvWrCE6OpqXL19y8OBBqlWrhqOjI+PGjVPXJ1JXSEgId+7cUbv/AEaOHImFhQU3btygcOHCbNiwAT8/P7VF6/Tp03LjgfgmyFlAiHfImTMnW7du5fr16+q0xI/TSXjQsIWFhc5ykribOhL244ABA1iyZAmHDx+mcOHCwJvjcPLkSfLnz8+6deswMTGhVatWODo64u7uTufOnSlZsiR//vmnWl6Oy6dJLki9d+8e4eHh6hMQAMaMGcPmzZvJkiUL8+fPJ1u2bAQGBvLo0SMA9caDxN8lITIiCbKESIGZmRmTJk3i+PHjjB07ln/++Qf4N4fk/v379O/fHycnJ7UFS6S+Xbt24efnR8uWLdXHsMTExODl5cWKFStQFIXChQtz8uRJAgICGDRoEGPGjGHu3LksXboUkOTq1KBIXpwQH03uLhTiPfz9/enZsyflypWjfv36lC5dmhMnTjBv3jxy587Npk2bALn1PK2EhIQwduxYzp8/T+PGjenRowelS5fGwsKCdevWYWFh8c4R9eW4fLrE+7B79+74+/tz//59tdu2VKlSPHv2jCVLluDp6alzLO7evcv//vc/qlevrnbbCvGtkCBLiA+wY8cOevfuzf3793n16hVeXl6ULl2aadOmAdJSktYePnzIuHHjOH78OLdu3aJ48eJs2rQJAwOD9K5ahvd2XtyyZcvYs2eP2m0LbwaFrVu3LkZGRowcOZL69esTHR3N+fPn6dixIy4uLmq3rQS94lsiQZYQH+jZs2dER0cTGhpKzpw51a4PCbA+j4cPHzJhwgQ2btxI27Zt1dHB5bmQn8eAAQNYuHAhR48eVbtttVotp0+fpkSJEpw7d462bdty6dIlzMzMMDY2xs7OjqJFi0q3rfhmyWWgEB/IxsYGQCfBV+4i/HwcHBwYPHgwWq2Wbdu2kSlTJgYMGIC+vr4EWmksIS+uQ4cOOnlx5cqVo0yZMhQvXlzNi1u1ahX379/HxsYGNzc3ypcvD0iAJb5N0pIlhPiqJHQdnjp1inr16jFgwID0rlKGJ3lxQvw3EmQJIb46Dx8+ZPz48WzZsgU/Pz9q1aqV3lXK8CQvToiPJ223QoivjoODAwMGDGDkyJESYH0mDg4ODBkyhNKlS2NiYkKpUqXUACs+Pj6dayfEl0lasoQQXz3pjvp8Hj16xNixYzlx4gT/+9//1O5ayYsTIikJsoQQQnwUyYsT4sNId6EQQoiPktB1WKJECRYsWMCWLVvSu0pCfJGkJUsIIcR/cv/+ffbu3YuPj096V0WIL5IEWUIIIT6Z5MUJkZR0FwohhPhkEmAJkZQEWUIIIYQQaUCCLCGEEEKINCBBlhBCCCFEGpAgSwghhBAiDUiQJYQQQgiRBiTIEkIIIYRIAxJkCSGEEEKkAQmyhBBCCCHSgARZQgiRRmJiYtK7CkKIdCRBlhBCfKBXr17RsmVLzMzMcHR0ZMaMGVSsWJFevXoB4OTkxNixY2nTpg1WVlZ07NgRgLVr15I/f36MjY1xcnJi2rRpOuvVaDRs2LBBZ5q1tTWBgYEA3Lp1C41Gw6pVqyhTpgyZMmUif/787N+/P423WAjxKSTIEkKID9SnTx8OHTrEpk2b2LVrFwcOHOD06dM6ZaZMmUKBAgU4deoUw4YN49SpUzRp0oRmzZpx4cIFRo4cybBhw9QA6mP079+fvn37cubMGcqUKUPdunV5+vRpKm2dECK1GaR3BYQQ4mvw6tUrlixZwm+//UblypUBCAgIIFu2bDrlKlWqRL9+/dT3LVu2pHLlygwbNgwANzc3Ll++zJQpU2jTps1H1aFbt240bNgQAH9/f7Zv386iRYvw9fX9hC0TQqQVackSQogPcPPmTWJjY/H09FSnWVlZ4e7urlOuRIkSOu+DgoLw9vbWmebt7U1wcDDx8fEfVQcvLy/1/wYGBpQoUYKgoKCPWocQ4vORIEsIIT6AoijAm/yp5KYnMDMzSzL/fctoNJok02JjYz+oXm+vWwjx5ZAgSwghPkCePHkwNDTk+PHj6rSXL18SHBz8zuU8PDw4ePCgzrTDhw/j5uaGvr4+AFmyZCEkJESdHxwcTGRkZJJ1HT16VP1/XFwcp06dIm/evP9pe4QQaU9ysoQQ4gNYWFjQunVr+vfvT+bMmcmaNSsjRoxAT0/vna1Jffv2pWTJkowZM4amTZty5MgR5syZw7x589QylSpVYs6cOZQuXRqtVsuAAQMwNDRMsq65c+fi6upKvnz5mDFjBs+ePaNdu3Zpsr1CiE8nLVlCCPGBpk+fjpeXF7Vr16ZKlSp4e3uTL18+MmXKlOIyxYoV4/fff2fVqlUUKFCA4cOHM3r0aJ2k92nTppEjRw7Kly9PixYt6NevH6ampknWNXHiRCZNmkThwoU5cOAAGzduxM7OLi02VQiRCjTK24kAQgghPkhERATZs2dn2rRptG/fPs0+59atWzg7O3PmzBmKFCmSZp8jhEhd0l0ohBAf6MyZM1y5cgVPT09evHjB6NGjAahXr14610wI8SWSIEsIIT7C1KlTuXr1KkZGRhQvXpwDBw5Il50QIlnSXSiEEEIIkQYk8V0IIYQQIg1IkCWEEEIIkQYkyBJCCCGESAMSZAkhhBBCpAEJsoQQQggh0oAEWUIIIYQQaUCCLCGEEEKINCBBlhBCCCFEGpAgSwghhBAiDfwfSkq1xh9vuUsAAAAASUVORK5CYII=",
      "text/plain": [
       "<Figure size 600x600 with 2 Axes>"
      ]
     },
     "metadata": {},
     "output_type": "display_data"
    }
   ],
   "source": [
    "# Calculate all fold changes\n",
    "all_fold_changes = []\n",
    "for cell_type in ['Trophoblast']:\n",
    "    t1_control = pathway_matrix.loc[f\"{cell_type}_T1_Control\"]\n",
    "    t3_control = pathway_matrix.loc[f\"{cell_type}_T3_Control\"]\n",
    "    t3_fgr = pathway_matrix.loc[f\"{cell_type}_T3_FGR\"]\n",
    "    \n",
    "    # Calculate fold changes\n",
    "    fc_third_first = (t3_control / t1_control).replace([np.inf, -np.inf], np.nan)\n",
    "    fc_fgr_control_t1 = (t3_fgr / t1_control).replace([np.inf, -np.inf], np.nan)\n",
    "    fc_fgr_control_t3 = (t3_fgr / t3_control).replace([np.inf, -np.inf], np.nan)\n",
    "    \n",
    "    # Add to list with comparison labels\n",
    "    all_fold_changes.extend([\n",
    "        {'cell_type': cell_type, 'comparison': 'Ctrl Third / Ctrl First', **fc_third_first.to_dict()},\n",
    "        {'cell_type': cell_type, 'comparison': 'FGR Third / Ctrl First', **fc_fgr_control_t1.to_dict()},\n",
    "        {'cell_type': cell_type, 'comparison': 'FGR Third / Ctrl Third', **fc_fgr_control_t3.to_dict()}\n",
    "    ])\n",
    "\n",
    "# Create combined fold change DataFrame\n",
    "fc_combined_df = pd.DataFrame(all_fold_changes)\n",
    "fc_combined_df['group'] = fc_combined_df['comparison']\n",
    "fc_matrix = fc_combined_df.set_index('group')[pathway_names]\n",
    "fc_matrix.columns = fc_matrix.columns.str.replace('_', ' ')\n",
    "fc_matrix.index = fc_matrix.index.str.replace('_', ' ')\n",
    "\n",
    "# Create the side-by-side fold change heatmap\n",
    "plt.figure(figsize=(6, 6))\n",
    "sns.heatmap(fc_matrix.T, \n",
    "            annot=True, \n",
    "            cmap='PuOr_r',\n",
    "            center=1,\n",
    "            cbar_kws={'label': 'Fold Change'},\n",
    "            fmt='.2f')\n",
    "plt.xticks(rotation=45)\n",
    "plt.tight_layout()\n",
    "plt.savefig(\"sp_FCheatmap.png\", dpi=300, bbox_inches='tight')\n",
    "plt.show()"
   ]
  },
  {
   "cell_type": "markdown",
   "id": "9a3aa649",
   "metadata": {},
   "source": [
   
